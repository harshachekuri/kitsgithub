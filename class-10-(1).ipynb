{
 "cells": [
  {
   "cell_type": "code",
   "execution_count": 5,
   "id": "1a2f382f",
   "metadata": {},
   "outputs": [
    {
     "name": "stdout",
     "output_type": "stream",
     "text": [
      "ẞ2g4f6\n",
      "ẞẞggggffffff\n"
     ]
    }
   ],
   "source": [
    "# ASSIGNMENT\n",
    "# input=s2b3c6\n",
    "# output=ssbbbcccccc\n",
    "a=input()\n",
    "out=\"\"\n",
    "for i in a:\n",
    "    if i.isalpha():\n",
    "        alp=i\n",
    "    else:\n",
    "        dig=int(i)\n",
    "        out=out+alp*(dig)\n",
    "print(out)"
   ]
  },
  {
   "cell_type": "code",
   "execution_count": 6,
   "id": "24fc8ce2",
   "metadata": {},
   "outputs": [
    {
     "name": "stdout",
     "output_type": "stream",
     "text": [
      "[0 1 2 3 4 5 6 7 8 9]\n"
     ]
    }
   ],
   "source": [
    "import numpy as np\n",
    "k=np.arange(10)\n",
    "print(k)"
   ]
  },
  {
   "cell_type": "code",
   "execution_count": 7,
   "id": "d6391aa6",
   "metadata": {},
   "outputs": [
    {
     "name": "stdout",
     "output_type": "stream",
     "text": [
      "int64\n",
      "[[0 1]\n",
      " [2 3]\n",
      " [4 5]\n",
      " [6 7]\n",
      " [8 9]]\n"
     ]
    }
   ],
   "source": [
    "k=np.arange(10)\n",
    "a=k.reshape(5,2)\n",
    "b=k.dtype\n",
    "print(b)\n",
    "print(a)"
   ]
  },
  {
   "cell_type": "code",
   "execution_count": 8,
   "id": "07e7923c",
   "metadata": {},
   "outputs": [
    {
     "name": "stdout",
     "output_type": "stream",
     "text": [
      "1\n"
     ]
    }
   ],
   "source": [
    "k=np.arange(10)\n",
    "print(k.ndim)"
   ]
  },
  {
   "cell_type": "code",
   "execution_count": 9,
   "id": "075f55e9",
   "metadata": {},
   "outputs": [
    {
     "name": "stdout",
     "output_type": "stream",
     "text": [
      "[[4 4]\n",
      " [4 4]\n",
      " [4 4]\n",
      " [4 4]\n",
      " [4 4]]\n"
     ]
    }
   ],
   "source": [
    "kk=np.full((5,2),4)\n",
    "print(kk)"
   ]
  },
  {
   "cell_type": "code",
   "execution_count": 10,
   "id": "0d0ecb2b",
   "metadata": {},
   "outputs": [
    {
     "name": "stdout",
     "output_type": "stream",
     "text": [
      "[0.36587369 0.36996983 0.03780866 0.26221188 0.40417844]\n"
     ]
    }
   ],
   "source": [
    "rd=np.random.rand(5)\n",
    "print(rd)\n",
    "# we will get 5 no,s randomly\n",
    "# only +ve no's"
   ]
  },
  {
   "cell_type": "code",
   "execution_count": 11,
   "id": "56be8f0b",
   "metadata": {},
   "outputs": [
    {
     "name": "stdout",
     "output_type": "stream",
     "text": [
      "[-0.85221942 -0.02291952 -0.06825319  0.82224313  0.62947253]\n"
     ]
    }
   ],
   "source": [
    "rd=np.random.randn(5)\n",
    "print(rd)\n",
    "# combination of +ve & -ve"
   ]
  },
  {
   "cell_type": "code",
   "execution_count": 12,
   "id": "6f607476",
   "metadata": {},
   "outputs": [
    {
     "name": "stdout",
     "output_type": "stream",
     "text": [
      "[[ 0  1  2  3]\n",
      " [ 4  5  6  7]\n",
      " [ 8  9 10 11]]\n"
     ]
    }
   ],
   "source": [
    "ktr=np.arange(12).reshape(3,4)\n",
    "print(ktr)"
   ]
  },
  {
   "cell_type": "code",
   "execution_count": 13,
   "id": "b2812ef1",
   "metadata": {},
   "outputs": [
    {
     "name": "stdout",
     "output_type": "stream",
     "text": [
      "[[ 0  1]\n",
      " [ 2  3]\n",
      " [ 4  5]\n",
      " [ 6  7]\n",
      " [ 8  9]\n",
      " [10 11]]\n"
     ]
    }
   ],
   "source": [
    "ktr=np.arange(12).reshape(6,2)\n",
    "print(ktr)"
   ]
  },
  {
   "cell_type": "code",
   "execution_count": 14,
   "id": "47c0074a",
   "metadata": {},
   "outputs": [
    {
     "name": "stdout",
     "output_type": "stream",
     "text": [
      "0\n",
      "11\n",
      "3.452052529534663\n"
     ]
    }
   ],
   "source": [
    "ktr=np.arange(12).reshape(3,4)\n",
    "print(ktr.min())\n",
    "print(ktr.max())\n",
    "print(ktr.std())"
   ]
  },
  {
   "cell_type": "code",
   "execution_count": 15,
   "id": "7156ac4e",
   "metadata": {},
   "outputs": [
    {
     "name": "stdout",
     "output_type": "stream",
     "text": [
      "[ 1  3  5  7  9 11]\n"
     ]
    }
   ],
   "source": [
    "ktr=np.arange(12).reshape(6,2)\n",
    "a=np.max(ktr,axis=1)\n",
    "print(a)"
   ]
  },
  {
   "cell_type": "code",
   "execution_count": 16,
   "id": "f69e0ceb",
   "metadata": {},
   "outputs": [
    {
     "name": "stdout",
     "output_type": "stream",
     "text": [
      "[0 1]\n"
     ]
    }
   ],
   "source": [
    "ktr=np.arange(12).reshape(6,2)\n",
    "a=np.min(ktr,axis=0)\n",
    "print(a)"
   ]
  },
  {
   "cell_type": "code",
   "execution_count": 17,
   "id": "faf99c06",
   "metadata": {},
   "outputs": [
    {
     "name": "stdout",
     "output_type": "stream",
     "text": [
      "[  1.    25.75  50.5   75.25 100.  ]\n"
     ]
    }
   ],
   "source": [
    "ln=np.linspace(1,100,5)\n",
    "print(ln)"
   ]
  },
  {
   "cell_type": "markdown",
   "id": "695ec02d",
   "metadata": {},
   "source": [
    "# PANDAS\n",
    "- pandas as data sets \n",
    "- series--->1D\n",
    "- dataframes--->2D\n",
    "- datasets"
   ]
  },
  {
   "cell_type": "code",
   "execution_count": 18,
   "id": "248b52a6",
   "metadata": {},
   "outputs": [
    {
     "name": "stdout",
     "output_type": "stream",
     "text": [
      "['BooleanDtype', 'Categorical', 'CategoricalDtype', 'CategoricalIndex', 'DataFrame', 'DateOffset', 'DatetimeIndex', 'DatetimeTZDtype', 'ExcelFile', 'ExcelWriter', 'Float64Index', 'Grouper', 'HDFStore', 'Index', 'IndexSlice', 'Int16Dtype', 'Int32Dtype', 'Int64Dtype', 'Int64Index', 'Int8Dtype', 'Interval', 'IntervalDtype', 'IntervalIndex', 'MultiIndex', 'NA', 'NaT', 'NamedAgg', 'Period', 'PeriodDtype', 'PeriodIndex', 'RangeIndex', 'Series', 'SparseDtype', 'StringDtype', 'Timedelta', 'TimedeltaIndex', 'Timestamp', 'UInt16Dtype', 'UInt32Dtype', 'UInt64Dtype', 'UInt64Index', 'UInt8Dtype', '__builtins__', '__cached__', '__doc__', '__docformat__', '__file__', '__getattr__', '__git_version__', '__loader__', '__name__', '__package__', '__path__', '__spec__', '__version__', '_config', '_hashtable', '_is_numpy_dev', '_lib', '_libs', '_np_version_under1p14', '_np_version_under1p15', '_np_version_under1p16', '_np_version_under1p17', '_np_version_under1p18', '_testing', '_tslib', '_typing', '_version', 'api', 'array', 'arrays', 'bdate_range', 'compat', 'concat', 'core', 'crosstab', 'cut', 'date_range', 'describe_option', 'errors', 'eval', 'factorize', 'get_dummies', 'get_option', 'infer_freq', 'interval_range', 'io', 'isna', 'isnull', 'json_normalize', 'lreshape', 'melt', 'merge', 'merge_asof', 'merge_ordered', 'notna', 'notnull', 'offsets', 'option_context', 'options', 'pandas', 'period_range', 'pivot', 'pivot_table', 'plotting', 'qcut', 'read_clipboard', 'read_csv', 'read_excel', 'read_feather', 'read_fwf', 'read_gbq', 'read_hdf', 'read_html', 'read_json', 'read_orc', 'read_parquet', 'read_pickle', 'read_sas', 'read_spss', 'read_sql', 'read_sql_query', 'read_sql_table', 'read_stata', 'read_table', 'reset_option', 'set_eng_float_format', 'set_option', 'show_versions', 'test', 'testing', 'timedelta_range', 'to_datetime', 'to_numeric', 'to_pickle', 'to_timedelta', 'tseries', 'unique', 'util', 'value_counts', 'wide_to_long']\n"
     ]
    }
   ],
   "source": [
    "# pandas is lib from\n",
    "import pandas as pd\n",
    "print(dir(pd))"
   ]
  },
  {
   "cell_type": "code",
   "execution_count": 19,
   "id": "05280ac5",
   "metadata": {},
   "outputs": [
    {
     "name": "stdout",
     "output_type": "stream",
     "text": [
      "0    1\n",
      "1    2\n",
      "2    3\n",
      "3    4\n",
      "4    5\n",
      "dtype: int64\n"
     ]
    }
   ],
   "source": [
    "a=pd.Series([1,2,3,4,5])# S is capital\n",
    "print(a)"
   ]
  },
  {
   "cell_type": "code",
   "execution_count": 20,
   "id": "38f4d135",
   "metadata": {},
   "outputs": [
    {
     "name": "stdout",
     "output_type": "stream",
     "text": [
      "0    5\n",
      "1    6\n",
      "2    7\n",
      "3    8\n",
      "4    9\n",
      "dtype: int64\n",
      "[5 6 7 8 9]\n",
      "RangeIndex(start=0, stop=5, step=1)\n"
     ]
    }
   ],
   "source": [
    "slt=np.arange(5,10,1)\n",
    "b=pd.Series(slt)\n",
    "print(b)\n",
    "print(b.values)\n",
    "print(b.index)"
   ]
  },
  {
   "cell_type": "code",
   "execution_count": 21,
   "id": "05c27501",
   "metadata": {
    "scrolled": true
   },
   "outputs": [
    {
     "name": "stdout",
     "output_type": "stream",
     "text": [
      "1\n",
      "5\n"
     ]
    }
   ],
   "source": [
    "a=pd.Series([1,2,3,4,5])\n",
    "print(a.min())\n",
    "print(a.max())"
   ]
  },
  {
   "cell_type": "code",
   "execution_count": 22,
   "id": "d39146cd",
   "metadata": {},
   "outputs": [
    {
     "name": "stdout",
     "output_type": "stream",
     "text": [
      "a    5\n",
      "b    6\n",
      "c    7\n",
      "d    8\n",
      "e    9\n",
      "dtype: int64\n"
     ]
    }
   ],
   "source": [
    "slt=np.arange(5,10,1)\n",
    "c=pd.Series(slt,index=[\"a\",\"b\",\"c\",\"d\",\"e\"])\n",
    "print(c)"
   ]
  },
  {
   "cell_type": "code",
   "execution_count": 23,
   "id": "071109f1",
   "metadata": {},
   "outputs": [
    {
     "name": "stdout",
     "output_type": "stream",
     "text": [
      "True\n"
     ]
    }
   ],
   "source": [
    "print(c[4]==c[\"e\"])"
   ]
  },
  {
   "cell_type": "code",
   "execution_count": 24,
   "id": "8a5f6b72",
   "metadata": {},
   "outputs": [
    {
     "name": "stdout",
     "output_type": "stream",
     "text": [
      "True\n"
     ]
    }
   ],
   "source": [
    "print(c[0]==c[\"a\"])"
   ]
  },
  {
   "cell_type": "code",
   "execution_count": 25,
   "id": "8670e540",
   "metadata": {},
   "outputs": [
    {
     "name": "stdout",
     "output_type": "stream",
     "text": [
      "c    7\n",
      "d    8\n",
      "e    9\n",
      "dtype: int64\n",
      "d    8\n",
      "e    9\n",
      "dtype: int64\n",
      "9\n"
     ]
    }
   ],
   "source": [
    "print(c[c>6])\n",
    "print(c[c>7])\n",
    "print(c[4])"
   ]
  },
  {
   "cell_type": "markdown",
   "id": "337f585d",
   "metadata": {},
   "source": [
    "- data frames--->2d array in pandas\n",
    "- tabular data rows 7 coloumns"
   ]
  },
  {
   "cell_type": "code",
   "execution_count": 26,
   "id": "1419e5e6",
   "metadata": {},
   "outputs": [
    {
     "data": {
      "text/html": [
       "<div>\n",
       "<style scoped>\n",
       "    .dataframe tbody tr th:only-of-type {\n",
       "        vertical-align: middle;\n",
       "    }\n",
       "\n",
       "    .dataframe tbody tr th {\n",
       "        vertical-align: top;\n",
       "    }\n",
       "\n",
       "    .dataframe thead th {\n",
       "        text-align: right;\n",
       "    }\n",
       "</style>\n",
       "<table border=\"1\" class=\"dataframe\">\n",
       "  <thead>\n",
       "    <tr style=\"text-align: right;\">\n",
       "      <th></th>\n",
       "      <th>name</th>\n",
       "      <th>dob</th>\n",
       "      <th>branch</th>\n",
       "    </tr>\n",
       "  </thead>\n",
       "  <tbody>\n",
       "    <tr>\n",
       "      <th>0</th>\n",
       "      <td>harsha</td>\n",
       "      <td>2003</td>\n",
       "      <td>cse</td>\n",
       "    </tr>\n",
       "    <tr>\n",
       "      <th>1</th>\n",
       "      <td>joel</td>\n",
       "      <td>2002</td>\n",
       "      <td>it</td>\n",
       "    </tr>\n",
       "    <tr>\n",
       "      <th>2</th>\n",
       "      <td>mani</td>\n",
       "      <td>2001</td>\n",
       "      <td>ai</td>\n",
       "    </tr>\n",
       "    <tr>\n",
       "      <th>3</th>\n",
       "      <td>raja</td>\n",
       "      <td>2004</td>\n",
       "      <td>ds</td>\n",
       "    </tr>\n",
       "    <tr>\n",
       "      <th>4</th>\n",
       "      <td>vijay</td>\n",
       "      <td>2000</td>\n",
       "      <td>ece</td>\n",
       "    </tr>\n",
       "  </tbody>\n",
       "</table>\n",
       "</div>"
      ],
      "text/plain": [
       "     name   dob branch\n",
       "0  harsha  2003    cse\n",
       "1    joel  2002     it\n",
       "2    mani  2001     ai\n",
       "3    raja  2004     ds\n",
       "4   vijay  2000    ece"
      ]
     },
     "execution_count": 26,
     "metadata": {},
     "output_type": "execute_result"
    }
   ],
   "source": [
    "ria={\"name\":[\"harsha\",\"joel\",\"mani\",\"raja\",\"vijay\"],\n",
    "     \"dob\":[\"2003\",\"2002\",\"2001\",\"2004\",\"2000\"],\n",
    "     \"branch\":[\"cse\",\"it\",\"ai\",\"ds\",\"ece\"]\n",
    "    }\n",
    "df=pd.DataFrame(ria)\n",
    "(df)"
   ]
  },
  {
   "cell_type": "code",
   "execution_count": 27,
   "id": "369482da",
   "metadata": {},
   "outputs": [
    {
     "data": {
      "text/html": [
       "<div>\n",
       "<style scoped>\n",
       "    .dataframe tbody tr th:only-of-type {\n",
       "        vertical-align: middle;\n",
       "    }\n",
       "\n",
       "    .dataframe tbody tr th {\n",
       "        vertical-align: top;\n",
       "    }\n",
       "\n",
       "    .dataframe thead th {\n",
       "        text-align: right;\n",
       "    }\n",
       "</style>\n",
       "<table border=\"1\" class=\"dataframe\">\n",
       "  <thead>\n",
       "    <tr style=\"text-align: right;\">\n",
       "      <th></th>\n",
       "      <th>name</th>\n",
       "      <th>dob</th>\n",
       "      <th>branch</th>\n",
       "    </tr>\n",
       "  </thead>\n",
       "  <tbody>\n",
       "    <tr>\n",
       "      <th>0</th>\n",
       "      <td>harsha</td>\n",
       "      <td>2003</td>\n",
       "      <td>cse</td>\n",
       "    </tr>\n",
       "    <tr>\n",
       "      <th>1</th>\n",
       "      <td>joel</td>\n",
       "      <td>2002</td>\n",
       "      <td>it</td>\n",
       "    </tr>\n",
       "    <tr>\n",
       "      <th>2</th>\n",
       "      <td>mani</td>\n",
       "      <td>2001</td>\n",
       "      <td>ai</td>\n",
       "    </tr>\n",
       "  </tbody>\n",
       "</table>\n",
       "</div>"
      ],
      "text/plain": [
       "     name   dob branch\n",
       "0  harsha  2003    cse\n",
       "1    joel  2002     it\n",
       "2    mani  2001     ai"
      ]
     },
     "execution_count": 27,
     "metadata": {},
     "output_type": "execute_result"
    }
   ],
   "source": [
    "ria={\"name\":[\"harsha\",\"joel\",\"mani\",\"raja\",\"vijay\"],\n",
    "     \"dob\":[\"2003\",\"2002\",\"2001\",\"2004\",\"2000\"],\n",
    "     \"branch\":[\"cse\",\"it\",\"ai\",\"ds\",\"ece\"]\n",
    "    }\n",
    "df=pd.DataFrame(ria)\n",
    "(df.head(3))"
   ]
  },
  {
   "cell_type": "code",
   "execution_count": 28,
   "id": "567fbd39",
   "metadata": {},
   "outputs": [
    {
     "data": {
      "text/html": [
       "<div>\n",
       "<style scoped>\n",
       "    .dataframe tbody tr th:only-of-type {\n",
       "        vertical-align: middle;\n",
       "    }\n",
       "\n",
       "    .dataframe tbody tr th {\n",
       "        vertical-align: top;\n",
       "    }\n",
       "\n",
       "    .dataframe thead th {\n",
       "        text-align: right;\n",
       "    }\n",
       "</style>\n",
       "<table border=\"1\" class=\"dataframe\">\n",
       "  <thead>\n",
       "    <tr style=\"text-align: right;\">\n",
       "      <th></th>\n",
       "      <th>name</th>\n",
       "      <th>dob</th>\n",
       "      <th>branch</th>\n",
       "    </tr>\n",
       "  </thead>\n",
       "  <tbody>\n",
       "    <tr>\n",
       "      <th>2</th>\n",
       "      <td>mani</td>\n",
       "      <td>2001</td>\n",
       "      <td>ai</td>\n",
       "    </tr>\n",
       "    <tr>\n",
       "      <th>3</th>\n",
       "      <td>raja</td>\n",
       "      <td>2004</td>\n",
       "      <td>ds</td>\n",
       "    </tr>\n",
       "    <tr>\n",
       "      <th>4</th>\n",
       "      <td>vijay</td>\n",
       "      <td>2000</td>\n",
       "      <td>ece</td>\n",
       "    </tr>\n",
       "  </tbody>\n",
       "</table>\n",
       "</div>"
      ],
      "text/plain": [
       "    name   dob branch\n",
       "2   mani  2001     ai\n",
       "3   raja  2004     ds\n",
       "4  vijay  2000    ece"
      ]
     },
     "execution_count": 28,
     "metadata": {},
     "output_type": "execute_result"
    }
   ],
   "source": [
    "ria={\"name\":[\"harsha\",\"joel\",\"mani\",\"raja\",\"vijay\"],\n",
    "     \"dob\":[\"2003\",\"2002\",\"2001\",\"2004\",\"2000\"],\n",
    "     \"branch\":[\"cse\",\"it\",\"ai\",\"ds\",\"ece\"]\n",
    "    }\n",
    "df=pd.DataFrame(ria)\n",
    "(df.tail(3))"
   ]
  },
  {
   "cell_type": "code",
   "execution_count": 29,
   "id": "ae3bf515",
   "metadata": {},
   "outputs": [
    {
     "data": {
      "text/html": [
       "<div>\n",
       "<style scoped>\n",
       "    .dataframe tbody tr th:only-of-type {\n",
       "        vertical-align: middle;\n",
       "    }\n",
       "\n",
       "    .dataframe tbody tr th {\n",
       "        vertical-align: top;\n",
       "    }\n",
       "\n",
       "    .dataframe thead th {\n",
       "        text-align: right;\n",
       "    }\n",
       "</style>\n",
       "<table border=\"1\" class=\"dataframe\">\n",
       "  <thead>\n",
       "    <tr style=\"text-align: right;\">\n",
       "      <th></th>\n",
       "      <th>name</th>\n",
       "      <th>dob</th>\n",
       "      <th>branch</th>\n",
       "      <th>marks</th>\n",
       "    </tr>\n",
       "  </thead>\n",
       "  <tbody>\n",
       "    <tr>\n",
       "      <th>0</th>\n",
       "      <td>harsha</td>\n",
       "      <td>2003</td>\n",
       "      <td>cse</td>\n",
       "      <td>NaN</td>\n",
       "    </tr>\n",
       "    <tr>\n",
       "      <th>1</th>\n",
       "      <td>joel</td>\n",
       "      <td>2002</td>\n",
       "      <td>it</td>\n",
       "      <td>NaN</td>\n",
       "    </tr>\n",
       "    <tr>\n",
       "      <th>2</th>\n",
       "      <td>mani</td>\n",
       "      <td>2001</td>\n",
       "      <td>ai</td>\n",
       "      <td>NaN</td>\n",
       "    </tr>\n",
       "    <tr>\n",
       "      <th>3</th>\n",
       "      <td>raja</td>\n",
       "      <td>2004</td>\n",
       "      <td>ds</td>\n",
       "      <td>NaN</td>\n",
       "    </tr>\n",
       "    <tr>\n",
       "      <th>4</th>\n",
       "      <td>vijay</td>\n",
       "      <td>2000</td>\n",
       "      <td>ece</td>\n",
       "      <td>NaN</td>\n",
       "    </tr>\n",
       "  </tbody>\n",
       "</table>\n",
       "</div>"
      ],
      "text/plain": [
       "     name   dob branch  marks\n",
       "0  harsha  2003    cse    NaN\n",
       "1    joel  2002     it    NaN\n",
       "2    mani  2001     ai    NaN\n",
       "3    raja  2004     ds    NaN\n",
       "4   vijay  2000    ece    NaN"
      ]
     },
     "execution_count": 29,
     "metadata": {},
     "output_type": "execute_result"
    }
   ],
   "source": [
    "ria={\"name\":[\"harsha\",\"joel\",\"mani\",\"raja\",\"vijay\"],\n",
    "     \"dob\":[\"2003\",\"2002\",\"2001\",\"2004\",\"2000\"],\n",
    "     \"branch\":[\"cse\",\"it\",\"ai\",\"ds\",\"ece\"]\n",
    "    }\n",
    "df=pd.DataFrame(ria)\n",
    "df1=pd.DataFrame(df,columns=[\"name\",\"dob\",\"branch\",\"marks\"])\n",
    "(df1)"
   ]
  },
  {
   "cell_type": "code",
   "execution_count": 30,
   "id": "edd1bd39",
   "metadata": {},
   "outputs": [
    {
     "data": {
      "text/html": [
       "<div>\n",
       "<style scoped>\n",
       "    .dataframe tbody tr th:only-of-type {\n",
       "        vertical-align: middle;\n",
       "    }\n",
       "\n",
       "    .dataframe tbody tr th {\n",
       "        vertical-align: top;\n",
       "    }\n",
       "\n",
       "    .dataframe thead th {\n",
       "        text-align: right;\n",
       "    }\n",
       "</style>\n",
       "<table border=\"1\" class=\"dataframe\">\n",
       "  <thead>\n",
       "    <tr style=\"text-align: right;\">\n",
       "      <th></th>\n",
       "      <th>name</th>\n",
       "      <th>dob</th>\n",
       "      <th>branch</th>\n",
       "      <th>marks</th>\n",
       "    </tr>\n",
       "  </thead>\n",
       "  <tbody>\n",
       "    <tr>\n",
       "      <th>0</th>\n",
       "      <td>False</td>\n",
       "      <td>False</td>\n",
       "      <td>False</td>\n",
       "      <td>True</td>\n",
       "    </tr>\n",
       "    <tr>\n",
       "      <th>1</th>\n",
       "      <td>False</td>\n",
       "      <td>False</td>\n",
       "      <td>False</td>\n",
       "      <td>True</td>\n",
       "    </tr>\n",
       "    <tr>\n",
       "      <th>2</th>\n",
       "      <td>False</td>\n",
       "      <td>False</td>\n",
       "      <td>False</td>\n",
       "      <td>True</td>\n",
       "    </tr>\n",
       "    <tr>\n",
       "      <th>3</th>\n",
       "      <td>False</td>\n",
       "      <td>False</td>\n",
       "      <td>False</td>\n",
       "      <td>True</td>\n",
       "    </tr>\n",
       "    <tr>\n",
       "      <th>4</th>\n",
       "      <td>False</td>\n",
       "      <td>False</td>\n",
       "      <td>False</td>\n",
       "      <td>True</td>\n",
       "    </tr>\n",
       "  </tbody>\n",
       "</table>\n",
       "</div>"
      ],
      "text/plain": [
       "    name    dob  branch  marks\n",
       "0  False  False   False   True\n",
       "1  False  False   False   True\n",
       "2  False  False   False   True\n",
       "3  False  False   False   True\n",
       "4  False  False   False   True"
      ]
     },
     "execution_count": 30,
     "metadata": {},
     "output_type": "execute_result"
    }
   ],
   "source": [
    "df1.isnull()"
   ]
  },
  {
   "cell_type": "code",
   "execution_count": 31,
   "id": "03429cbf",
   "metadata": {},
   "outputs": [
    {
     "data": {
      "text/plain": [
       "0    harsha\n",
       "1      joel\n",
       "2      mani\n",
       "3      raja\n",
       "4     vijay\n",
       "Name: name, dtype: object"
      ]
     },
     "execution_count": 31,
     "metadata": {},
     "output_type": "execute_result"
    }
   ],
   "source": [
    "df1[\"name\"]"
   ]
  },
  {
   "cell_type": "code",
   "execution_count": 32,
   "id": "e568c67c",
   "metadata": {},
   "outputs": [
    {
     "data": {
      "text/plain": [
       "0    2003\n",
       "1    2002\n",
       "2    2001\n",
       "3    2004\n",
       "4    2000\n",
       "Name: dob, dtype: object"
      ]
     },
     "execution_count": 32,
     "metadata": {},
     "output_type": "execute_result"
    }
   ],
   "source": [
    "df1[\"dob\"]"
   ]
  },
  {
   "cell_type": "code",
   "execution_count": 33,
   "id": "27e6fa0a",
   "metadata": {},
   "outputs": [
    {
     "data": {
      "text/html": [
       "<div>\n",
       "<style scoped>\n",
       "    .dataframe tbody tr th:only-of-type {\n",
       "        vertical-align: middle;\n",
       "    }\n",
       "\n",
       "    .dataframe tbody tr th {\n",
       "        vertical-align: top;\n",
       "    }\n",
       "\n",
       "    .dataframe thead th {\n",
       "        text-align: right;\n",
       "    }\n",
       "</style>\n",
       "<table border=\"1\" class=\"dataframe\">\n",
       "  <thead>\n",
       "    <tr style=\"text-align: right;\">\n",
       "      <th></th>\n",
       "      <th>name</th>\n",
       "      <th>dob</th>\n",
       "      <th>branch</th>\n",
       "      <th>marks</th>\n",
       "    </tr>\n",
       "  </thead>\n",
       "  <tbody>\n",
       "    <tr>\n",
       "      <th>0</th>\n",
       "      <td>harsha</td>\n",
       "      <td>2003</td>\n",
       "      <td>cse</td>\n",
       "      <td>12</td>\n",
       "    </tr>\n",
       "    <tr>\n",
       "      <th>1</th>\n",
       "      <td>joel</td>\n",
       "      <td>2002</td>\n",
       "      <td>it</td>\n",
       "      <td>13</td>\n",
       "    </tr>\n",
       "    <tr>\n",
       "      <th>2</th>\n",
       "      <td>mani</td>\n",
       "      <td>2001</td>\n",
       "      <td>ai</td>\n",
       "      <td>14</td>\n",
       "    </tr>\n",
       "    <tr>\n",
       "      <th>3</th>\n",
       "      <td>raja</td>\n",
       "      <td>2004</td>\n",
       "      <td>ds</td>\n",
       "      <td>15</td>\n",
       "    </tr>\n",
       "    <tr>\n",
       "      <th>4</th>\n",
       "      <td>vijay</td>\n",
       "      <td>2000</td>\n",
       "      <td>ece</td>\n",
       "      <td>16</td>\n",
       "    </tr>\n",
       "  </tbody>\n",
       "</table>\n",
       "</div>"
      ],
      "text/plain": [
       "     name   dob branch  marks\n",
       "0  harsha  2003    cse     12\n",
       "1    joel  2002     it     13\n",
       "2    mani  2001     ai     14\n",
       "3    raja  2004     ds     15\n",
       "4   vijay  2000    ece     16"
      ]
     },
     "execution_count": 33,
     "metadata": {},
     "output_type": "execute_result"
    }
   ],
   "source": [
    "df1[\"marks\"]=[12,13,14,15,16]#np.random.rand(5)\n",
    "df1"
   ]
  },
  {
   "cell_type": "code",
   "execution_count": 34,
   "id": "d5ea2f25",
   "metadata": {},
   "outputs": [
    {
     "data": {
      "text/html": [
       "<div>\n",
       "<style scoped>\n",
       "    .dataframe tbody tr th:only-of-type {\n",
       "        vertical-align: middle;\n",
       "    }\n",
       "\n",
       "    .dataframe tbody tr th {\n",
       "        vertical-align: top;\n",
       "    }\n",
       "\n",
       "    .dataframe thead th {\n",
       "        text-align: right;\n",
       "    }\n",
       "</style>\n",
       "<table border=\"1\" class=\"dataframe\">\n",
       "  <thead>\n",
       "    <tr style=\"text-align: right;\">\n",
       "      <th></th>\n",
       "      <th>name</th>\n",
       "      <th>dob</th>\n",
       "      <th>branch</th>\n",
       "      <th>marks</th>\n",
       "    </tr>\n",
       "  </thead>\n",
       "  <tbody>\n",
       "    <tr>\n",
       "      <th>0</th>\n",
       "      <td>harsha</td>\n",
       "      <td>2003</td>\n",
       "      <td>cse</td>\n",
       "      <td>12</td>\n",
       "    </tr>\n",
       "    <tr>\n",
       "      <th>1</th>\n",
       "      <td>joel</td>\n",
       "      <td>2002</td>\n",
       "      <td>it</td>\n",
       "      <td>13</td>\n",
       "    </tr>\n",
       "    <tr>\n",
       "      <th>2</th>\n",
       "      <td>mani</td>\n",
       "      <td>2001</td>\n",
       "      <td>ai</td>\n",
       "      <td>14</td>\n",
       "    </tr>\n",
       "    <tr>\n",
       "      <th>3</th>\n",
       "      <td>raja</td>\n",
       "      <td>2004</td>\n",
       "      <td>ds</td>\n",
       "      <td>15</td>\n",
       "    </tr>\n",
       "  </tbody>\n",
       "</table>\n",
       "</div>"
      ],
      "text/plain": [
       "     name   dob branch  marks\n",
       "0  harsha  2003    cse     12\n",
       "1    joel  2002     it     13\n",
       "2    mani  2001     ai     14\n",
       "3    raja  2004     ds     15"
      ]
     },
     "execution_count": 34,
     "metadata": {},
     "output_type": "execute_result"
    }
   ],
   "source": [
    "df1.drop(4)"
   ]
  },
  {
   "cell_type": "code",
   "execution_count": 35,
   "id": "0bbbcd74",
   "metadata": {},
   "outputs": [
    {
     "name": "stdout",
     "output_type": "stream",
     "text": [
      "\u001b[1;34mAlarms\u001b[m/\r\n",
      "\u001b[1;34mAndroid\u001b[m/\r\n",
      "\u001b[1;34mAudiobooks\u001b[m/\r\n",
      "\u001b[1;34mColorOS\u001b[m/\r\n",
      "\u001b[1;34mDCIM\u001b[m/\r\n",
      "\u001b[0;0mData-Regstration.pdf\u001b[m\r\n",
      "\u001b[1;34mDocuments\u001b[m/\r\n",
      "\u001b[1;34mDownload\u001b[m/\r\n",
      "\u001b[1;34mFonts\u001b[m/\r\n",
      "\u001b[1;34mJioSwitch\u001b[m/\r\n",
      "\u001b[1;34mMovies\u001b[m/\r\n",
      "\u001b[1;34mMusic\u001b[m/\r\n",
      "\u001b[1;34mNotifications\u001b[m/\r\n",
      "\u001b[1;34mPDF'S\u001b[m/\r\n",
      "\u001b[1;34mPicsArt\u001b[m/\r\n",
      "\u001b[1;34mPictures\u001b[m/\r\n",
      "\u001b[1;34mPodcasts\u001b[m/\r\n",
      "\u001b[0;0mPython Programming's Meeting Attendees.xls\u001b[m\r\n",
      "\u001b[1;34mSubtitles\u001b[m/\r\n",
      "\u001b[0;0mUntitled.ipynb\u001b[m\r\n",
      "\u001b[1;34mVidMate\u001b[m/\r\n",
      "\u001b[1;34m__pycache__\u001b[m/\r\n",
      "\u001b[1;34mapssdc\u001b[m/\r\n",
      "\u001b[1;34miLovePDF\u001b[m/\r\n",
      "\u001b[1;34minShare\u001b[m/\r\n",
      "\u001b[0;0mksrcs.csv\u001b[m\r\n",
      "\u001b[0;0mksrdata.pdf\u001b[m\r\n",
      "\u001b[1;34moplus_log\u001b[m/\r\n",
      "\u001b[1;34mpython\u001b[m/\r\n"
     ]
    }
   ],
   "source": [
    "ls#ksrcs.csv to check"
   ]
  },
  {
   "cell_type": "code",
   "execution_count": 36,
   "id": "5fe48baa",
   "metadata": {},
   "outputs": [],
   "source": [
    "#read_csv()\n",
    "#read_json()\n",
    "#read_excel()"
   ]
  },
  {
   "cell_type": "code",
   "execution_count": 38,
   "id": "44164405",
   "metadata": {
    "scrolled": true
   },
   "outputs": [
    {
     "data": {
      "text/html": [
       "<div>\n",
       "<style scoped>\n",
       "    .dataframe tbody tr th:only-of-type {\n",
       "        vertical-align: middle;\n",
       "    }\n",
       "\n",
       "    .dataframe tbody tr th {\n",
       "        vertical-align: top;\n",
       "    }\n",
       "\n",
       "    .dataframe thead th {\n",
       "        text-align: right;\n",
       "    }\n",
       "</style>\n",
       "<table border=\"1\" class=\"dataframe\">\n",
       "  <thead>\n",
       "    <tr style=\"text-align: right;\">\n",
       "      <th></th>\n",
       "      <th>Roll-No</th>\n",
       "      <th>Name</th>\n",
       "      <th>Python</th>\n",
       "      <th>C</th>\n",
       "      <th>Java</th>\n",
       "      <th>DS</th>\n",
       "      <th>OS</th>\n",
       "      <th>DBMS</th>\n",
       "      <th>Marks</th>\n",
       "      <th>Grade</th>\n",
       "    </tr>\n",
       "  </thead>\n",
       "  <tbody>\n",
       "    <tr>\n",
       "      <th>0</th>\n",
       "      <td>20JR1A0590</td>\n",
       "      <td>M.Sushma</td>\n",
       "      <td>4</td>\n",
       "      <td>97</td>\n",
       "      <td>4</td>\n",
       "      <td>88</td>\n",
       "      <td>41</td>\n",
       "      <td>52</td>\n",
       "      <td>286</td>\n",
       "      <td>Pass</td>\n",
       "    </tr>\n",
       "    <tr>\n",
       "      <th>1</th>\n",
       "      <td>20JR1A0591</td>\n",
       "      <td>Nagumothu Navya</td>\n",
       "      <td>80</td>\n",
       "      <td>77</td>\n",
       "      <td>49</td>\n",
       "      <td>45</td>\n",
       "      <td>70</td>\n",
       "      <td>0</td>\n",
       "      <td>321</td>\n",
       "      <td>Pass</td>\n",
       "    </tr>\n",
       "    <tr>\n",
       "      <th>2</th>\n",
       "      <td>20JR1A0592</td>\n",
       "      <td>N.Lakshmi Vasavi</td>\n",
       "      <td>43</td>\n",
       "      <td>69</td>\n",
       "      <td>21</td>\n",
       "      <td>8</td>\n",
       "      <td>93</td>\n",
       "      <td>91</td>\n",
       "      <td>325</td>\n",
       "      <td>Pass</td>\n",
       "    </tr>\n",
       "    <tr>\n",
       "      <th>3</th>\n",
       "      <td>20JR1A0593</td>\n",
       "      <td>Sushma Namburi</td>\n",
       "      <td>34</td>\n",
       "      <td>72</td>\n",
       "      <td>97</td>\n",
       "      <td>42</td>\n",
       "      <td>33</td>\n",
       "      <td>71</td>\n",
       "      <td>349</td>\n",
       "      <td>Pass</td>\n",
       "    </tr>\n",
       "    <tr>\n",
       "      <th>4</th>\n",
       "      <td>20JR1A0594</td>\n",
       "      <td>N.lakshmi Chandana</td>\n",
       "      <td>93</td>\n",
       "      <td>95</td>\n",
       "      <td>14</td>\n",
       "      <td>10</td>\n",
       "      <td>73</td>\n",
       "      <td>20</td>\n",
       "      <td>305</td>\n",
       "      <td>Pass</td>\n",
       "    </tr>\n",
       "    <tr>\n",
       "      <th>...</th>\n",
       "      <td>...</td>\n",
       "      <td>...</td>\n",
       "      <td>...</td>\n",
       "      <td>...</td>\n",
       "      <td>...</td>\n",
       "      <td>...</td>\n",
       "      <td>...</td>\n",
       "      <td>...</td>\n",
       "      <td>...</td>\n",
       "      <td>...</td>\n",
       "    </tr>\n",
       "    <tr>\n",
       "      <th>156</th>\n",
       "      <td>20JR1A4442</td>\n",
       "      <td>VIVEK</td>\n",
       "      <td>66</td>\n",
       "      <td>87</td>\n",
       "      <td>2</td>\n",
       "      <td>79</td>\n",
       "      <td>92</td>\n",
       "      <td>16</td>\n",
       "      <td>342</td>\n",
       "      <td>Pass</td>\n",
       "    </tr>\n",
       "    <tr>\n",
       "      <th>157</th>\n",
       "      <td>20JR1AO5J2</td>\n",
       "      <td>Charan Siva Sai</td>\n",
       "      <td>73</td>\n",
       "      <td>58</td>\n",
       "      <td>33</td>\n",
       "      <td>56</td>\n",
       "      <td>56</td>\n",
       "      <td>19</td>\n",
       "      <td>295</td>\n",
       "      <td>Pass</td>\n",
       "    </tr>\n",
       "    <tr>\n",
       "      <th>158</th>\n",
       "      <td>20jr1A0518</td>\n",
       "      <td>anusha</td>\n",
       "      <td>33</td>\n",
       "      <td>61</td>\n",
       "      <td>26</td>\n",
       "      <td>53</td>\n",
       "      <td>29</td>\n",
       "      <td>18</td>\n",
       "      <td>220</td>\n",
       "      <td>Pass</td>\n",
       "    </tr>\n",
       "    <tr>\n",
       "      <th>159</th>\n",
       "      <td>20jr1a0552</td>\n",
       "      <td>Abc</td>\n",
       "      <td>68</td>\n",
       "      <td>26</td>\n",
       "      <td>18</td>\n",
       "      <td>20</td>\n",
       "      <td>24</td>\n",
       "      <td>70</td>\n",
       "      <td>226</td>\n",
       "      <td>Pass</td>\n",
       "    </tr>\n",
       "    <tr>\n",
       "      <th>160</th>\n",
       "      <td>20jr1ao5d8</td>\n",
       "      <td>hello</td>\n",
       "      <td>16</td>\n",
       "      <td>94</td>\n",
       "      <td>98</td>\n",
       "      <td>9</td>\n",
       "      <td>58</td>\n",
       "      <td>10</td>\n",
       "      <td>285</td>\n",
       "      <td>Pass</td>\n",
       "    </tr>\n",
       "  </tbody>\n",
       "</table>\n",
       "<p>161 rows × 10 columns</p>\n",
       "</div>"
      ],
      "text/plain": [
       "        Roll-No                Name  Python   C  Java  DS  OS  DBMS  Marks  \\\n",
       "0    20JR1A0590            M.Sushma       4  97     4  88  41    52    286   \n",
       "1    20JR1A0591     Nagumothu Navya      80  77    49  45  70     0    321   \n",
       "2    20JR1A0592    N.Lakshmi Vasavi      43  69    21   8  93    91    325   \n",
       "3    20JR1A0593      Sushma Namburi      34  72    97  42  33    71    349   \n",
       "4    20JR1A0594  N.lakshmi Chandana      93  95    14  10  73    20    305   \n",
       "..          ...                 ...     ...  ..   ...  ..  ..   ...    ...   \n",
       "156  20JR1A4442               VIVEK      66  87     2  79  92    16    342   \n",
       "157  20JR1AO5J2     Charan Siva Sai      73  58    33  56  56    19    295   \n",
       "158  20jr1A0518              anusha      33  61    26  53  29    18    220   \n",
       "159  20jr1a0552                 Abc      68  26    18  20  24    70    226   \n",
       "160  20jr1ao5d8               hello      16  94    98   9  58    10    285   \n",
       "\n",
       "    Grade  \n",
       "0    Pass  \n",
       "1    Pass  \n",
       "2    Pass  \n",
       "3    Pass  \n",
       "4    Pass  \n",
       "..    ...  \n",
       "156  Pass  \n",
       "157  Pass  \n",
       "158  Pass  \n",
       "159  Pass  \n",
       "160  Pass  \n",
       "\n",
       "[161 rows x 10 columns]"
      ]
     },
     "execution_count": 38,
     "metadata": {},
     "output_type": "execute_result"
    }
   ],
   "source": [
    "data=pd.read_csv(\"ksrcs.csv\")\n",
    "data"
   ]
  },
  {
   "cell_type": "code",
   "execution_count": 39,
   "id": "50150f1d",
   "metadata": {},
   "outputs": [
    {
     "data": {
      "text/html": [
       "<div>\n",
       "<style scoped>\n",
       "    .dataframe tbody tr th:only-of-type {\n",
       "        vertical-align: middle;\n",
       "    }\n",
       "\n",
       "    .dataframe tbody tr th {\n",
       "        vertical-align: top;\n",
       "    }\n",
       "\n",
       "    .dataframe thead th {\n",
       "        text-align: right;\n",
       "    }\n",
       "</style>\n",
       "<table border=\"1\" class=\"dataframe\">\n",
       "  <thead>\n",
       "    <tr style=\"text-align: right;\">\n",
       "      <th></th>\n",
       "      <th>Roll-No</th>\n",
       "      <th>Name</th>\n",
       "      <th>Python</th>\n",
       "      <th>C</th>\n",
       "      <th>Java</th>\n",
       "      <th>DS</th>\n",
       "      <th>OS</th>\n",
       "      <th>DBMS</th>\n",
       "      <th>Marks</th>\n",
       "      <th>Grade</th>\n",
       "    </tr>\n",
       "  </thead>\n",
       "  <tbody>\n",
       "    <tr>\n",
       "      <th>0</th>\n",
       "      <td>20JR1A0590</td>\n",
       "      <td>M.Sushma</td>\n",
       "      <td>4</td>\n",
       "      <td>97</td>\n",
       "      <td>4</td>\n",
       "      <td>88</td>\n",
       "      <td>41</td>\n",
       "      <td>52</td>\n",
       "      <td>286</td>\n",
       "      <td>Pass</td>\n",
       "    </tr>\n",
       "    <tr>\n",
       "      <th>1</th>\n",
       "      <td>20JR1A0591</td>\n",
       "      <td>Nagumothu Navya</td>\n",
       "      <td>80</td>\n",
       "      <td>77</td>\n",
       "      <td>49</td>\n",
       "      <td>45</td>\n",
       "      <td>70</td>\n",
       "      <td>0</td>\n",
       "      <td>321</td>\n",
       "      <td>Pass</td>\n",
       "    </tr>\n",
       "    <tr>\n",
       "      <th>2</th>\n",
       "      <td>20JR1A0592</td>\n",
       "      <td>N.Lakshmi Vasavi</td>\n",
       "      <td>43</td>\n",
       "      <td>69</td>\n",
       "      <td>21</td>\n",
       "      <td>8</td>\n",
       "      <td>93</td>\n",
       "      <td>91</td>\n",
       "      <td>325</td>\n",
       "      <td>Pass</td>\n",
       "    </tr>\n",
       "    <tr>\n",
       "      <th>3</th>\n",
       "      <td>20JR1A0593</td>\n",
       "      <td>Sushma Namburi</td>\n",
       "      <td>34</td>\n",
       "      <td>72</td>\n",
       "      <td>97</td>\n",
       "      <td>42</td>\n",
       "      <td>33</td>\n",
       "      <td>71</td>\n",
       "      <td>349</td>\n",
       "      <td>Pass</td>\n",
       "    </tr>\n",
       "    <tr>\n",
       "      <th>4</th>\n",
       "      <td>20JR1A0594</td>\n",
       "      <td>N.lakshmi Chandana</td>\n",
       "      <td>93</td>\n",
       "      <td>95</td>\n",
       "      <td>14</td>\n",
       "      <td>10</td>\n",
       "      <td>73</td>\n",
       "      <td>20</td>\n",
       "      <td>305</td>\n",
       "      <td>Pass</td>\n",
       "    </tr>\n",
       "    <tr>\n",
       "      <th>5</th>\n",
       "      <td>20JR1A0595</td>\n",
       "      <td>swapna</td>\n",
       "      <td>70</td>\n",
       "      <td>22</td>\n",
       "      <td>37</td>\n",
       "      <td>41</td>\n",
       "      <td>1</td>\n",
       "      <td>16</td>\n",
       "      <td>187</td>\n",
       "      <td>Fail</td>\n",
       "    </tr>\n",
       "    <tr>\n",
       "      <th>6</th>\n",
       "      <td>20JR1A0596</td>\n",
       "      <td>GSP SRIKANTH</td>\n",
       "      <td>95</td>\n",
       "      <td>65</td>\n",
       "      <td>2</td>\n",
       "      <td>86</td>\n",
       "      <td>91</td>\n",
       "      <td>66</td>\n",
       "      <td>405</td>\n",
       "      <td>Pass</td>\n",
       "    </tr>\n",
       "    <tr>\n",
       "      <th>7</th>\n",
       "      <td>20JR1A0597</td>\n",
       "      <td>prakash</td>\n",
       "      <td>72</td>\n",
       "      <td>42</td>\n",
       "      <td>54</td>\n",
       "      <td>45</td>\n",
       "      <td>98</td>\n",
       "      <td>84</td>\n",
       "      <td>395</td>\n",
       "      <td>Pass</td>\n",
       "    </tr>\n",
       "    <tr>\n",
       "      <th>8</th>\n",
       "      <td>20JR1A0598</td>\n",
       "      <td>harsha Ravuri</td>\n",
       "      <td>86</td>\n",
       "      <td>23</td>\n",
       "      <td>82</td>\n",
       "      <td>27</td>\n",
       "      <td>77</td>\n",
       "      <td>4</td>\n",
       "      <td>299</td>\n",
       "      <td>Pass</td>\n",
       "    </tr>\n",
       "    <tr>\n",
       "      <th>9</th>\n",
       "      <td>20JR1A05A2</td>\n",
       "      <td>K Nagendra Babu</td>\n",
       "      <td>25</td>\n",
       "      <td>100</td>\n",
       "      <td>72</td>\n",
       "      <td>56</td>\n",
       "      <td>6</td>\n",
       "      <td>63</td>\n",
       "      <td>322</td>\n",
       "      <td>Pass</td>\n",
       "    </tr>\n",
       "  </tbody>\n",
       "</table>\n",
       "</div>"
      ],
      "text/plain": [
       "      Roll-No                Name  Python    C  Java  DS  OS  DBMS  Marks  \\\n",
       "0  20JR1A0590            M.Sushma       4   97     4  88  41    52    286   \n",
       "1  20JR1A0591     Nagumothu Navya      80   77    49  45  70     0    321   \n",
       "2  20JR1A0592    N.Lakshmi Vasavi      43   69    21   8  93    91    325   \n",
       "3  20JR1A0593      Sushma Namburi      34   72    97  42  33    71    349   \n",
       "4  20JR1A0594  N.lakshmi Chandana      93   95    14  10  73    20    305   \n",
       "5  20JR1A0595              swapna      70   22    37  41   1    16    187   \n",
       "6  20JR1A0596        GSP SRIKANTH      95   65     2  86  91    66    405   \n",
       "7  20JR1A0597             prakash      72   42    54  45  98    84    395   \n",
       "8  20JR1A0598       harsha Ravuri      86   23    82  27  77     4    299   \n",
       "9  20JR1A05A2     K Nagendra Babu      25  100    72  56   6    63    322   \n",
       "\n",
       "  Grade  \n",
       "0  Pass  \n",
       "1  Pass  \n",
       "2  Pass  \n",
       "3  Pass  \n",
       "4  Pass  \n",
       "5  Fail  \n",
       "6  Pass  \n",
       "7  Pass  \n",
       "8  Pass  \n",
       "9  Pass  "
      ]
     },
     "execution_count": 39,
     "metadata": {},
     "output_type": "execute_result"
    }
   ],
   "source": [
    "data.head(10)"
   ]
  },
  {
   "cell_type": "code",
   "execution_count": 40,
   "id": "2e1bdaf9",
   "metadata": {},
   "outputs": [
    {
     "data": {
      "text/html": [
       "<div>\n",
       "<style scoped>\n",
       "    .dataframe tbody tr th:only-of-type {\n",
       "        vertical-align: middle;\n",
       "    }\n",
       "\n",
       "    .dataframe tbody tr th {\n",
       "        vertical-align: top;\n",
       "    }\n",
       "\n",
       "    .dataframe thead th {\n",
       "        text-align: right;\n",
       "    }\n",
       "</style>\n",
       "<table border=\"1\" class=\"dataframe\">\n",
       "  <thead>\n",
       "    <tr style=\"text-align: right;\">\n",
       "      <th></th>\n",
       "      <th>Roll-No</th>\n",
       "      <th>Name</th>\n",
       "      <th>Python</th>\n",
       "      <th>C</th>\n",
       "      <th>Java</th>\n",
       "      <th>DS</th>\n",
       "      <th>OS</th>\n",
       "      <th>DBMS</th>\n",
       "      <th>Marks</th>\n",
       "      <th>Grade</th>\n",
       "    </tr>\n",
       "  </thead>\n",
       "  <tbody>\n",
       "    <tr>\n",
       "      <th>0</th>\n",
       "      <td>20JR1A0590</td>\n",
       "      <td>M.Sushma</td>\n",
       "      <td>4</td>\n",
       "      <td>97</td>\n",
       "      <td>4</td>\n",
       "      <td>88</td>\n",
       "      <td>41</td>\n",
       "      <td>52</td>\n",
       "      <td>286</td>\n",
       "      <td>Pass</td>\n",
       "    </tr>\n",
       "    <tr>\n",
       "      <th>1</th>\n",
       "      <td>20JR1A0591</td>\n",
       "      <td>Nagumothu Navya</td>\n",
       "      <td>80</td>\n",
       "      <td>77</td>\n",
       "      <td>49</td>\n",
       "      <td>45</td>\n",
       "      <td>70</td>\n",
       "      <td>0</td>\n",
       "      <td>321</td>\n",
       "      <td>Pass</td>\n",
       "    </tr>\n",
       "    <tr>\n",
       "      <th>2</th>\n",
       "      <td>20JR1A0592</td>\n",
       "      <td>N.Lakshmi Vasavi</td>\n",
       "      <td>43</td>\n",
       "      <td>69</td>\n",
       "      <td>21</td>\n",
       "      <td>8</td>\n",
       "      <td>93</td>\n",
       "      <td>91</td>\n",
       "      <td>325</td>\n",
       "      <td>Pass</td>\n",
       "    </tr>\n",
       "    <tr>\n",
       "      <th>3</th>\n",
       "      <td>20JR1A0593</td>\n",
       "      <td>Sushma Namburi</td>\n",
       "      <td>34</td>\n",
       "      <td>72</td>\n",
       "      <td>97</td>\n",
       "      <td>42</td>\n",
       "      <td>33</td>\n",
       "      <td>71</td>\n",
       "      <td>349</td>\n",
       "      <td>Pass</td>\n",
       "    </tr>\n",
       "    <tr>\n",
       "      <th>4</th>\n",
       "      <td>20JR1A0594</td>\n",
       "      <td>N.lakshmi Chandana</td>\n",
       "      <td>93</td>\n",
       "      <td>95</td>\n",
       "      <td>14</td>\n",
       "      <td>10</td>\n",
       "      <td>73</td>\n",
       "      <td>20</td>\n",
       "      <td>305</td>\n",
       "      <td>Pass</td>\n",
       "    </tr>\n",
       "  </tbody>\n",
       "</table>\n",
       "</div>"
      ],
      "text/plain": [
       "      Roll-No                Name  Python   C  Java  DS  OS  DBMS  Marks Grade\n",
       "0  20JR1A0590            M.Sushma       4  97     4  88  41    52    286  Pass\n",
       "1  20JR1A0591     Nagumothu Navya      80  77    49  45  70     0    321  Pass\n",
       "2  20JR1A0592    N.Lakshmi Vasavi      43  69    21   8  93    91    325  Pass\n",
       "3  20JR1A0593      Sushma Namburi      34  72    97  42  33    71    349  Pass\n",
       "4  20JR1A0594  N.lakshmi Chandana      93  95    14  10  73    20    305  Pass"
      ]
     },
     "execution_count": 40,
     "metadata": {},
     "output_type": "execute_result"
    }
   ],
   "source": [
    "data.head(5)"
   ]
  },
  {
   "cell_type": "code",
   "execution_count": 41,
   "id": "88ac0b01",
   "metadata": {},
   "outputs": [
    {
     "data": {
      "text/html": [
       "<div>\n",
       "<style scoped>\n",
       "    .dataframe tbody tr th:only-of-type {\n",
       "        vertical-align: middle;\n",
       "    }\n",
       "\n",
       "    .dataframe tbody tr th {\n",
       "        vertical-align: top;\n",
       "    }\n",
       "\n",
       "    .dataframe thead th {\n",
       "        text-align: right;\n",
       "    }\n",
       "</style>\n",
       "<table border=\"1\" class=\"dataframe\">\n",
       "  <thead>\n",
       "    <tr style=\"text-align: right;\">\n",
       "      <th></th>\n",
       "      <th>Roll-No</th>\n",
       "      <th>Name</th>\n",
       "      <th>Python</th>\n",
       "      <th>C</th>\n",
       "      <th>Java</th>\n",
       "      <th>DS</th>\n",
       "      <th>OS</th>\n",
       "      <th>DBMS</th>\n",
       "      <th>Marks</th>\n",
       "      <th>Grade</th>\n",
       "    </tr>\n",
       "  </thead>\n",
       "  <tbody>\n",
       "    <tr>\n",
       "      <th>151</th>\n",
       "      <td>20JR1A4362</td>\n",
       "      <td>SK.B.SHOHEB AKTHAR</td>\n",
       "      <td>81</td>\n",
       "      <td>95</td>\n",
       "      <td>27</td>\n",
       "      <td>27</td>\n",
       "      <td>34</td>\n",
       "      <td>88</td>\n",
       "      <td>352</td>\n",
       "      <td>Pass</td>\n",
       "    </tr>\n",
       "    <tr>\n",
       "      <th>152</th>\n",
       "      <td>20JR1A4363</td>\n",
       "      <td>MUNEER</td>\n",
       "      <td>46</td>\n",
       "      <td>57</td>\n",
       "      <td>55</td>\n",
       "      <td>9</td>\n",
       "      <td>70</td>\n",
       "      <td>50</td>\n",
       "      <td>287</td>\n",
       "      <td>Pass</td>\n",
       "    </tr>\n",
       "    <tr>\n",
       "      <th>153</th>\n",
       "      <td>20JR1A4364</td>\n",
       "      <td>Naga Sai Durgesh Singamsetty</td>\n",
       "      <td>65</td>\n",
       "      <td>62</td>\n",
       "      <td>9</td>\n",
       "      <td>54</td>\n",
       "      <td>46</td>\n",
       "      <td>67</td>\n",
       "      <td>303</td>\n",
       "      <td>Pass</td>\n",
       "    </tr>\n",
       "    <tr>\n",
       "      <th>154</th>\n",
       "      <td>20JR1A4431</td>\n",
       "      <td>Sakhamuri. Lathasri</td>\n",
       "      <td>65</td>\n",
       "      <td>89</td>\n",
       "      <td>57</td>\n",
       "      <td>32</td>\n",
       "      <td>82</td>\n",
       "      <td>80</td>\n",
       "      <td>405</td>\n",
       "      <td>Pass</td>\n",
       "    </tr>\n",
       "    <tr>\n",
       "      <th>155</th>\n",
       "      <td>20JR1A4435</td>\n",
       "      <td>Rushitha</td>\n",
       "      <td>17</td>\n",
       "      <td>61</td>\n",
       "      <td>83</td>\n",
       "      <td>12</td>\n",
       "      <td>3</td>\n",
       "      <td>67</td>\n",
       "      <td>243</td>\n",
       "      <td>Pass</td>\n",
       "    </tr>\n",
       "    <tr>\n",
       "      <th>156</th>\n",
       "      <td>20JR1A4442</td>\n",
       "      <td>VIVEK</td>\n",
       "      <td>66</td>\n",
       "      <td>87</td>\n",
       "      <td>2</td>\n",
       "      <td>79</td>\n",
       "      <td>92</td>\n",
       "      <td>16</td>\n",
       "      <td>342</td>\n",
       "      <td>Pass</td>\n",
       "    </tr>\n",
       "    <tr>\n",
       "      <th>157</th>\n",
       "      <td>20JR1AO5J2</td>\n",
       "      <td>Charan Siva Sai</td>\n",
       "      <td>73</td>\n",
       "      <td>58</td>\n",
       "      <td>33</td>\n",
       "      <td>56</td>\n",
       "      <td>56</td>\n",
       "      <td>19</td>\n",
       "      <td>295</td>\n",
       "      <td>Pass</td>\n",
       "    </tr>\n",
       "    <tr>\n",
       "      <th>158</th>\n",
       "      <td>20jr1A0518</td>\n",
       "      <td>anusha</td>\n",
       "      <td>33</td>\n",
       "      <td>61</td>\n",
       "      <td>26</td>\n",
       "      <td>53</td>\n",
       "      <td>29</td>\n",
       "      <td>18</td>\n",
       "      <td>220</td>\n",
       "      <td>Pass</td>\n",
       "    </tr>\n",
       "    <tr>\n",
       "      <th>159</th>\n",
       "      <td>20jr1a0552</td>\n",
       "      <td>Abc</td>\n",
       "      <td>68</td>\n",
       "      <td>26</td>\n",
       "      <td>18</td>\n",
       "      <td>20</td>\n",
       "      <td>24</td>\n",
       "      <td>70</td>\n",
       "      <td>226</td>\n",
       "      <td>Pass</td>\n",
       "    </tr>\n",
       "    <tr>\n",
       "      <th>160</th>\n",
       "      <td>20jr1ao5d8</td>\n",
       "      <td>hello</td>\n",
       "      <td>16</td>\n",
       "      <td>94</td>\n",
       "      <td>98</td>\n",
       "      <td>9</td>\n",
       "      <td>58</td>\n",
       "      <td>10</td>\n",
       "      <td>285</td>\n",
       "      <td>Pass</td>\n",
       "    </tr>\n",
       "  </tbody>\n",
       "</table>\n",
       "</div>"
      ],
      "text/plain": [
       "        Roll-No                          Name  Python   C  Java  DS  OS  DBMS  \\\n",
       "151  20JR1A4362            SK.B.SHOHEB AKTHAR      81  95    27  27  34    88   \n",
       "152  20JR1A4363                        MUNEER      46  57    55   9  70    50   \n",
       "153  20JR1A4364  Naga Sai Durgesh Singamsetty      65  62     9  54  46    67   \n",
       "154  20JR1A4431           Sakhamuri. Lathasri      65  89    57  32  82    80   \n",
       "155  20JR1A4435                      Rushitha      17  61    83  12   3    67   \n",
       "156  20JR1A4442                         VIVEK      66  87     2  79  92    16   \n",
       "157  20JR1AO5J2               Charan Siva Sai      73  58    33  56  56    19   \n",
       "158  20jr1A0518                        anusha      33  61    26  53  29    18   \n",
       "159  20jr1a0552                           Abc      68  26    18  20  24    70   \n",
       "160  20jr1ao5d8                         hello      16  94    98   9  58    10   \n",
       "\n",
       "     Marks Grade  \n",
       "151    352  Pass  \n",
       "152    287  Pass  \n",
       "153    303  Pass  \n",
       "154    405  Pass  \n",
       "155    243  Pass  \n",
       "156    342  Pass  \n",
       "157    295  Pass  \n",
       "158    220  Pass  \n",
       "159    226  Pass  \n",
       "160    285  Pass  "
      ]
     },
     "execution_count": 41,
     "metadata": {},
     "output_type": "execute_result"
    }
   ],
   "source": [
    "data.tail(10)"
   ]
  },
  {
   "cell_type": "code",
   "execution_count": 42,
   "id": "0cd85651",
   "metadata": {},
   "outputs": [
    {
     "data": {
      "text/html": [
       "<div>\n",
       "<style scoped>\n",
       "    .dataframe tbody tr th:only-of-type {\n",
       "        vertical-align: middle;\n",
       "    }\n",
       "\n",
       "    .dataframe tbody tr th {\n",
       "        vertical-align: top;\n",
       "    }\n",
       "\n",
       "    .dataframe thead th {\n",
       "        text-align: right;\n",
       "    }\n",
       "</style>\n",
       "<table border=\"1\" class=\"dataframe\">\n",
       "  <thead>\n",
       "    <tr style=\"text-align: right;\">\n",
       "      <th></th>\n",
       "      <th>Roll-No</th>\n",
       "      <th>Name</th>\n",
       "      <th>Python</th>\n",
       "      <th>C</th>\n",
       "      <th>Java</th>\n",
       "      <th>DS</th>\n",
       "      <th>OS</th>\n",
       "      <th>DBMS</th>\n",
       "      <th>Marks</th>\n",
       "      <th>Grade</th>\n",
       "    </tr>\n",
       "  </thead>\n",
       "  <tbody>\n",
       "    <tr>\n",
       "      <th>156</th>\n",
       "      <td>20JR1A4442</td>\n",
       "      <td>VIVEK</td>\n",
       "      <td>66</td>\n",
       "      <td>87</td>\n",
       "      <td>2</td>\n",
       "      <td>79</td>\n",
       "      <td>92</td>\n",
       "      <td>16</td>\n",
       "      <td>342</td>\n",
       "      <td>Pass</td>\n",
       "    </tr>\n",
       "    <tr>\n",
       "      <th>157</th>\n",
       "      <td>20JR1AO5J2</td>\n",
       "      <td>Charan Siva Sai</td>\n",
       "      <td>73</td>\n",
       "      <td>58</td>\n",
       "      <td>33</td>\n",
       "      <td>56</td>\n",
       "      <td>56</td>\n",
       "      <td>19</td>\n",
       "      <td>295</td>\n",
       "      <td>Pass</td>\n",
       "    </tr>\n",
       "    <tr>\n",
       "      <th>158</th>\n",
       "      <td>20jr1A0518</td>\n",
       "      <td>anusha</td>\n",
       "      <td>33</td>\n",
       "      <td>61</td>\n",
       "      <td>26</td>\n",
       "      <td>53</td>\n",
       "      <td>29</td>\n",
       "      <td>18</td>\n",
       "      <td>220</td>\n",
       "      <td>Pass</td>\n",
       "    </tr>\n",
       "    <tr>\n",
       "      <th>159</th>\n",
       "      <td>20jr1a0552</td>\n",
       "      <td>Abc</td>\n",
       "      <td>68</td>\n",
       "      <td>26</td>\n",
       "      <td>18</td>\n",
       "      <td>20</td>\n",
       "      <td>24</td>\n",
       "      <td>70</td>\n",
       "      <td>226</td>\n",
       "      <td>Pass</td>\n",
       "    </tr>\n",
       "    <tr>\n",
       "      <th>160</th>\n",
       "      <td>20jr1ao5d8</td>\n",
       "      <td>hello</td>\n",
       "      <td>16</td>\n",
       "      <td>94</td>\n",
       "      <td>98</td>\n",
       "      <td>9</td>\n",
       "      <td>58</td>\n",
       "      <td>10</td>\n",
       "      <td>285</td>\n",
       "      <td>Pass</td>\n",
       "    </tr>\n",
       "  </tbody>\n",
       "</table>\n",
       "</div>"
      ],
      "text/plain": [
       "        Roll-No             Name  Python   C  Java  DS  OS  DBMS  Marks Grade\n",
       "156  20JR1A4442            VIVEK      66  87     2  79  92    16    342  Pass\n",
       "157  20JR1AO5J2  Charan Siva Sai      73  58    33  56  56    19    295  Pass\n",
       "158  20jr1A0518           anusha      33  61    26  53  29    18    220  Pass\n",
       "159  20jr1a0552              Abc      68  26    18  20  24    70    226  Pass\n",
       "160  20jr1ao5d8            hello      16  94    98   9  58    10    285  Pass"
      ]
     },
     "execution_count": 42,
     "metadata": {},
     "output_type": "execute_result"
    }
   ],
   "source": [
    "data.tail(5)"
   ]
  },
  {
   "cell_type": "code",
   "execution_count": 43,
   "id": "96c08bcd",
   "metadata": {},
   "outputs": [
    {
     "data": {
      "text/plain": [
       "Roll-No    20JR1A0590\n",
       "Python              0\n",
       "C                   0\n",
       "Java                0\n",
       "DS                  1\n",
       "OS                  0\n",
       "DBMS                0\n",
       "Marks             107\n",
       "Grade            Fail\n",
       "dtype: object"
      ]
     },
     "execution_count": 43,
     "metadata": {},
     "output_type": "execute_result"
    }
   ],
   "source": [
    "data.min()"
   ]
  },
  {
   "cell_type": "code",
   "execution_count": 44,
   "id": "cd046226",
   "metadata": {},
   "outputs": [
    {
     "data": {
      "text/plain": [
       "Roll-No    20jr1ao5d8\n",
       "Python             99\n",
       "C                 100\n",
       "Java              100\n",
       "DS                100\n",
       "OS                100\n",
       "DBMS              100\n",
       "Marks             441\n",
       "Grade            Pass\n",
       "dtype: object"
      ]
     },
     "execution_count": 44,
     "metadata": {},
     "output_type": "execute_result"
    }
   ],
   "source": [
    "data.max()"
   ]
  },
  {
   "cell_type": "code",
   "execution_count": 45,
   "id": "782866bd",
   "metadata": {},
   "outputs": [
    {
     "name": "stdout",
     "output_type": "stream",
     "text": [
      "<class 'pandas.core.frame.DataFrame'>\n",
      "RangeIndex: 161 entries, 0 to 160\n",
      "Data columns (total 10 columns):\n",
      " #   Column   Non-Null Count  Dtype \n",
      "---  ------   --------------  ----- \n",
      " 0   Roll-No  161 non-null    object\n",
      " 1   Name     154 non-null    object\n",
      " 2   Python   161 non-null    int64 \n",
      " 3   C        161 non-null    int64 \n",
      " 4   Java     161 non-null    int64 \n",
      " 5   DS       161 non-null    int64 \n",
      " 6   OS       161 non-null    int64 \n",
      " 7   DBMS     161 non-null    int64 \n",
      " 8   Marks    161 non-null    int64 \n",
      " 9   Grade    161 non-null    object\n",
      "dtypes: int64(7), object(3)\n",
      "memory usage: 12.7+ KB\n"
     ]
    }
   ],
   "source": [
    "data.info()"
   ]
  },
  {
   "cell_type": "code",
   "execution_count": 46,
   "id": "227d20bf",
   "metadata": {
    "scrolled": true
   },
   "outputs": [
    {
     "data": {
      "text/html": [
       "<div>\n",
       "<style scoped>\n",
       "    .dataframe tbody tr th:only-of-type {\n",
       "        vertical-align: middle;\n",
       "    }\n",
       "\n",
       "    .dataframe tbody tr th {\n",
       "        vertical-align: top;\n",
       "    }\n",
       "\n",
       "    .dataframe thead th {\n",
       "        text-align: right;\n",
       "    }\n",
       "</style>\n",
       "<table border=\"1\" class=\"dataframe\">\n",
       "  <thead>\n",
       "    <tr style=\"text-align: right;\">\n",
       "      <th></th>\n",
       "      <th>Python</th>\n",
       "      <th>C</th>\n",
       "      <th>Java</th>\n",
       "      <th>DS</th>\n",
       "      <th>OS</th>\n",
       "      <th>DBMS</th>\n",
       "      <th>Marks</th>\n",
       "    </tr>\n",
       "  </thead>\n",
       "  <tbody>\n",
       "    <tr>\n",
       "      <th>count</th>\n",
       "      <td>161.000000</td>\n",
       "      <td>161.000000</td>\n",
       "      <td>161.000000</td>\n",
       "      <td>161.000000</td>\n",
       "      <td>161.000000</td>\n",
       "      <td>161.000000</td>\n",
       "      <td>161.000000</td>\n",
       "    </tr>\n",
       "    <tr>\n",
       "      <th>mean</th>\n",
       "      <td>51.664596</td>\n",
       "      <td>48.503106</td>\n",
       "      <td>45.776398</td>\n",
       "      <td>42.273292</td>\n",
       "      <td>52.093168</td>\n",
       "      <td>49.043478</td>\n",
       "      <td>289.354037</td>\n",
       "    </tr>\n",
       "    <tr>\n",
       "      <th>std</th>\n",
       "      <td>29.337677</td>\n",
       "      <td>29.097277</td>\n",
       "      <td>30.168894</td>\n",
       "      <td>28.250882</td>\n",
       "      <td>29.633132</td>\n",
       "      <td>29.139181</td>\n",
       "      <td>67.901161</td>\n",
       "    </tr>\n",
       "    <tr>\n",
       "      <th>min</th>\n",
       "      <td>0.000000</td>\n",
       "      <td>0.000000</td>\n",
       "      <td>0.000000</td>\n",
       "      <td>1.000000</td>\n",
       "      <td>0.000000</td>\n",
       "      <td>0.000000</td>\n",
       "      <td>107.000000</td>\n",
       "    </tr>\n",
       "    <tr>\n",
       "      <th>25%</th>\n",
       "      <td>27.000000</td>\n",
       "      <td>23.000000</td>\n",
       "      <td>20.000000</td>\n",
       "      <td>17.000000</td>\n",
       "      <td>29.000000</td>\n",
       "      <td>26.000000</td>\n",
       "      <td>234.000000</td>\n",
       "    </tr>\n",
       "    <tr>\n",
       "      <th>50%</th>\n",
       "      <td>50.000000</td>\n",
       "      <td>47.000000</td>\n",
       "      <td>49.000000</td>\n",
       "      <td>40.000000</td>\n",
       "      <td>52.000000</td>\n",
       "      <td>49.000000</td>\n",
       "      <td>295.000000</td>\n",
       "    </tr>\n",
       "    <tr>\n",
       "      <th>75%</th>\n",
       "      <td>80.000000</td>\n",
       "      <td>70.000000</td>\n",
       "      <td>69.000000</td>\n",
       "      <td>65.000000</td>\n",
       "      <td>79.000000</td>\n",
       "      <td>75.000000</td>\n",
       "      <td>331.000000</td>\n",
       "    </tr>\n",
       "    <tr>\n",
       "      <th>max</th>\n",
       "      <td>99.000000</td>\n",
       "      <td>100.000000</td>\n",
       "      <td>100.000000</td>\n",
       "      <td>100.000000</td>\n",
       "      <td>100.000000</td>\n",
       "      <td>100.000000</td>\n",
       "      <td>441.000000</td>\n",
       "    </tr>\n",
       "  </tbody>\n",
       "</table>\n",
       "</div>"
      ],
      "text/plain": [
       "           Python           C        Java          DS          OS        DBMS  \\\n",
       "count  161.000000  161.000000  161.000000  161.000000  161.000000  161.000000   \n",
       "mean    51.664596   48.503106   45.776398   42.273292   52.093168   49.043478   \n",
       "std     29.337677   29.097277   30.168894   28.250882   29.633132   29.139181   \n",
       "min      0.000000    0.000000    0.000000    1.000000    0.000000    0.000000   \n",
       "25%     27.000000   23.000000   20.000000   17.000000   29.000000   26.000000   \n",
       "50%     50.000000   47.000000   49.000000   40.000000   52.000000   49.000000   \n",
       "75%     80.000000   70.000000   69.000000   65.000000   79.000000   75.000000   \n",
       "max     99.000000  100.000000  100.000000  100.000000  100.000000  100.000000   \n",
       "\n",
       "            Marks  \n",
       "count  161.000000  \n",
       "mean   289.354037  \n",
       "std     67.901161  \n",
       "min    107.000000  \n",
       "25%    234.000000  \n",
       "50%    295.000000  \n",
       "75%    331.000000  \n",
       "max    441.000000  "
      ]
     },
     "execution_count": 46,
     "metadata": {},
     "output_type": "execute_result"
    }
   ],
   "source": [
    "data.describe()"
   ]
  },
  {
   "cell_type": "code",
   "execution_count": 47,
   "id": "1809895f",
   "metadata": {},
   "outputs": [
    {
     "data": {
      "text/plain": [
       "0      97\n",
       "1      77\n",
       "2      69\n",
       "3      72\n",
       "4      95\n",
       "       ..\n",
       "156    87\n",
       "157    58\n",
       "158    61\n",
       "159    26\n",
       "160    94\n",
       "Name: C, Length: 161, dtype: int64"
      ]
     },
     "execution_count": 47,
     "metadata": {},
     "output_type": "execute_result"
    }
   ],
   "source": [
    "cp=data[\"C\"]# in file C is cap\n",
    "cp"
   ]
  },
  {
   "cell_type": "code",
   "execution_count": 48,
   "id": "3c764834",
   "metadata": {},
   "outputs": [
    {
     "data": {
      "text/plain": [
       "0      88\n",
       "1      45\n",
       "2       8\n",
       "3      42\n",
       "4      10\n",
       "       ..\n",
       "156    79\n",
       "157    56\n",
       "158    53\n",
       "159    20\n",
       "160     9\n",
       "Name: DS, Length: 161, dtype: int64"
      ]
     },
     "execution_count": 48,
     "metadata": {},
     "output_type": "execute_result"
    }
   ],
   "source": [
    "ds=data[\"DS\"]\n",
    "ds"
   ]
  },
  {
   "cell_type": "code",
   "execution_count": 49,
   "id": "a3a1c895",
   "metadata": {},
   "outputs": [
    {
     "data": {
      "text/plain": [
       "0       4\n",
       "1      49\n",
       "2      21\n",
       "3      97\n",
       "4      14\n",
       "       ..\n",
       "156     2\n",
       "157    33\n",
       "158    26\n",
       "159    18\n",
       "160    98\n",
       "Name: Java, Length: 161, dtype: int64"
      ]
     },
     "execution_count": 49,
     "metadata": {},
     "output_type": "execute_result"
    }
   ],
   "source": [
    "ja=data[\"Java\"]\n",
    "ja"
   ]
  },
  {
   "cell_type": "code",
   "execution_count": 50,
   "id": "dd8c799a",
   "metadata": {},
   "outputs": [
    {
     "data": {
      "text/plain": [
       "0       4\n",
       "1      80\n",
       "2      43\n",
       "3      34\n",
       "4      93\n",
       "       ..\n",
       "156    66\n",
       "157    73\n",
       "158    33\n",
       "159    68\n",
       "160    16\n",
       "Name: Python, Length: 161, dtype: int64"
      ]
     },
     "execution_count": 50,
     "metadata": {},
     "output_type": "execute_result"
    }
   ],
   "source": [
    "py=data[\"Python\"]\n",
    "py"
   ]
  },
  {
   "cell_type": "code",
   "execution_count": 51,
   "id": "3ef4d8c5",
   "metadata": {},
   "outputs": [
    {
     "data": {
      "text/plain": [
       "0      52\n",
       "1       0\n",
       "2      91\n",
       "3      71\n",
       "4      20\n",
       "       ..\n",
       "156    16\n",
       "157    19\n",
       "158    18\n",
       "159    70\n",
       "160    10\n",
       "Name: DBMS, Length: 161, dtype: int64"
      ]
     },
     "execution_count": 51,
     "metadata": {},
     "output_type": "execute_result"
    }
   ],
   "source": [
    "db=data[\"DBMS\"]\n",
    "db"
   ]
  },
  {
   "cell_type": "code",
   "execution_count": 52,
   "id": "213c40d2",
   "metadata": {},
   "outputs": [
    {
     "data": {
      "text/plain": [
       "0      41\n",
       "1      70\n",
       "2      93\n",
       "3      33\n",
       "4      73\n",
       "       ..\n",
       "156    92\n",
       "157    56\n",
       "158    29\n",
       "159    24\n",
       "160    58\n",
       "Name: OS, Length: 161, dtype: int64"
      ]
     },
     "execution_count": 52,
     "metadata": {},
     "output_type": "execute_result"
    }
   ],
   "source": [
    "os=data[\"OS\"]\n",
    "os"
   ]
  },
  {
   "cell_type": "code",
   "execution_count": 53,
   "id": "d149570b",
   "metadata": {},
   "outputs": [
    {
     "name": "stdout",
     "output_type": "stream",
     "text": [
      "0      88\n",
      "1      45\n",
      "2       8\n",
      "4      10\n",
      "5      41\n",
      "       ..\n",
      "156    79\n",
      "157    56\n",
      "158    53\n",
      "159    20\n",
      "160     9\n",
      "Name: DS, Length: 160, dtype: int64\n"
     ]
    }
   ],
   "source": [
    "kk=data[\"DS\"].drop(3)\n",
    "print(kk)"
   ]
  },
  {
   "cell_type": "code",
   "execution_count": 54,
   "id": "32d133df",
   "metadata": {},
   "outputs": [
    {
     "name": "stdout",
     "output_type": "stream",
     "text": [
      "        Roll-No                Name   C  Java  DS  OS  DBMS  Marks Grade\n",
      "0    20JR1A0590            M.Sushma  97     4  88  41    52    286  Pass\n",
      "1    20JR1A0591     Nagumothu Navya  77    49  45  70     0    321  Pass\n",
      "2    20JR1A0592    N.Lakshmi Vasavi  69    21   8  93    91    325  Pass\n",
      "3    20JR1A0593      Sushma Namburi  72    97  42  33    71    349  Pass\n",
      "4    20JR1A0594  N.lakshmi Chandana  95    14  10  73    20    305  Pass\n",
      "..          ...                 ...  ..   ...  ..  ..   ...    ...   ...\n",
      "156  20JR1A4442               VIVEK  87     2  79  92    16    342  Pass\n",
      "157  20JR1AO5J2     Charan Siva Sai  58    33  56  56    19    295  Pass\n",
      "158  20jr1A0518              anusha  61    26  53  29    18    220  Pass\n",
      "159  20jr1a0552                 Abc  26    18  20  24    70    226  Pass\n",
      "160  20jr1ao5d8               hello  94    98   9  58    10    285  Pass\n",
      "\n",
      "[161 rows x 9 columns]\n"
     ]
    }
   ],
   "source": [
    "data.drop(\"Python\",axis=\"columns\",inplace=True)\n",
    "print (data)"
   ]
  },
  {
   "cell_type": "code",
   "execution_count": 55,
   "id": "10b7ebf0",
   "metadata": {},
   "outputs": [
    {
     "data": {
      "text/html": [
       "<div>\n",
       "<style scoped>\n",
       "    .dataframe tbody tr th:only-of-type {\n",
       "        vertical-align: middle;\n",
       "    }\n",
       "\n",
       "    .dataframe tbody tr th {\n",
       "        vertical-align: top;\n",
       "    }\n",
       "\n",
       "    .dataframe thead th {\n",
       "        text-align: right;\n",
       "    }\n",
       "</style>\n",
       "<table border=\"1\" class=\"dataframe\">\n",
       "  <thead>\n",
       "    <tr style=\"text-align: right;\">\n",
       "      <th></th>\n",
       "      <th>Roll-No</th>\n",
       "      <th>Name</th>\n",
       "      <th>Java</th>\n",
       "      <th>DS</th>\n",
       "      <th>OS</th>\n",
       "      <th>DBMS</th>\n",
       "      <th>Marks</th>\n",
       "      <th>Grade</th>\n",
       "    </tr>\n",
       "  </thead>\n",
       "  <tbody>\n",
       "    <tr>\n",
       "      <th>0</th>\n",
       "      <td>20JR1A0590</td>\n",
       "      <td>M.Sushma</td>\n",
       "      <td>4</td>\n",
       "      <td>88</td>\n",
       "      <td>41</td>\n",
       "      <td>52</td>\n",
       "      <td>286</td>\n",
       "      <td>Pass</td>\n",
       "    </tr>\n",
       "    <tr>\n",
       "      <th>1</th>\n",
       "      <td>20JR1A0591</td>\n",
       "      <td>Nagumothu Navya</td>\n",
       "      <td>49</td>\n",
       "      <td>45</td>\n",
       "      <td>70</td>\n",
       "      <td>0</td>\n",
       "      <td>321</td>\n",
       "      <td>Pass</td>\n",
       "    </tr>\n",
       "    <tr>\n",
       "      <th>2</th>\n",
       "      <td>20JR1A0592</td>\n",
       "      <td>N.Lakshmi Vasavi</td>\n",
       "      <td>21</td>\n",
       "      <td>8</td>\n",
       "      <td>93</td>\n",
       "      <td>91</td>\n",
       "      <td>325</td>\n",
       "      <td>Pass</td>\n",
       "    </tr>\n",
       "    <tr>\n",
       "      <th>3</th>\n",
       "      <td>20JR1A0593</td>\n",
       "      <td>Sushma Namburi</td>\n",
       "      <td>97</td>\n",
       "      <td>42</td>\n",
       "      <td>33</td>\n",
       "      <td>71</td>\n",
       "      <td>349</td>\n",
       "      <td>Pass</td>\n",
       "    </tr>\n",
       "    <tr>\n",
       "      <th>4</th>\n",
       "      <td>20JR1A0594</td>\n",
       "      <td>N.lakshmi Chandana</td>\n",
       "      <td>14</td>\n",
       "      <td>10</td>\n",
       "      <td>73</td>\n",
       "      <td>20</td>\n",
       "      <td>305</td>\n",
       "      <td>Pass</td>\n",
       "    </tr>\n",
       "    <tr>\n",
       "      <th>...</th>\n",
       "      <td>...</td>\n",
       "      <td>...</td>\n",
       "      <td>...</td>\n",
       "      <td>...</td>\n",
       "      <td>...</td>\n",
       "      <td>...</td>\n",
       "      <td>...</td>\n",
       "      <td>...</td>\n",
       "    </tr>\n",
       "    <tr>\n",
       "      <th>156</th>\n",
       "      <td>20JR1A4442</td>\n",
       "      <td>VIVEK</td>\n",
       "      <td>2</td>\n",
       "      <td>79</td>\n",
       "      <td>92</td>\n",
       "      <td>16</td>\n",
       "      <td>342</td>\n",
       "      <td>Pass</td>\n",
       "    </tr>\n",
       "    <tr>\n",
       "      <th>157</th>\n",
       "      <td>20JR1AO5J2</td>\n",
       "      <td>Charan Siva Sai</td>\n",
       "      <td>33</td>\n",
       "      <td>56</td>\n",
       "      <td>56</td>\n",
       "      <td>19</td>\n",
       "      <td>295</td>\n",
       "      <td>Pass</td>\n",
       "    </tr>\n",
       "    <tr>\n",
       "      <th>158</th>\n",
       "      <td>20jr1A0518</td>\n",
       "      <td>anusha</td>\n",
       "      <td>26</td>\n",
       "      <td>53</td>\n",
       "      <td>29</td>\n",
       "      <td>18</td>\n",
       "      <td>220</td>\n",
       "      <td>Pass</td>\n",
       "    </tr>\n",
       "    <tr>\n",
       "      <th>159</th>\n",
       "      <td>20jr1a0552</td>\n",
       "      <td>Abc</td>\n",
       "      <td>18</td>\n",
       "      <td>20</td>\n",
       "      <td>24</td>\n",
       "      <td>70</td>\n",
       "      <td>226</td>\n",
       "      <td>Pass</td>\n",
       "    </tr>\n",
       "    <tr>\n",
       "      <th>160</th>\n",
       "      <td>20jr1ao5d8</td>\n",
       "      <td>hello</td>\n",
       "      <td>98</td>\n",
       "      <td>9</td>\n",
       "      <td>58</td>\n",
       "      <td>10</td>\n",
       "      <td>285</td>\n",
       "      <td>Pass</td>\n",
       "    </tr>\n",
       "  </tbody>\n",
       "</table>\n",
       "<p>161 rows × 8 columns</p>\n",
       "</div>"
      ],
      "text/plain": [
       "        Roll-No                Name  Java  DS  OS  DBMS  Marks Grade\n",
       "0    20JR1A0590            M.Sushma     4  88  41    52    286  Pass\n",
       "1    20JR1A0591     Nagumothu Navya    49  45  70     0    321  Pass\n",
       "2    20JR1A0592    N.Lakshmi Vasavi    21   8  93    91    325  Pass\n",
       "3    20JR1A0593      Sushma Namburi    97  42  33    71    349  Pass\n",
       "4    20JR1A0594  N.lakshmi Chandana    14  10  73    20    305  Pass\n",
       "..          ...                 ...   ...  ..  ..   ...    ...   ...\n",
       "156  20JR1A4442               VIVEK     2  79  92    16    342  Pass\n",
       "157  20JR1AO5J2     Charan Siva Sai    33  56  56    19    295  Pass\n",
       "158  20jr1A0518              anusha    26  53  29    18    220  Pass\n",
       "159  20jr1a0552                 Abc    18  20  24    70    226  Pass\n",
       "160  20jr1ao5d8               hello    98   9  58    10    285  Pass\n",
       "\n",
       "[161 rows x 8 columns]"
      ]
     },
     "execution_count": 55,
     "metadata": {},
     "output_type": "execute_result"
    }
   ],
   "source": [
    "data.drop(\"C\",axis=1,inplace=True)\n",
    "data"
   ]
  },
  {
   "cell_type": "code",
   "execution_count": 10,
   "id": "1f066c1d",
   "metadata": {},
   "outputs": [],
   "source": [
    "import matplotlib.pyplot as plt\n",
    "#pie\n",
    "#bar\n",
    "#list\n",
    "#plot\n",
    "#scattor"
   ]
  },
  {
   "cell_type": "code",
   "execution_count": 11,
   "id": "3a3181d2",
   "metadata": {},
   "outputs": [
    {
     "name": "stdout",
     "output_type": "stream",
     "text": [
      "['Annotation', 'Arrow', 'Artist', 'AutoLocator', 'Axes', 'Button', 'Circle', 'Figure', 'FigureCanvasBase', 'FixedFormatter', 'FixedLocator', 'FormatStrFormatter', 'Formatter', 'FuncFormatter', 'GridSpec', 'IndexLocator', 'Line2D', 'LinearLocator', 'Locator', 'LogFormatter', 'LogFormatterExponent', 'LogFormatterMathtext', 'LogLocator', 'MaxNLocator', 'MultipleLocator', 'Normalize', 'NullFormatter', 'NullLocator', 'Number', 'PolarAxes', 'Polygon', 'Rectangle', 'ScalarFormatter', 'Slider', 'Subplot', 'SubplotTool', 'Text', 'TickHelper', 'Widget', '_INSTALL_FIG_OBSERVER', '_IP_REGISTERED', '__builtins__', '__cached__', '__doc__', '__file__', '__loader__', '__name__', '__package__', '__spec__', '_auto_draw_if_interactive', '_backend_mod', '_get_running_interactive_framework', '_interactive_bk', '_log', '_pylab_helpers', '_setp', '_setup_pyplot_info_docstrings', '_show', 'acorr', 'angle_spectrum', 'annotate', 'arrow', 'autoscale', 'autumn', 'axes', 'axhline', 'axhspan', 'axis', 'axvline', 'axvspan', 'bar', 'barbs', 'barh', 'bone', 'box', 'boxplot', 'broken_barh', 'cbook', 'cla', 'clabel', 'clf', 'clim', 'close', 'cm', 'cohere', 'colorbar', 'colormaps', 'connect', 'contour', 'contourf', 'cool', 'copper', 'csd', 'cycler', 'dedent', 'delaxes', 'deprecated', 'disconnect', 'docstring', 'draw', 'draw_all', 'draw_if_interactive', 'errorbar', 'eventplot', 'figaspect', 'figimage', 'figlegend', 'fignum_exists', 'figtext', 'figure', 'fill', 'fill_between', 'fill_betweenx', 'findobj', 'flag', 'functools', 'gca', 'gcf', 'gci', 'get', 'get_backend', 'get_cmap', 'get_current_fig_manager', 'get_figlabels', 'get_fignums', 'get_plot_commands', 'get_scale_docs', 'get_scale_names', 'getp', 'ginput', 'gray', 'grid', 'hexbin', 'hist', 'hist2d', 'hlines', 'hot', 'hsv', 'importlib', 'imread', 'imsave', 'imshow', 'inferno', 'inspect', 'install_repl_displayhook', 'interactive', 'ioff', 'ion', 'isinteractive', 'jet', 'legend', 'locator_params', 'logging', 'loglog', 'magma', 'magnitude_spectrum', 'margins', 'matplotlib', 'matshow', 'minorticks_off', 'minorticks_on', 'mlab', 'new_figure_manager', 'nipy_spectral', 'np', 'pause', 'pcolor', 'pcolormesh', 'phase_spectrum', 'pie', 'pink', 'plasma', 'plot', 'plot_date', 'plotfile', 'plotting', 'polar', 'prism', 'psd', 'quiver', 'quiverkey', 'rc', 'rcParams', 'rcParamsDefault', 'rcParamsOrig', 'rc_context', 'rcdefaults', 'rcsetup', 're', 'register_cmap', 'rgrids', 'savefig', 'sca', 'scatter', 'sci', 'semilogx', 'semilogy', 'set_cmap', 'set_loglevel', 'setp', 'show', 'silent_list', 'specgram', 'spring', 'spy', 'stackplot', 'stem', 'step', 'streamplot', 'style', 'subplot', 'subplot2grid', 'subplot_tool', 'subplots', 'subplots_adjust', 'summer', 'suptitle', 'switch_backend', 'sys', 'table', 'text', 'thetagrids', 'tick_params', 'ticklabel_format', 'tight_layout', 'time', 'title', 'tricontour', 'tricontourf', 'tripcolor', 'triplot', 'twinx', 'twiny', 'uninstall_repl_displayhook', 'violinplot', 'viridis', 'vlines', 'waitforbuttonpress', 'warn_deprecated', 'winter', 'xcorr', 'xkcd', 'xlabel', 'xlim', 'xscale', 'xticks', 'ylabel', 'ylim', 'yscale', 'yticks']\n"
     ]
    }
   ],
   "source": [
    "print(dir(plt))"
   ]
  },
  {
   "cell_type": "code",
   "execution_count": 6,
   "id": "beebaf12",
   "metadata": {},
   "outputs": [],
   "source": [
    "import numpy as np\n",
    "x=np.arange(10)\n",
    "y=np.arange(20,40,2)"
   ]
  },
  {
   "cell_type": "code",
   "execution_count": 12,
   "id": "2a63edc6",
   "metadata": {},
   "outputs": [],
   "source": [
    "plt.plot(x,y)\n",
    "plt.show()"
   ]
  }
 ],
 "metadata": {
  "kernelspec": {
   "display_name": "Python 3",
   "language": "python",
   "name": "python3"
  },
  "language_info": {
   "codemirror_mode": {
    "name": "ipython",
    "version": 3
   },
   "file_extension": ".py",
   "mimetype": "text/x-python",
   "name": "python",
   "nbconvert_exporter": "python",
   "pygments_lexer": "ipython3",
   "version": "3.8.3"
  }
 },
 "nbformat": 4,
 "nbformat_minor": 5
}
