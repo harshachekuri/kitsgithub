{
 "cells": [
  {
   "cell_type": "code",
   "execution_count": 215,
   "id": "d55b61c5",
   "metadata": {
    "scrolled": false
   },
   "outputs": [
    {
     "name": "stdout",
     "output_type": "stream",
     "text": [
      "harsha vardhan\n",
      "h\n",
      "n\n",
      "harsha\n",
      "vardhan\n",
      "hrh\n",
      "nahdrav ahsrah\n",
      "arsha vardha\n",
      "14\n",
      "7\n",
      "v\n",
      "dhan\n",
      "ahsrah\n",
      "ahsrah vardhan\n",
      "ahsrah vardhan\n",
      "nahdrav ahsrah\n",
      "harsha vardhan\n"
     ]
    }
   ],
   "source": [
    "a=\"harsha vardhan\"\n",
    "print(a)\n",
    "print(a[0])\n",
    "print(a[-1])\n",
    "print (a[0:6])\n",
    "print (a[-7:])\n",
    "print (a[0:6:2])\n",
    "print (a[::-1])\n",
    "print (a[1:-1])\n",
    "print (len(a))\n",
    "print (len(a)//2)\n",
    "print (a[len(a)//2])\n",
    "print (a[-4:])\n",
    "print (a[5::-1])\n",
    "print (a[5::-1]+\" \"+a[7::])\n",
    "print (a[5:0:-1]+a[0],a[7:])\n",
    "print (a[::-1])\n",
    "print (a[0:-1:]+a[-1])"
   ]
  },
  {
   "cell_type": "code",
   "execution_count": 216,
   "id": "bbf7f750",
   "metadata": {},
   "outputs": [
    {
     "name": "stdout",
     "output_type": "stream",
     "text": [
      "['__add__', '__class__', '__contains__', '__delattr__', '__dir__', '__doc__', '__eq__', '__format__', '__ge__', '__getattribute__', '__getitem__', '__getnewargs__', '__gt__', '__hash__', '__init__', '__init_subclass__', '__iter__', '__le__', '__len__', '__lt__', '__mod__', '__mul__', '__ne__', '__new__', '__reduce__', '__reduce_ex__', '__repr__', '__rmod__', '__rmul__', '__setattr__', '__sizeof__', '__str__', '__subclasshook__', 'capitalize', 'casefold', 'center', 'count', 'encode', 'endswith', 'expandtabs', 'find', 'format', 'format_map', 'index', 'isalnum', 'isalpha', 'isascii', 'isdecimal', 'isdigit', 'isidentifier', 'islower', 'isnumeric', 'isprintable', 'isspace', 'istitle', 'isupper', 'join', 'ljust', 'lower', 'lstrip', 'maketrans', 'partition', 'replace', 'rfind', 'rindex', 'rjust', 'rpartition', 'rsplit', 'rstrip', 'split', 'splitlines', 'startswith', 'strip', 'swapcase', 'title', 'translate', 'upper', 'zfill']\n"
     ]
    }
   ],
   "source": [
    "print (dir(\" \"))"
   ]
  },
  {
   "cell_type": "code",
   "execution_count": 217,
   "id": "468f2bfb",
   "metadata": {
    "scrolled": true
   },
   "outputs": [
    {
     "name": "stdout",
     "output_type": "stream",
     "text": [
      "True\n",
      "False\n",
      "Harsha\n",
      "False\n",
      "True\n",
      "False\n",
      "Harsha is good boy\n",
      "False\n",
      "False\n",
      "True\n",
      "True\n",
      "False\n",
      "False\n",
      "True\n"
     ]
    }
   ],
   "source": [
    "a='harsha'\n",
    "b=\"harsha is good boy\"\n",
    "print(a.islower())\n",
    "print (a.isupper())\n",
    "print (a.capitalize())\n",
    "print (a.istitle())\n",
    "print(b.islower())\n",
    "print (b.isupper())\n",
    "print (b.capitalize())\n",
    "print (b.istitle())\n",
    "print (a.startswith(\"a\"))\n",
    "print (a.endswith(\"a\"))\n",
    "print (b.startswith(\"h\"))\n",
    "print (b.startswith(\"H\"))\n",
    "print (b.endswith(\"Y\"))\n",
    "print (b.endswith(\"y\"))"
   ]
  },
  {
   "cell_type": "code",
   "execution_count": 218,
   "id": "12e85094",
   "metadata": {},
   "outputs": [
    {
     "name": "stdout",
     "output_type": "stream",
     "text": [
      "  manikanta   \n",
      "------manikanta-------\n",
      "#######joel######\n"
     ]
    }
   ],
   "source": [
    "a =\"manikanta\"\n",
    "print (a.center(14))\n",
    "print (a.center(22,\"-\"))\n",
    "b=\"joel\"\n",
    "print (b.center(17,\"#\"))\n",
    "#LEFT OR FIGHT IT MAY TAKE\n",
    "#IF ODD RIGHT\n",
    "#IF EVEN LEFT"
   ]
  },
  {
   "cell_type": "code",
   "execution_count": 219,
   "id": "ae6f3b30",
   "metadata": {},
   "outputs": [
    {
     "name": "stdout",
     "output_type": "stream",
     "text": [
      "3\n",
      "1\n"
     ]
    }
   ],
   "source": [
    "a=\"harsha\"\n",
    "print (a.find(\"s\"))\n",
    "print (a.find(\"a\"))"
   ]
  },
  {
   "cell_type": "code",
   "execution_count": 220,
   "id": "29ad88da",
   "metadata": {},
   "outputs": [
    {
     "name": "stdout",
     "output_type": "stream",
     "text": [
      "3\n",
      "2\n"
     ]
    }
   ],
   "source": [
    "#count\n",
    "a=\"manikanta\"\n",
    "print(a.count(\"a\"))\n",
    "print(a.count(\"a\",3))"
   ]
  },
  {
   "cell_type": "code",
   "execution_count": 221,
   "id": "407daa68",
   "metadata": {},
   "outputs": [
    {
     "name": "stdout",
     "output_type": "stream",
     "text": [
      "1\n",
      "8\n",
      "1\n",
      "8\n",
      "-1\n"
     ]
    }
   ],
   "source": [
    "a=\"manikanta\"\n",
    "print(a.find(\"a\"))\n",
    "print(a.rfind(\"a\"))\n",
    "print(a.index(\"a\"))\n",
    "print(a.rindex(\"a\"))\n",
    "print(a.find(\"z\"))\n",
    "#error print(a.index(\"z\"))"
   ]
  },
  {
   "cell_type": "code",
   "execution_count": 222,
   "id": "49438cdb",
   "metadata": {},
   "outputs": [
    {
     "data": {
      "text/plain": [
       "'har     sha'"
      ]
     },
     "execution_count": 222,
     "metadata": {},
     "output_type": "execute_result"
    }
   ],
   "source": [
    "a=\"har\\tsha\"\n",
    "a.expandtabs()"
   ]
  },
  {
   "cell_type": "code",
   "execution_count": 223,
   "id": "86d107d0",
   "metadata": {},
   "outputs": [
    {
     "name": "stdout",
     "output_type": "stream",
     "text": [
      "this is harsha and my age is 19\n"
     ]
    }
   ],
   "source": [
    "a=\"this is {name} and my age is {age}\".format(name=\"harsha\",age=19)\n",
    "print (a)"
   ]
  },
  {
   "cell_type": "code",
   "execution_count": 224,
   "id": "72d12f69",
   "metadata": {
    "scrolled": true
   },
   "outputs": [
    {
     "name": "stdout",
     "output_type": "stream",
     "text": [
      "True\n",
      "False\n",
      "True\n",
      "True\n"
     ]
    }
   ],
   "source": [
    "a=\"harsha123\"\n",
    "b=\"1234\"\n",
    "print (a.isalnum())#number or alphabet\n",
    "print (a.isalpha())#only alphabets\n",
    "print (b.isdigit())#only numbers\n",
    "print (b.isdecimal())\n",
    "#c='\\UB002'#uniccode\n",
    "#print (c.isdecimal()) o/p=fa"
   ]
  },
  {
   "cell_type": "code",
   "execution_count": 225,
   "id": "9e6a5366",
   "metadata": {},
   "outputs": [
    {
     "name": "stdout",
     "output_type": "stream",
     "text": [
      "harsha\n",
      "harsha    \n",
      "    harsha\n"
     ]
    },
    {
     "data": {
      "text/plain": [
       "'    harsha'"
      ]
     },
     "execution_count": 225,
     "metadata": {},
     "output_type": "execute_result"
    }
   ],
   "source": [
    "a=\"    harsha    \"#4 spaces\n",
    "print (a.strip())\n",
    "print (a.lstrip())#removes right side space\n",
    "print (a.rstrip())\n",
    "(a.strip())\n",
    "a.lstrip()#removes right side space\n",
    "a.rstrip()\n",
    "#if print is not used only last one \n",
    "#executes but all lines will run\n"
   ]
  },
  {
   "cell_type": "code",
   "execution_count": 226,
   "id": "bc73ae1f",
   "metadata": {},
   "outputs": [
    {
     "name": "stdout",
     "output_type": "stream",
     "text": [
      "('this ', 'is', ' harsha vardhan')\n",
      "('hello ', 'hai', ' iam harsha')\n"
     ]
    }
   ],
   "source": [
    "a=\"this is harsha vardhan\"\n",
    "print(a.rpartition(\"is\"))\n",
    "b=\"hello hai iam harsha\"\n",
    "print(b.partition(\"hai\"))"
   ]
  },
  {
   "cell_type": "code",
   "execution_count": 227,
   "id": "701c6a9e",
   "metadata": {},
   "outputs": [
    {
     "name": "stdout",
     "output_type": "stream",
     "text": [
      "this is akash vardhan\n",
      "who akash akash is harsha vardhan\n",
      "akash akash hai iam harsha\n"
     ]
    }
   ],
   "source": [
    "a=\"this is harsha vardhan\"\n",
    "print (a.replace(\"harsha\",\"akash\"))\n",
    "b=\"who is is is harsha vardhan\"\n",
    "print (b.replace(\"is\",\"akash\",2))\n",
    "c=\"hai hai hai iam harsha\"\n",
    "print (c.replace(\"hai\",\"akash\",2))\n"
   ]
  },
  {
   "cell_type": "code",
   "execution_count": 228,
   "id": "d7b972cb",
   "metadata": {},
   "outputs": [
    {
     "name": "stdout",
     "output_type": "stream",
     "text": [
      "hArShA\n"
     ]
    }
   ],
   "source": [
    "a=\"HaRsHa\"\n",
    "print (a.swapcase())"
   ]
  },
  {
   "cell_type": "code",
   "execution_count": null,
   "id": "f148c46f",
   "metadata": {},
   "outputs": [],
   "source": []
  },
  {
   "cell_type": "code",
   "execution_count": 229,
   "id": "95b1bf1e",
   "metadata": {},
   "outputs": [
    {
     "name": "stdout",
     "output_type": "stream",
     "text": [
      "..............harsha\n",
      "harsha..............\n",
      "00harsha\n"
     ]
    }
   ],
   "source": [
    "a=\"harsha\"\n",
    "print (a.rjust(20,\".\"))\n",
    "print (a.ljust(20,\".\"))\n",
    "#print (a.just(20,\".\"))error\n",
    "print (a.zfill(8))"
   ]
  },
  {
   "cell_type": "code",
   "execution_count": 230,
   "id": "7d3cf97f",
   "metadata": {},
   "outputs": [
    {
     "name": "stdout",
     "output_type": "stream",
     "text": [
      "harsha\n"
     ]
    }
   ],
   "source": [
    "a=\"HARSHA\"\n",
    "n=a.capitalize()# no need\n",
    "print (a.casefold())\n"
   ]
  },
  {
   "cell_type": "code",
   "execution_count": 231,
   "id": "40ce7c89",
   "metadata": {},
   "outputs": [
    {
     "name": "stdout",
     "output_type": "stream",
     "text": [
      "JOEL\n",
      "joel\n",
      "b'joel'\n"
     ]
    }
   ],
   "source": [
    "a=\"joel\"\n",
    "print (a.upper())\n",
    "print (a.lower())\n",
    "print (a.encode())\n"
   ]
  },
  {
   "cell_type": "code",
   "execution_count": 232,
   "id": "dbd719e1",
   "metadata": {},
   "outputs": [
    {
     "name": "stdout",
     "output_type": "stream",
     "text": [
      "['hardik ', ' is best allrounder']\n"
     ]
    }
   ],
   "source": [
    "a=\"hardik pandya is best allrounder\"\n",
    "print (a.split(\"pandya\"))#will diappear"
   ]
  },
  {
   "cell_type": "code",
   "execution_count": 233,
   "id": "783c479a",
   "metadata": {},
   "outputs": [
    {
     "name": "stdout",
     "output_type": "stream",
     "text": [
      "('rohit ', 'sharma', ' is best batsman')\n"
     ]
    }
   ],
   "source": [
    "a=\"rohit sharma is best batsman\"\n",
    "print (a.partition(\"sharma\"))#will appear"
   ]
  },
  {
   "cell_type": "code",
   "execution_count": 234,
   "id": "0a6ee999",
   "metadata": {},
   "outputs": [
    {
     "name": "stdout",
     "output_type": "stream",
     "text": [
      "['rohit', 'sharma', 'is', 'best', 'batsman']\n"
     ]
    }
   ],
   "source": [
    "a=\"rohit sharma is best batsman\"\n",
    "print (a.split())"
   ]
  },
  {
   "cell_type": "code",
   "execution_count": 235,
   "id": "4fdac38d",
   "metadata": {},
   "outputs": [
    {
     "name": "stdout",
     "output_type": "stream",
     "text": [
      "['rohit ', 'sharma', ' is', ' best', ' batsman']\n"
     ]
    }
   ],
   "source": [
    "a=\"rohit \\nsharma\\n is\\n best\\n batsman\"\n",
    "print (a.splitlines())\n",
    "#if keep to in brackets \\n also visible on o/p"
   ]
  },
  {
   "cell_type": "code",
   "execution_count": 236,
   "id": "5a1065a6",
   "metadata": {},
   "outputs": [
    {
     "name": "stdout",
     "output_type": "stream",
     "text": [
      "rohit hitman is best batsman hitman\n"
     ]
    }
   ],
   "source": [
    "a=\"rohit sharma is best batsman sharma\"\n",
    "a1=a.split(\"sharma\")\n",
    "a2=\"hitman\".join(a1)\n",
    "print (a2)"
   ]
  },
  {
   "cell_type": "code",
   "execution_count": 237,
   "id": "e4a0629e",
   "metadata": {},
   "outputs": [
    {
     "name": "stdout",
     "output_type": "stream",
     "text": [
      "harsha vardhan chekuri joel sri prakash dasari sri manikanta raju kurapati\n",
      "harsha vardhan chekuri\n",
      "joel sri prakash dasari\n",
      "sri manikanta raju kurapati\n"
     ]
    }
   ],
   "source": [
    "#@bessttttt friendssssss foreverrrrrr\n",
    "a=\"harsha vardhan chekuri\"\n",
    "b='joel sri prakash dasari'\n",
    "c=\"sri manikanta raju kurapati\"\n",
    "print (a,b,c)\n",
    "print (a)\n",
    "print (b)\n",
    "print (c)"
   ]
  },
  {
   "cell_type": "code",
   "execution_count": 238,
   "id": "d1bc5632",
   "metadata": {},
   "outputs": [
    {
     "name": "stdout",
     "output_type": "stream",
     "text": [
      "hello roy\n"
     ]
    }
   ],
   "source": [
    "hello={58:68}\n",
    "data='hello roy'\n",
    "print (data.translate(hello))"
   ]
  },
  {
   "cell_type": "code",
   "execution_count": null,
   "id": "55a37ab8",
   "metadata": {},
   "outputs": [],
   "source": [
    "#count no of digits in given str\n",
    "n=input(\"enter str:\")#space count include\n",
    "print (len(str(n)))"
   ]
  },
  {
   "cell_type": "code",
   "execution_count": null,
   "id": "7285f0df",
   "metadata": {},
   "outputs": [],
   "source": [
    "#palindrome\n",
    "a=\"nitin\"\n",
    "b=a[::-1]\n",
    "if a==b:\n",
    "    print ('it is a palindrome')\n",
    "else:\n",
    "    print (\"it is not palindrome\")"
   ]
  }
 ],
 "metadata": {
  "kernelspec": {
   "display_name": "Python 3",
   "language": "python",
   "name": "python3"
  },
  "language_info": {
   "codemirror_mode": {
    "name": "ipython",
    "version": 3
   },
   "file_extension": ".py",
   "mimetype": "text/x-python",
   "name": "python",
   "nbconvert_exporter": "python",
   "pygments_lexer": "ipython3",
   "version": "3.8.3"
  }
 },
 "nbformat": 4,
 "nbformat_minor": 5
}
