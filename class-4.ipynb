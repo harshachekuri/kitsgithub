{
 "cells": [
  {
   "cell_type": "code",
   "execution_count": 6,
   "id": "4b8a3852",
   "metadata": {},
   "outputs": [],
   "source": [
    "# dictionary\n",
    "# sets \n",
    "# functions "
   ]
  },
  {
   "cell_type": "markdown",
   "id": "c31be1b8",
   "metadata": {},
   "source": [
    "#### dictionary\n",
    "1. it is used to store the collection of data or the information   \n",
    "2. these unodered and changable\n",
    "3. combination of keys and values seperated by \":\"\n",
    "4. {keys : values}"
   ]
  },
  {
   "cell_type": "code",
   "execution_count": 8,
   "id": "407094f2",
   "metadata": {},
   "outputs": [
    {
     "name": "stdout",
     "output_type": "stream",
     "text": [
      "<class 'dict'>\n",
      "<class 'dict'>\n"
     ]
    }
   ],
   "source": [
    "d={}\n",
    "d1=dict()\n",
    "print(type(d))\n",
    "print(type(d1))"
   ]
  },
  {
   "cell_type": "code",
   "execution_count": 18,
   "id": "3d1746c4",
   "metadata": {},
   "outputs": [
    {
     "name": "stdout",
     "output_type": "stream",
     "text": [
      "{1: 28, 2: 'harsha', 3: 'joel'}\n",
      "28\n",
      "harsha\n",
      "joel\n"
     ]
    }
   ],
   "source": [
    "d={1:28,2:\"harsha\",3:\"joel\"}\n",
    "print (d)\n",
    "print(d[1])\n",
    "print(d[2])\n",
    "print(d[3])"
   ]
  },
  {
   "cell_type": "code",
   "execution_count": 17,
   "id": "15b3db57",
   "metadata": {},
   "outputs": [
    {
     "name": "stdout",
     "output_type": "stream",
     "text": [
      "28\n"
     ]
    }
   ],
   "source": [
    "l=[1,2,3,4,28,'harsha']\n",
    "print (l[-2])#index position"
   ]
  },
  {
   "cell_type": "code",
   "execution_count": 21,
   "id": "1f321157",
   "metadata": {},
   "outputs": [
    {
     "name": "stdout",
     "output_type": "stream",
     "text": [
      "{1: 10, 2: 20, 3: 30, 4: 40, 5: 50}\n"
     ]
    }
   ],
   "source": [
    "#zip is used to change lists and tuples to dictionary\n",
    "l1=[1,2,3,4,5]\n",
    "l2=[10,20,30,40,50]\n",
    "d=dict(zip(l1,l2))\n",
    "print (d)"
   ]
  },
  {
   "cell_type": "code",
   "execution_count": 24,
   "id": "f2694a3d",
   "metadata": {},
   "outputs": [
    {
     "name": "stdout",
     "output_type": "stream",
     "text": [
      "{1: 'a', 2: 'b', 3: 'c', 4: 'd', 5: 7}\n"
     ]
    }
   ],
   "source": [
    "l=[1,2,3,4,5,5]#will not take repeated values\n",
    "t=('a','b','c','d','e',7)\n",
    "d=dict(zip(l,t))\n",
    "print(d)"
   ]
  },
  {
   "cell_type": "code",
   "execution_count": 25,
   "id": "4e2a36c2",
   "metadata": {},
   "outputs": [
    {
     "name": "stdout",
     "output_type": "stream",
     "text": [
      "['__class__', '__contains__', '__delattr__', '__delitem__', '__dir__', '__doc__', '__eq__', '__format__', '__ge__', '__getattribute__', '__getitem__', '__gt__', '__hash__', '__init__', '__init_subclass__', '__iter__', '__le__', '__len__', '__lt__', '__ne__', '__new__', '__reduce__', '__reduce_ex__', '__repr__', '__reversed__', '__setattr__', '__setitem__', '__sizeof__', '__str__', '__subclasshook__', 'clear', 'copy', 'fromkeys', 'get', 'items', 'keys', 'pop', 'popitem', 'setdefault', 'update', 'values']\n"
     ]
    }
   ],
   "source": [
    "print (dir (dict))"
   ]
  },
  {
   "cell_type": "code",
   "execution_count": 32,
   "id": "e8135877",
   "metadata": {},
   "outputs": [
    {
     "name": "stdout",
     "output_type": "stream",
     "text": [
      "dict_keys(['name', 'branch', 'rollno', 'clg'])\n",
      "dict_values(['harsha', 'cse', 42, 'kits'])\n",
      "dict_items([('name', 'harsha'), ('branch', 'cse'), ('rollno', 42), ('clg', 'kits')])\n",
      "cse\n",
      "cse\n"
     ]
    }
   ],
   "source": [
    "d={'name':'harsha','branch':'cse','rollno':42,'clg':'kits'}\n",
    "print(d.keys())\n",
    "print (d.values())\n",
    "print (d.items())\n",
    "print(d.get('branch'))\n",
    "print (d['branch'])"
   ]
  },
  {
   "cell_type": "code",
   "execution_count": 33,
   "id": "20adbdcc",
   "metadata": {},
   "outputs": [
    {
     "name": "stdout",
     "output_type": "stream",
     "text": [
      "{'name': 'harsha', 'branch': 'cse', 'rollno': 42, 'clg': 'kits', 'age': 19}\n"
     ]
    }
   ],
   "source": [
    "d={'name':'harsha','branch':'cse','rollno':42,'clg':'kits'}\n",
    "d['age']=19  #adding\n",
    "print(d)\n"
   ]
  },
  {
   "cell_type": "code",
   "execution_count": 36,
   "id": "4c6dc898",
   "metadata": {},
   "outputs": [
    {
     "name": "stdout",
     "output_type": "stream",
     "text": [
      "42\n",
      "{'name': 'harsha', 'branch': 'cse'}\n"
     ]
    }
   ],
   "source": [
    "d={'name':'harsha','branch':'cse','rollno':42}\n",
    "#delete\n",
    "print(d.pop('rollno'))\n",
    "print(d)"
   ]
  },
  {
   "cell_type": "code",
   "execution_count": 38,
   "id": "500e8bae",
   "metadata": {},
   "outputs": [
    {
     "name": "stdout",
     "output_type": "stream",
     "text": [
      "{'name': 'harsha', 'branch': 'cse'}\n"
     ]
    }
   ],
   "source": [
    "d={'name':'harsha','branch':'cse','rollno':42}\n",
    "d.popitem()\n",
    "print(d)\n",
    "#deletes last item "
   ]
  },
  {
   "cell_type": "code",
   "execution_count": 40,
   "id": "e683b24d",
   "metadata": {},
   "outputs": [
    {
     "name": "stdout",
     "output_type": "stream",
     "text": [
      "{'name': 'harsha', 'branch': 'ece', 'rollno': 42}\n"
     ]
    }
   ],
   "source": [
    "d={'name':'harsha','branch':'cse','rollno':42}\n",
    "#edits dictionary\n",
    "(d.update({'branch':'ece'}))#key\n",
    "print (d)"
   ]
  },
  {
   "cell_type": "code",
   "execution_count": 43,
   "id": "6a379849",
   "metadata": {},
   "outputs": [
    {
     "name": "stdout",
     "output_type": "stream",
     "text": [
      "{'name': 'harsha', 'branch': 'cse', 'rollno': 42, 'cse': 'it'}\n"
     ]
    }
   ],
   "source": [
    "d={'name':'harsha','branch':'cse','rollno':42}\n",
    "d.update({'cse':'it'})\n",
    "print(d)\n",
    "#not updated \n",
    "#created new one \n",
    "#bcoz key not used"
   ]
  },
  {
   "cell_type": "code",
   "execution_count": 47,
   "id": "8cb5c19f",
   "metadata": {},
   "outputs": [
    {
     "name": "stdout",
     "output_type": "stream",
     "text": [
      "{'name': 'harsha', 'branch': 'cse', 'rollno': 42, 'age': [19, 20]}\n",
      "{'name': 'harsha', 'branch': 'cse', 'rollno': 42, 'age': [19, 20]}\n"
     ]
    }
   ],
   "source": [
    "d={'name':'harsha','branch':'cse','rollno':42}\n",
    "d.setdefault('age',[19,20])\n",
    "print(d)\n",
    "d.setdefault('age',[20,21])\n",
    "print(d)\n",
    "#first values are fixed\n",
    "#update can b used"
   ]
  },
  {
   "cell_type": "code",
   "execution_count": 51,
   "id": "d5cd61de",
   "metadata": {},
   "outputs": [
    {
     "name": "stdout",
     "output_type": "stream",
     "text": [
      "{'a': [1, 2, 3], 'b': [1, 2, 3], 'c': [1, 2, 3]}\n"
     ]
    }
   ],
   "source": [
    "a={}\n",
    "print(a.fromkeys(('a','b','c'),[1,2,3]))\n",
    "#if values not given o/p is none"
   ]
  },
  {
   "cell_type": "code",
   "execution_count": 130,
   "id": "a9268c7a",
   "metadata": {},
   "outputs": [
    {
     "name": "stdout",
     "output_type": "stream",
     "text": [
      "{'a': 2, 'b': 3}\n",
      "{'a': 2, 'b': 3}\n"
     ]
    }
   ],
   "source": [
    "#copy\n",
    "a={'a':2,'b':3}\n",
    "b=a.copy()\n",
    "print(b)\n",
    "print(a)"
   ]
  },
  {
   "cell_type": "code",
   "execution_count": 60,
   "id": "682cc3e7",
   "metadata": {},
   "outputs": [
    {
     "name": "stdout",
     "output_type": "stream",
     "text": [
      "{5: 50, 6: 60, 1: 50, 2: 60}\n"
     ]
    }
   ],
   "source": [
    "d1={1:10,2:20}\n",
    "d2={3:30,4:40}\n",
    "d3={5:50,6:60}\n",
    "d4={}\n",
    "#{1:10,2:20,3:30,4:40,5:50,6:60}\n",
    "for d in (a,d2,d3):\n",
    "    d.update(e)\n",
    "print(d)\n"
   ]
  },
  {
   "cell_type": "code",
   "execution_count": 62,
   "id": "78674782",
   "metadata": {},
   "outputs": [
    {
     "name": "stdout",
     "output_type": "stream",
     "text": [
      "enter a string:engineering\n",
      "{'e': 3, 'n': 3, 'g': 2, 'i': 2, 'r': 1}\n"
     ]
    }
   ],
   "source": [
    "#engineering\n",
    "#{'e':(3),'n':(3)......}\n",
    "a=input(\"enter a string:\")\n",
    "b={}\n",
    "for i in a:\n",
    "    s=a.count(i)\n",
    "    b[i]=s #{'e'}\n",
    "print (b)"
   ]
  },
  {
   "cell_type": "code",
   "execution_count": 66,
   "id": "4d499a20",
   "metadata": {},
   "outputs": [
    {
     "name": "stdout",
     "output_type": "stream",
     "text": [
      "{'name': 'harsha', 'rollno': 42}\n"
     ]
    }
   ],
   "source": [
    "d={'name':'harsha','branch':'cse','rollno':42}\n",
    "del d['branch']\n",
    "print(d)"
   ]
  },
  {
   "cell_type": "code",
   "execution_count": 72,
   "id": "ea0169f4",
   "metadata": {},
   "outputs": [
    {
     "name": "stdout",
     "output_type": "stream",
     "text": [
      "{2: ['joel', 49], 3: ['ravi', 47], 4: ['gopi', 61]}\n",
      "2 : ['joel', 49]\n",
      "3 : ['ravi', 47]\n",
      "4 : ['gopi', 61]\n"
     ]
    }
   ],
   "source": [
    "stdt={1:['harsha',42],2:['joel',49],3:['ravi',47]}\n",
    "#4th value should be added\n",
    "#1st value should be deleted#\n",
    "#2,3,4 keys & their o/p S should be printed\n",
    "stdt.pop(1)#del stdt[1]\n",
    "stdt[4]=['gopi',61]#update also can used\n",
    "print(stdt)\n",
    "for k,v in stdt.items():\n",
    "    print(k,\":\",v)"
   ]
  },
  {
   "cell_type": "markdown",
   "id": "67516894",
   "metadata": {},
   "source": [
    "# sets"
   ]
  },
  {
   "cell_type": "markdown",
   "id": "42bc0ee7",
   "metadata": {},
   "source": [
    "#### sets \n",
    "* collection of data \n",
    "* it is unordered and unindexed\n",
    "* {} is used "
   ]
  },
  {
   "cell_type": "code",
   "execution_count": 74,
   "id": "fac95a05",
   "metadata": {},
   "outputs": [
    {
     "name": "stdout",
     "output_type": "stream",
     "text": [
      "<class 'dict'>\n",
      "<class 'set'>\n"
     ]
    }
   ],
   "source": [
    "s={}\n",
    "print(type (s))\n",
    "s1=set(s)\n",
    "print (type(s1))"
   ]
  },
  {
   "cell_type": "code",
   "execution_count": 78,
   "id": "d46d09c4",
   "metadata": {},
   "outputs": [
    {
     "name": "stdout",
     "output_type": "stream",
     "text": [
      "{1, 2, 3, 4, 5, 6, 7}\n"
     ]
    }
   ],
   "source": [
    "s={1,2,3,4,5,6,7}\n",
    "print(s)"
   ]
  },
  {
   "cell_type": "code",
   "execution_count": 80,
   "id": "5369610c",
   "metadata": {},
   "outputs": [
    {
     "name": "stdout",
     "output_type": "stream",
     "text": [
      "{1, 2}\n"
     ]
    }
   ],
   "source": [
    "s={1}\n",
    "s.add(2)\n",
    "print(s)"
   ]
  },
  {
   "cell_type": "code",
   "execution_count": 83,
   "id": "4366c968",
   "metadata": {},
   "outputs": [
    {
     "name": "stdout",
     "output_type": "stream",
     "text": [
      "{1, 3, 5}\n",
      "{1, 3, 5}\n"
     ]
    }
   ],
   "source": [
    "s={1,3,5}\n",
    "s1=s.copy()\n",
    "print(s1)\n",
    "print(s)"
   ]
  },
  {
   "cell_type": "code",
   "execution_count": 86,
   "id": "45fff5cd",
   "metadata": {},
   "outputs": [
    {
     "name": "stdout",
     "output_type": "stream",
     "text": [
      "{1, 2}\n",
      "{0, 9}\n"
     ]
    }
   ],
   "source": [
    "s1={1,6,7,8,2}\n",
    "s2={6,7,8,9,0}\n",
    "print(s1.difference(s2))#s1-s2\n",
    "print(s2.difference(s1))#s2-s1"
   ]
  },
  {
   "cell_type": "code",
   "execution_count": 90,
   "id": "44015c0b",
   "metadata": {},
   "outputs": [
    {
     "name": "stdout",
     "output_type": "stream",
     "text": [
      "{0, 6, 7, 9}\n"
     ]
    }
   ],
   "source": [
    "s1={1,6,7,8,2}\n",
    "s2={6,7,8,9,0}\n",
    "s2.discard(8)\n",
    "print(s2)"
   ]
  },
  {
   "cell_type": "code",
   "execution_count": 94,
   "id": "c2e893aa",
   "metadata": {},
   "outputs": [
    {
     "name": "stdout",
     "output_type": "stream",
     "text": [
      "{8, 6, 7}\n",
      "{0, 1, 2, 6, 7, 8, 9}\n"
     ]
    }
   ],
   "source": [
    "s1={1,6,7,8,2}\n",
    "s2={6,7,8,9,0}\n",
    "print(s1.intersection(s2))#repeated\n",
    "print(s1.union(s2))#unique"
   ]
  },
  {
   "cell_type": "markdown",
   "id": "ab256e3f",
   "metadata": {},
   "source": [
    "# Functions\n",
    "\n",
    "\n"
   ]
  },
  {
   "cell_type": "markdown",
   "id": "790d31b8",
   "metadata": {},
   "source": [
    "#### Functions\n",
    "* functions are defined as block of reusable code\n",
    "* converts large programm into building blocks\n",
    "* 2 types\n",
    "    1. pre-defined or builtin\n",
    "    2. user defined\n",
    "* 1.(int,max,min,sum,len,ord,chr,float,map,filter)\n",
    "* 2.(using def keyword)"
   ]
  },
  {
   "cell_type": "code",
   "execution_count": 96,
   "id": "d8f73577",
   "metadata": {},
   "outputs": [
    {
     "name": "stdout",
     "output_type": "stream",
     "text": [
      "15\n",
      "5\n"
     ]
    }
   ],
   "source": [
    "l=[1,2,3,4,5]\n",
    "print(sum(l))\n",
    "print(len(l))"
   ]
  },
  {
   "cell_type": "code",
   "execution_count": 98,
   "id": "f05e20e2",
   "metadata": {},
   "outputs": [
    {
     "name": "stdout",
     "output_type": "stream",
     "text": [
      "10\n",
      "29\n",
      "5.67\n"
     ]
    }
   ],
   "source": [
    "a=10\n",
    "b=(-29)\n",
    "c=5.67\n",
    "print(abs(a))\n",
    "print(abs(b))\n",
    "print(abs(c))\n",
    "#absolute values \n",
    "# removes \"-ve\""
   ]
  },
  {
   "cell_type": "markdown",
   "id": "eb5bc017",
   "metadata": {},
   "source": [
    "#### syntax:\n",
    "* function definition\n",
    "1. def functionname(arguments):\n",
    "    * body of function\n",
    "2. function calling\n",
    "3. functionname()"
   ]
  },
  {
   "cell_type": "code",
   "execution_count": 123,
   "id": "c63c6d87",
   "metadata": {},
   "outputs": [
    {
     "name": "stdout",
     "output_type": "stream",
     "text": [
      "hello world\n"
     ]
    }
   ],
   "source": [
    "def hello():\n",
    "    print (\"hello world\")\n",
    "    return \n",
    "hello()\n",
    "    "
   ]
  },
  {
   "cell_type": "code",
   "execution_count": 108,
   "id": "207b8a2b",
   "metadata": {},
   "outputs": [
    {
     "name": "stdout",
     "output_type": "stream",
     "text": [
      "30\n"
     ]
    }
   ],
   "source": [
    "def add():\n",
    "    a=10\n",
    "    b=20\n",
    "    c=a+b\n",
    "    return c\n",
    "print (add())\n"
   ]
  },
  {
   "cell_type": "code",
   "execution_count": 110,
   "id": "bda0bb24",
   "metadata": {},
   "outputs": [
    {
     "name": "stdout",
     "output_type": "stream",
     "text": [
      "13\n"
     ]
    }
   ],
   "source": [
    "#without arguments without return values\n",
    "def addition():\n",
    "    a=10\n",
    "    b=3\n",
    "    c=a+b\n",
    "    print (c)\n",
    "addition()"
   ]
  },
  {
   "cell_type": "code",
   "execution_count": 114,
   "id": "d9209926",
   "metadata": {},
   "outputs": [
    {
     "name": "stdout",
     "output_type": "stream",
     "text": [
      "24\n"
     ]
    }
   ],
   "source": [
    "#with arguments without return value\n",
    "def multiplication(a=12,b=2):\n",
    "    c=(a*b)\n",
    "    print (c)\n",
    "multiplication()"
   ]
  },
  {
   "cell_type": "code",
   "execution_count": 116,
   "id": "8e91f026",
   "metadata": {},
   "outputs": [
    {
     "name": "stdout",
     "output_type": "stream",
     "text": [
      "2\n",
      "4\n",
      "8\n"
     ]
    }
   ],
   "source": [
    "def multiplication(a,b):\n",
    "    c=(a*b)\n",
    "    print (c)\n",
    "a=int(input())\n",
    "b=int(input())\n",
    "multiplication(a,b)#a,b must "
   ]
  },
  {
   "cell_type": "code",
   "execution_count": 128,
   "id": "5cec836a",
   "metadata": {},
   "outputs": [
    {
     "name": "stdout",
     "output_type": "stream",
     "text": [
      "8\n"
     ]
    }
   ],
   "source": [
    "#without arguments with return values\n",
    "def power():\n",
    "    n=2\n",
    "    m=3\n",
    "    a=(n**m)\n",
    "    #print (a)\n",
    "    return print(a) \n",
    "power()"
   ]
  },
  {
   "cell_type": "code",
   "execution_count": 129,
   "id": "7dc5c5fb",
   "metadata": {},
   "outputs": [
    {
     "name": "stdout",
     "output_type": "stream",
     "text": [
      "('a', 'b', 'c')\n"
     ]
    }
   ],
   "source": [
    "#with arguments with return value\n",
    "#variable len argument\n",
    "def printnames(*names):\n",
    "    # print(names)\n",
    "    return print(names)\n",
    "printnames('a','b','c')"
   ]
  },
  {
   "cell_type": "markdown",
   "id": "98116d1d",
   "metadata": {},
   "source": [
    "#### Assignment:\n",
    "* functions to print multiplication table with in a range (1 to 10)?\n",
    "* function to print cubes of even numbers?\n",
    "* function to return the average of cube of even nuumbers in a given range ?"
   ]
  }
 ],
 "metadata": {
  "kernelspec": {
   "display_name": "Python 3",
   "language": "python",
   "name": "python3"
  },
  "language_info": {
   "codemirror_mode": {
    "name": "ipython",
    "version": 3
   },
   "file_extension": ".py",
   "mimetype": "text/x-python",
   "name": "python",
   "nbconvert_exporter": "python",
   "pygments_lexer": "ipython3",
   "version": "3.8.3"
  }
 },
 "nbformat": 4,
 "nbformat_minor": 5
}
