{
 "cells": [
  {
   "cell_type": "markdown",
   "id": "94738419",
   "metadata": {},
   "source": [
    "# data types"
   ]
  },
  {
   "cell_type": "code",
   "execution_count": 3,
   "id": "f52b5515",
   "metadata": {},
   "outputs": [
    {
     "name": "stdout",
     "output_type": "stream",
     "text": [
      "10\n",
      "<class 'int'>\n"
     ]
    }
   ],
   "source": [
    "a=10\n",
    "print (a)\n",
    "print (type(a))"
   ]
  },
  {
   "cell_type": "code",
   "execution_count": 5,
   "id": "0af4648a",
   "metadata": {},
   "outputs": [
    {
     "name": "stdout",
     "output_type": "stream",
     "text": [
      "30.5\n",
      "<class 'float'>\n"
     ]
    }
   ],
   "source": [
    "a=30.5\n",
    "print(a)\n",
    "print (type (a))"
   ]
  },
  {
   "cell_type": "code",
   "execution_count": 8,
   "id": "4f16123b",
   "metadata": {},
   "outputs": [
    {
     "name": "stdout",
     "output_type": "stream",
     "text": [
      "harsha\n",
      "<class 'str'>\n"
     ]
    }
   ],
   "source": [
    "a='harsha' \n",
    "print (a)\n",
    "print (type(a))"
   ]
  },
  {
   "cell_type": "markdown",
   "id": "7f666088",
   "metadata": {},
   "source": [
    "# type casting"
   ]
  },
  {
   "cell_type": "code",
   "execution_count": 11,
   "id": "071c6e17",
   "metadata": {},
   "outputs": [
    {
     "name": "stdout",
     "output_type": "stream",
     "text": [
      "10\n",
      "<class 'int'>\n",
      "10.0\n",
      "<class 'float'>\n"
     ]
    }
   ],
   "source": [
    "a=10\n",
    "print (a)\n",
    "print (type (a))\n",
    "print (float (a))\n",
    "print (type (float(a)))"
   ]
  },
  {
   "cell_type": "code",
   "execution_count": 13,
   "id": "67c07a85",
   "metadata": {},
   "outputs": [
    {
     "name": "stdout",
     "output_type": "stream",
     "text": [
      "10\n",
      "<class 'int'>\n",
      "10\n",
      "<class 'str'>\n"
     ]
    }
   ],
   "source": [
    "a=10\n",
    "print (a)\n",
    "print (type (a))\n",
    "print (str (a))\n",
    "print (type (str(a)))"
   ]
  },
  {
   "cell_type": "code",
   "execution_count": 15,
   "id": "40b766e6",
   "metadata": {},
   "outputs": [
    {
     "name": "stdout",
     "output_type": "stream",
     "text": [
      "c\n",
      "<class 'str'>\n"
     ]
    }
   ],
   "source": [
    "a='c'#actually char but in python string\n",
    "print (a)\n",
    "print (type (a))"
   ]
  },
  {
   "cell_type": "code",
   "execution_count": 19,
   "id": "ece63607",
   "metadata": {},
   "outputs": [
    {
     "name": "stdout",
     "output_type": "stream",
     "text": [
      "10\n",
      "20\n",
      "30.5\n",
      "harsha\n"
     ]
    }
   ],
   "source": [
    "a,b,c,d=10,20,30.5,'harsha'\n",
    "print (a)\n",
    "print (b)\n",
    "print (c)\n",
    "print (d)"
   ]
  },
  {
   "cell_type": "code",
   "execution_count": 23,
   "id": "b3602ebc",
   "metadata": {},
   "outputs": [
    {
     "name": "stdout",
     "output_type": "stream",
     "text": [
      "hello world \n"
     ]
    }
   ],
   "source": [
    "print ('hello world ')"
   ]
  },
  {
   "cell_type": "code",
   "execution_count": 34,
   "id": "de016a28",
   "metadata": {},
   "outputs": [
    {
     "name": "stdout",
     "output_type": "stream",
     "text": [
      "3\n",
      "3\n",
      "3\n",
      "3\n"
     ]
    }
   ],
   "source": [
    "a=3\n",
    "a=b=c=d\n",
    "print (a)\n",
    "print (b)\n",
    "print (c)\n",
    "print (d)"
   ]
  },
  {
   "cell_type": "markdown",
   "id": "1b41ecff",
   "metadata": {},
   "source": [
    "* int and float can convert into str\n",
    "* str connot convert into int or float\n",
    "* float to int is possible \n",
    "* int to float is possible"
   ]
  },
  {
   "cell_type": "code",
   "execution_count": 38,
   "id": "a734d341",
   "metadata": {},
   "outputs": [
    {
     "name": "stdout",
     "output_type": "stream",
     "text": [
      "4\n",
      "4\n"
     ]
    }
   ],
   "source": [
    "a=int (input())\n",
    "print (a)\n"
   ]
  },
  {
   "cell_type": "code",
   "execution_count": 39,
   "id": "9e9deec3",
   "metadata": {},
   "outputs": [
    {
     "name": "stdout",
     "output_type": "stream",
     "text": [
      "4\n",
      "4\n",
      "<class 'str'>\n"
     ]
    }
   ],
   "source": [
    "a=input ()\n",
    "print (a)\n",
    "print (type (a))\n",
    "#by default it takes str"
   ]
  },
  {
   "cell_type": "code",
   "execution_count": null,
   "id": "8d4935c4",
   "metadata": {},
   "outputs": [],
   "source": []
  }
 ],
 "metadata": {
  "kernelspec": {
   "display_name": "Python 3",
   "language": "python",
   "name": "python3"
  },
  "language_info": {
   "codemirror_mode": {
    "name": "ipython",
    "version": 3
   },
   "file_extension": ".py",
   "mimetype": "text/x-python",
   "name": "python",
   "nbconvert_exporter": "python",
   "pygments_lexer": "ipython3",
   "version": "3.8.3"
  }
 },
 "nbformat": 4,
 "nbformat_minor": 5
}
