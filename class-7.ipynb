{
 "cells": [
  {
   "cell_type": "code",
   "execution_count": 3,
   "id": "abdf18bd",
   "metadata": {},
   "outputs": [
    {
     "name": "stdout",
     "output_type": "stream",
     "text": [
      "10\n",
      " 😀\n",
      " 😀😀\n",
      " 😀😀😀\n",
      " 😀😀😀😀\n",
      " 😀😀😀😀😀\n",
      " 😀😀😀😀😀😀\n",
      " 😀😀😀😀😀😀😀\n",
      " 😀😀😀😀😀😀😀😀\n",
      " 😀😀😀😀😀😀😀😀😀\n",
      " 😀😀😀😀😀😀😀😀😀😀\n",
      " 😀😀😀😀😀😀😀😀😀\n",
      " 😀😀😀😀😀😀😀😀\n",
      " 😀😀😀😀😀😀😀\n",
      " 😀😀😀😀😀😀\n",
      " 😀😀😀😀😀\n",
      " 😀😀😀😀\n",
      " 😀😀😀\n",
      " 😀😀\n",
      " 😀\n",
      " \n"
     ]
    }
   ],
   "source": [
    "st=\" \"\n",
    "n=int(input())\n",
    "a=(n*2)\n",
    "for i in range (0,a):\n",
    "    if i<n:\n",
    "        st+=\"😀\"\n",
    "        print(st)\n",
    "    elif (i>(n-1)):\n",
    "        st=st[:-1]\n",
    "        print(st)\n",
    "        "
   ]
  },
  {
   "cell_type": "code",
   "execution_count": 4,
   "id": "398310f2",
   "metadata": {},
   "outputs": [
    {
     "name": "stdout",
     "output_type": "stream",
     "text": [
      "0  😁\n",
      "1  😁😁\n",
      "2  😁😁😁\n",
      "3  😁😁😁😁\n",
      "4  😁😁😁😁😁\n",
      "5  😁😁😁😁\n",
      "6  😁😁😁\n",
      "7  😁😁\n",
      "8  😁\n"
     ]
    }
   ],
   "source": [
    "em =\" \"\n",
    "for i in range (9):\n",
    "    if i<5:\n",
    "        em+=\"😁\"\n",
    "        print(i,em)\n",
    "    elif i>4:\n",
    "        em=em[:-1]\n",
    "        print (i,em)"
   ]
  },
  {
   "cell_type": "code",
   "execution_count": 7,
   "id": "946aedea",
   "metadata": {},
   "outputs": [
    {
     "name": "stdout",
     "output_type": "stream",
     "text": [
      "4\t100\t74\t38\t54\t64\t82\t75\t20\t80\t21\t19\t63\t7\t17\t73\t95\t38\t55\t36\t84\t22\t68\t99\t43\t11\t81\t11\t98\t62\t23\t60\t52\t16\t21\t42\t36\t79\t42\t36\t89\t78\t80\t77\t89\t29\t12\t94\t71\t98\t47\t77\t85\t3\t40\t64\t61\t14\t20\t5\t85\t66\t85\t83\t72\t40\t51\t49\t53\t61\t83\t83\t55\t86\t93\t14\t48\t71\t81\t88\t17\t92\t26\t30\t24\t60\t87\t88\t35\t11\t41\t26\t45\t38\t6\t86\t74\t27\t86\t26\t"
     ]
    }
   ],
   "source": [
    "import random as rd\n",
    "for i in range (100):\n",
    "    k=rd.randint(1,100)\n",
    "    print(k,end=\"\\t\")"
   ]
  },
  {
   "cell_type": "code",
   "execution_count": 17,
   "id": "c402f369",
   "metadata": {},
   "outputs": [
    {
     "name": "stdout",
     "output_type": "stream",
     "text": [
      "14,23,90,50,29,22,60,51,17,35,33,79,0,43,44,5,84,9,78,61,9,86,11,13,19,71,7,73,30,32,53,98,10,27,81,8,55,83,18,100,75,28,71,41,29,25,81,80,39,51,51,9,61,13,30,14,59,60,66,59,50,8,74,7,43,34,82,95,55,14,55,43,56,13,46,5,83,20,20,1,22,51,74,78,4,53,61,59,92,38,84,78,71,85,92,82,28,15,94,77,"
     ]
    }
   ],
   "source": [
    "import random as harsha \n",
    "for i in range(100):\n",
    "    k=harsha.randint(0,100)\n",
    "    print (k,end=\",\")"
   ]
  },
  {
   "cell_type": "markdown",
   "id": "390c3313",
   "metadata": {},
   "source": [
    "## FILES\n",
    "* it is collection of information\n",
    "* METHODS\n",
    "    * read()\n",
    "    * write()\n",
    "    * readline()\n",
    "    * readlines()\n",
    "* MODES\n",
    "    * read ---->r\n",
    "    * write ---->w\n",
    "    * append ---->a\n",
    "* STEPS\n",
    "    * open a file --> open(filename,mode)\n",
    "    * method declaration--> read(),write()\n",
    "    * close the file--> filename.close()"
   ]
  },
  {
   "cell_type": "code",
   "execution_count": null,
   "id": "05537b48",
   "metadata": {
    "scrolled": true
   },
   "outputs": [],
   "source": [
    "f=open(\"file1.txt\",\"r\")\n",
    "f1=f.read(input())\n",
    "print(f1)\n",
    "f.close()\n",
    "# data we kept in file1 will be displayed in o/p"
   ]
  },
  {
   "cell_type": "code",
   "execution_count": 4,
   "id": "bc3a2a02",
   "metadata": {},
   "outputs": [
    {
     "name": "stdout",
     "output_type": "stream",
     "text": [
      "enter your data: ravi prakash\n"
     ]
    }
   ],
   "source": [
    "f=open(\"file1.txt\",\"a\")\n",
    "data=input('enter your data: ')\n",
    "f1=f.write(data+\"\\n\")\n",
    "f.close()\n",
    "# i/p() given in this programm is added to data present in file1 (in the next line)"
   ]
  },
  {
   "cell_type": "code",
   "execution_count": 8,
   "id": "82f4183f",
   "metadata": {},
   "outputs": [
    {
     "name": "stdout",
     "output_type": "stream",
     "text": [
      "vijay babu\n"
     ]
    }
   ],
   "source": [
    "f=open(\"file1.txt\",\"w\")\n",
    "data=input()\n",
    "f.write(data)\n",
    "f.close()\n",
    "# previous data is cleared and new data will appear"
   ]
  },
  {
   "cell_type": "code",
   "execution_count": 4,
   "id": "1d069b2b",
   "metadata": {},
   "outputs": [
    {
     "name": "stdout",
     "output_type": "stream",
     "text": [
      "mahesh babu \n"
     ]
    }
   ],
   "source": [
    "f=open(\"file2.txt\",\"w\")\n",
    "data=input()\n",
    "f.write(data)\n",
    "f.close()\n",
    "# txt file is created with name of file2"
   ]
  },
  {
   "cell_type": "code",
   "execution_count": 5,
   "id": "9a456d14",
   "metadata": {},
   "outputs": [
    {
     "name": "stdout",
     "output_type": "stream",
     "text": [
      "hardik pandya\n",
      "\n"
     ]
    }
   ],
   "source": [
    "f=open(\"file3.txt\",\"r\")\n",
    "f1=f.readline()\n",
    "print(f1)\n",
    "f.close()\n",
    "# reads only first line of data in file3\n",
    "#<file3>\n",
    "#hardik pandya \n",
    "#jasprit bumrah\n",
    "#rohit sharma"
   ]
  },
  {
   "cell_type": "code",
   "execution_count": 6,
   "id": "5a466ea8",
   "metadata": {},
   "outputs": [
    {
     "name": "stdout",
     "output_type": "stream",
     "text": [
      "['hardik pandya\\n', 'jasprit bumrah\\n', 'rohit sharma']\n"
     ]
    }
   ],
   "source": [
    "f=open(\"file3.txt\",\"r\")\n",
    "f1=f.readlines()\n",
    "print(f1)\n",
    "f.close()\n",
    "#reads all the lines of data in file3"
   ]
  },
  {
   "cell_type": "code",
   "execution_count": 8,
   "id": "3bd800be",
   "metadata": {},
   "outputs": [
    {
     "name": "stdout",
     "output_type": "stream",
     "text": [
      "hardik pandya\n",
      "jasprit bumrah\n",
      "rohit sharma\n"
     ]
    }
   ],
   "source": [
    "with open(\"file3.txt\",\"r\") as f:# (another method) \n",
    "    f1=f.read()\n",
    "    print(f1)\n",
    "# displays the data in file3"
   ]
  },
  {
   "cell_type": "code",
   "execution_count": 11,
   "id": "90db04e0",
   "metadata": {},
   "outputs": [
    {
     "name": "stdout",
     "output_type": "stream",
     "text": [
      "ishan kishan\n"
     ]
    }
   ],
   "source": [
    "with open(\"file3.txt\",\"a\") as f:\n",
    "    data=input()\n",
    "    f1=f.write(data+\"\\n\")\n",
    "# i/p given here is added to previous data of file3 in next line"
   ]
  },
  {
   "cell_type": "code",
   "execution_count": 12,
   "id": "d500afe5",
   "metadata": {},
   "outputs": [
    {
     "name": "stdout",
     "output_type": "stream",
     "text": [
      "krunal pandya\n"
     ]
    }
   ],
   "source": [
    "with  open  (\"file3.txt\",\"w\") as f:\n",
    "    data=input ()\n",
    "    f1=f.write(data)\n",
    "# clears all the previous data \n",
    "# i/p given here is only available"
   ]
  },
  {
   "cell_type": "code",
   "execution_count": 14,
   "id": "b6666cf7",
   "metadata": {},
   "outputs": [
    {
     "name": "stdout",
     "output_type": "stream",
     "text": [
      "mumbai indians\n"
     ]
    }
   ],
   "source": [
    "with  open  (\"file4.txt\",\"x\") as f:\n",
    "    data=input ()\n",
    "    f1=f.write(data)\n",
    "# we can not use already used files\n",
    "# new file is created automatically"
   ]
  },
  {
   "cell_type": "code",
   "execution_count": 15,
   "id": "215984f8",
   "metadata": {},
   "outputs": [
    {
     "name": "stdout",
     "output_type": "stream",
     "text": [
      "1 2 3 4 5 \n",
      "['1', '2', '3', '4', '5']\n",
      "[1, 2, 3, 4, 5]\n",
      "15\n"
     ]
    }
   ],
   "source": [
    "# map(functionname/data type name,variable)\n",
    "l=input().split()\n",
    "m=list(map(int,l))\n",
    "print(l)# strings\n",
    "print(m)# int\n",
    "#sum() we can't do bcoz of strings\n",
    "print(sum(m))\n",
    "# the i/p given is initialli taken as strings \n",
    "# we can not add strins\n",
    "# and converted into the int\n",
    "# and then added "
   ]
  },
  {
   "cell_type": "code",
   "execution_count": 16,
   "id": "ec0eeb43",
   "metadata": {},
   "outputs": [
    {
     "name": "stdout",
     "output_type": "stream",
     "text": [
      "abc 150\n",
      "def 180\n",
      "ghi 60\n"
     ]
    }
   ],
   "source": [
    "f=open(\"file5.txt\",'r')\n",
    "h=f.readlines()\n",
    "#print(h)\n",
    "for i in h:\n",
    "    #print (i)\n",
    "    g1=i.split()\n",
    "    #print(g1)\n",
    "    w=g1[0]\n",
    "    #print(w)\n",
    "    t=sum(list(map(int,g1[1:])))\n",
    "    print(w,t)"
   ]
  },
  {
   "cell_type": "markdown",
   "id": "5b4a8069",
   "metadata": {},
   "source": [
    "### FIND THE  FOLLOWING IN THE FILE\n",
    "* no of lines \n",
    "* no of words\n",
    "* no of letters"
   ]
  },
  {
   "cell_type": "code",
   "execution_count": 18,
   "id": "123fbc74",
   "metadata": {},
   "outputs": [
    {
     "name": "stdout",
     "output_type": "stream",
     "text": [
      "3\n"
     ]
    }
   ],
   "source": [
    "# TO FIND NO OF LINES IN THE FILE \n",
    "f=open(\"file6.txt\",\"r\")\n",
    "f1 = f.readlines()\n",
    "f2=len(f1)\n",
    "print(f2)"
   ]
  },
  {
   "cell_type": "code",
   "execution_count": 19,
   "id": "e2c01189",
   "metadata": {},
   "outputs": [
    {
     "name": "stdout",
     "output_type": "stream",
     "text": [
      "5\n"
     ]
    }
   ],
   "source": [
    "#TO FIND NO OF WORDS IN THE FILE\n",
    "f=open(\"file6.txt\",\"r\")\n",
    "f1=f.read()\n",
    "h=f1.split()\n",
    "print(len(h))"
   ]
  },
  {
   "cell_type": "code",
   "execution_count": 1,
   "id": "f964f7cc",
   "metadata": {},
   "outputs": [
    {
     "name": "stdout",
     "output_type": "stream",
     "text": [
      "34\n"
     ]
    }
   ],
   "source": [
    "# TO FIND NO OF LETTERS\n",
    "f=open(\"file6.txt\",\"r\")\n",
    "f1=f.read()\n",
    "f2=len(f1)\n",
    "print(f2)"
   ]
  },
  {
   "cell_type": "markdown",
   "id": "c3fc4865",
   "metadata": {},
   "source": [
    "* text files & ipynb files should be in same folder otherwise programme can not read"
   ]
  }
 ],
 "metadata": {
  "kernelspec": {
   "display_name": "Python 3",
   "language": "python",
   "name": "python3"
  },
  "language_info": {
   "codemirror_mode": {
    "name": "ipython",
    "version": 3
   },
   "file_extension": ".py",
   "mimetype": "text/x-python",
   "name": "python",
   "nbconvert_exporter": "python",
   "pygments_lexer": "ipython3",
   "version": "3.8.3"
  }
 },
 "nbformat": 4,
 "nbformat_minor": 5
}
