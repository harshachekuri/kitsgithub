{
 "cells": [
  {
   "cell_type": "markdown",
   "id": "b8ff0f33",
   "metadata": {},
   "source": [
    "## modules & packages"
   ]
  },
  {
   "cell_type": "code",
   "execution_count": 4,
   "id": "89262497",
   "metadata": {},
   "outputs": [
    {
     "name": "stdout",
     "output_type": "stream",
     "text": [
      "['__breakpointhook__', '__displayhook__', '__doc__', '__excepthook__', '__interactivehook__', '__loader__', '__name__', '__package__', '__spec__', '__stderr__', '__stdin__', '__stdout__', '__unraisablehook__', '_base_executable', '_clear_type_cache', '_current_frames', '_debugmallocstats', '_framework', '_getframe', '_git', '_home', '_xoptions', 'abiflags', 'addaudithook', 'api_version', 'argv', 'audit', 'base_exec_prefix', 'base_prefix', 'breakpointhook', 'builtin_module_names', 'byteorder', 'call_tracing', 'callstats', 'copyright', 'displayhook', 'dont_write_bytecode', 'exc_info', 'excepthook', 'exec_prefix', 'executable', 'exit', 'flags', 'float_info', 'float_repr_style', 'get_asyncgen_hooks', 'get_coroutine_origin_tracking_depth', 'getallocatedblocks', 'getandroidapilevel', 'getcheckinterval', 'getdefaultencoding', 'getdlopenflags', 'getfilesystemencodeerrors', 'getfilesystemencoding', 'getprofile', 'getrecursionlimit', 'getrefcount', 'getsizeof', 'getswitchinterval', 'gettrace', 'hash_info', 'hexversion', 'implementation', 'int_info', 'intern', 'is_finalizing', 'last_traceback', 'last_type', 'last_value', 'maxsize', 'maxunicode', 'meta_path', 'modules', 'path', 'path_hooks', 'path_importer_cache', 'platform', 'prefix', 'ps1', 'ps2', 'ps3', 'pycache_prefix', 'set_asyncgen_hooks', 'set_coroutine_origin_tracking_depth', 'setcheckinterval', 'setdlopenflags', 'setprofile', 'setrecursionlimit', 'setswitchinterval', 'settrace', 'stderr', 'stdin', 'stdout', 'thread_info', 'unraisablehook', 'version', 'version_info', 'warnoptions']\n"
     ]
    }
   ],
   "source": [
    "import sys\n",
    "print(dir(sys))"
   ]
  },
  {
   "cell_type": "code",
   "execution_count": 8,
   "id": "97dad9ba",
   "metadata": {},
   "outputs": [
    {
     "name": "stdout",
     "output_type": "stream",
     "text": [
      "3.8.3 (default, May 27 2020, 02:08:17) \n",
      "[GCC 9.3.0]\n"
     ]
    }
   ],
   "source": [
    "print(sys.version)#version of python"
   ]
  },
  {
   "cell_type": "code",
   "execution_count": 9,
   "id": "f4f6adb8",
   "metadata": {},
   "outputs": [
    {
     "name": "stdout",
     "output_type": "stream",
     "text": [
      "sys.version_info(major=3, minor=8, micro=3, releaselevel='final', serial=0)\n"
     ]
    }
   ],
   "source": [
    "print(sys.version_info)"
   ]
  },
  {
   "cell_type": "code",
   "execution_count": 15,
   "id": "fd20a9bd",
   "metadata": {},
   "outputs": [
    {
     "name": "stdout",
     "output_type": "stream",
     "text": [
      "<ipykernel.iostream.OutStream object at 0x71b984c100>\n",
      "['__abstractmethods__', '__class__', '__del__', '__delattr__', '__dict__', '__dir__', '__doc__', '__enter__', '__eq__', '__exit__', '__format__', '__ge__', '__getattribute__', '__gt__', '__hash__', '__init__', '__init_subclass__', '__iter__', '__le__', '__lt__', '__module__', '__ne__', '__new__', '__next__', '__reduce__', '__reduce_ex__', '__repr__', '__setattr__', '__sizeof__', '__str__', '__subclasshook__', '_abc_impl', '_buffer', '_checkClosed', '_checkReadable', '_checkSeekable', '_checkWritable', '_flush', '_flush_buffer', '_flush_pending', '_io_loop', '_is_master_process', '_master_pid', '_new_buffer', '_schedule_flush', '_subprocess_flush_pending', 'close', 'closed', 'detach', 'echo', 'encoding', 'errors', 'fileno', 'flush', 'flush_interval', 'flush_timeout', 'isatty', 'name', 'newlines', 'parent_header', 'pub_thread', 'read', 'readable', 'readline', 'readlines', 'seek', 'seekable', 'session', 'set_parent', 'tell', 'topic', 'truncate', 'writable', 'write', 'writelines']\n"
     ]
    }
   ],
   "source": [
    "print (sys.stderr)\n",
    "print (dir(sys.stderr))"
   ]
  },
  {
   "cell_type": "code",
   "execution_count": 16,
   "id": "99a1112c",
   "metadata": {},
   "outputs": [
    {
     "name": "stdout",
     "output_type": "stream",
     "text": [
      "<ipykernel.iostream.OutStream object at 0x71b984c070>\n",
      "['__abstractmethods__', '__class__', '__del__', '__delattr__', '__dict__', '__dir__', '__doc__', '__enter__', '__eq__', '__exit__', '__format__', '__ge__', '__getattribute__', '__gt__', '__hash__', '__init__', '__init_subclass__', '__iter__', '__le__', '__lt__', '__module__', '__ne__', '__new__', '__next__', '__reduce__', '__reduce_ex__', '__repr__', '__setattr__', '__sizeof__', '__str__', '__subclasshook__', '_abc_impl', '_buffer', '_checkClosed', '_checkReadable', '_checkSeekable', '_checkWritable', '_flush', '_flush_buffer', '_flush_pending', '_io_loop', '_is_master_process', '_master_pid', '_new_buffer', '_schedule_flush', '_subprocess_flush_pending', 'close', 'closed', 'detach', 'echo', 'encoding', 'errors', 'fileno', 'flush', 'flush_interval', 'flush_timeout', 'isatty', 'name', 'newlines', 'parent_header', 'pub_thread', 'read', 'readable', 'readline', 'readlines', 'seek', 'seekable', 'session', 'set_parent', 'softspace', 'tell', 'topic', 'truncate', 'writable', 'write', 'writelines']\n"
     ]
    }
   ],
   "source": [
    "print(sys.stdout)\n",
    "print(dir(sys.stdout))"
   ]
  },
  {
   "cell_type": "code",
   "execution_count": 17,
   "id": "0bfe0ce5",
   "metadata": {},
   "outputs": [
    {
     "name": "stdout",
     "output_type": "stream",
     "text": [
      "<_io.TextIOWrapper name='<stdin>' mode='r' encoding='utf-8'>\n",
      "['_CHUNK_SIZE', '__class__', '__del__', '__delattr__', '__dict__', '__dir__', '__doc__', '__enter__', '__eq__', '__exit__', '__format__', '__ge__', '__getattribute__', '__gt__', '__hash__', '__init__', '__init_subclass__', '__iter__', '__le__', '__lt__', '__ne__', '__new__', '__next__', '__reduce__', '__reduce_ex__', '__repr__', '__setattr__', '__sizeof__', '__str__', '__subclasshook__', '_checkClosed', '_checkReadable', '_checkSeekable', '_checkWritable', '_finalizing', 'buffer', 'close', 'closed', 'detach', 'encoding', 'errors', 'fileno', 'flush', 'isatty', 'line_buffering', 'mode', 'name', 'newlines', 'read', 'readable', 'readline', 'readlines', 'reconfigure', 'seek', 'seekable', 'tell', 'truncate', 'writable', 'write', 'write_through', 'writelines']\n"
     ]
    }
   ],
   "source": [
    "print(sys.stdin)\n",
    "print (dir (sys.stdin))"
   ]
  },
  {
   "cell_type": "markdown",
   "id": "9496343b",
   "metadata": {},
   "source": [
    "* python file is created \n",
    "    * go to jupyter home page\n",
    "    * click on new \n",
    "    * select on text file\n",
    "    * rename text file as module.py \n",
    "    * (.py) is extension of python \n",
    "    * module is the name of python file\n",
    "    * PYTHON FILE is created....."
   ]
  },
  {
   "cell_type": "code",
   "execution_count": 32,
   "id": "82472220",
   "metadata": {},
   "outputs": [
    {
     "name": "stdout",
     "output_type": "stream",
     "text": [
      "\u001b[1;34mAlarms\u001b[m/         \u001b[1;34mFonts\u001b[m/          \u001b[1;34mPictures\u001b[m/       \u001b[1;34miLovePDF\u001b[m/\r\n",
      "\u001b[1;34mAndroid\u001b[m/        \u001b[1;34mJioSwitch\u001b[m/      \u001b[1;34mPodcasts\u001b[m/       \u001b[1;34minShare\u001b[m/\r\n",
      "\u001b[1;34mAudiobooks\u001b[m/     \u001b[1;34mMovies\u001b[m/         \u001b[1;34mSubtitles\u001b[m/      \u001b[0;0mmodule.py\u001b[m\r\n",
      "\u001b[1;34mColorOS\u001b[m/        \u001b[1;34mMusic\u001b[m/          \u001b[0;0mUntitled.ipynb\u001b[m  \u001b[1;34moplus_log\u001b[m/\r\n",
      "\u001b[1;34mDCIM\u001b[m/           \u001b[1;34mNotifications\u001b[m/  \u001b[1;34mVidMate\u001b[m/        \u001b[1;34mpython\u001b[m/\r\n",
      "\u001b[1;34mDocuments\u001b[m/      \u001b[1;34mPDF'S\u001b[m/          \u001b[1;34m__pycache__\u001b[m/\r\n",
      "\u001b[1;34mDownload\u001b[m/       \u001b[1;34mPicsArt\u001b[m/        \u001b[1;34mapssdc\u001b[m/\r\n"
     ]
    }
   ],
   "source": [
    "ls"
   ]
  },
  {
   "cell_type": "code",
   "execution_count": 33,
   "id": "7452ae23",
   "metadata": {},
   "outputs": [
    {
     "name": "stdout",
     "output_type": "stream",
     "text": [
      "['__builtins__', '__cached__', '__doc__', '__file__', '__loader__', '__name__', '__package__', '__spec__', 'add', 'mul', 'sub']\n"
     ]
    }
   ],
   "source": [
    "import module\n",
    "print(dir(module))"
   ]
  },
  {
   "cell_type": "code",
   "execution_count": 34,
   "id": "08e2b938",
   "metadata": {},
   "outputs": [
    {
     "name": "stdout",
     "output_type": "stream",
     "text": [
      "90\n"
     ]
    }
   ],
   "source": [
    "print (module.sub(100,10))"
   ]
  },
  {
   "cell_type": "code",
   "execution_count": 35,
   "id": "9ef5b60f",
   "metadata": {},
   "outputs": [
    {
     "name": "stdout",
     "output_type": "stream",
     "text": [
      "120\n"
     ]
    }
   ],
   "source": [
    "print (module.add(100,20))"
   ]
  },
  {
   "cell_type": "code",
   "execution_count": 36,
   "id": "ce8aacfe",
   "metadata": {},
   "outputs": [
    {
     "name": "stdout",
     "output_type": "stream",
     "text": [
      "50\n"
     ]
    }
   ],
   "source": [
    "print (module.mul(10,5))"
   ]
  },
  {
   "cell_type": "markdown",
   "id": "5a06114c",
   "metadata": {},
   "source": [
    "###### --------O----------\n",
    "###### continution of another topic"
   ]
  },
  {
   "cell_type": "markdown",
   "id": "777307b1",
   "metadata": {},
   "source": [
    "# PYTHON OOP'S \n",
    "### new concept \n",
    "* object oriented programming language\n",
    "- our login will implement based on classes and objects \n",
    "- it is used to develop an application base\n",
    "- concepts here are....\n",
    "1. class\n",
    "     - collection of objects \n",
    "     - logic will have some objects & methods\n",
    "     - ex:-student--->sname,semail, srollno\n",
    "2. object\n",
    "    - object is real world entity that has state and behaviour\n",
    "3. method \n",
    "    - method is a function \n",
    "4. constructor\n",
    "    - it is special function to interact with object \n",
    "    - we can create a constructor by using--->_init_()\n",
    "    - 3 types but mainly 2 are helpfull\n",
    "5. inherritance\n",
    "    - it will aquires all the parent class attributes in child class"
   ]
  },
  {
   "cell_type": "markdown",
   "id": "8c30ec68",
   "metadata": {},
   "source": [
    "#### 1. CLASS\n",
    "**syntax of class** \n",
    "\n",
    "- class classname:\n",
    "   - statement1\n",
    "   - ..........\n",
    "   - statementn"
   ]
  },
  {
   "cell_type": "markdown",
   "id": "d4efb26d",
   "metadata": {},
   "source": [
    "#### 2.OBJECT (object  creation)\n",
    "- objectname=classname"
   ]
  },
  {
   "cell_type": "markdown",
   "id": "6b151afb",
   "metadata": {},
   "source": [
    "- def functionname():\n",
    "    - statements"
   ]
  },
  {
   "cell_type": "markdown",
   "id": "a8f04bf3",
   "metadata": {},
   "source": [
    "#### 3.METHOD\n",
    "- class classname:\n",
    "    \n",
    "    - def methodname():# defining a method"
   ]
  },
  {
   "cell_type": "markdown",
   "id": "513bbea6",
   "metadata": {},
   "source": [
    "#### 4.CONSTRUCTOR \n",
    "- class classname:\n",
    "    - def _init_():"
   ]
  },
  {
   "cell_type": "markdown",
   "id": "b227d613",
   "metadata": {},
   "source": [
    "#### 5.INHERITANCE\n",
    "- class classname:\n",
    "    - statements\n",
    "- class classname1(classname):\n",
    "    - statements\n",
    "    "
   ]
  },
  {
   "cell_type": "code",
   "execution_count": 12,
   "id": "2e581269",
   "metadata": {},
   "outputs": [],
   "source": [
    "# class\n",
    "class student: #class\n",
    "    srollno=542\n",
    "    sname=\"harsha\"\n",
    "    sbranch=\"cse\"\n",
    "    \n",
    "    def show(self): #method\n",
    "        print(\"roll no\",self.srollno)\n",
    "        print(\"name\",self.sname)\n",
    "        print(\"branch\",self.sbranch)"
   ]
  },
  {
   "cell_type": "code",
   "execution_count": 13,
   "id": "d4ad84e6",
   "metadata": {},
   "outputs": [],
   "source": [
    "s1=student()"
   ]
  },
  {
   "cell_type": "code",
   "execution_count": 14,
   "id": "7c1c8ae2",
   "metadata": {},
   "outputs": [
    {
     "name": "stdout",
     "output_type": "stream",
     "text": [
      "roll no 542\n",
      "name harsha\n",
      "branch cse\n"
     ]
    }
   ],
   "source": [
    "s1.show()"
   ]
  },
  {
   "cell_type": "code",
   "execution_count": 15,
   "id": "0273a433",
   "metadata": {},
   "outputs": [
    {
     "name": "stdout",
     "output_type": "stream",
     "text": [
      "harsha\n"
     ]
    }
   ],
   "source": [
    "print(s1.sname)"
   ]
  },
  {
   "cell_type": "code",
   "execution_count": 16,
   "id": "2d81b4cf",
   "metadata": {},
   "outputs": [
    {
     "name": "stdout",
     "output_type": "stream",
     "text": [
      "542\n"
     ]
    }
   ],
   "source": [
    "print(s1.srollno)"
   ]
  },
  {
   "cell_type": "code",
   "execution_count": 17,
   "id": "9e826dfa",
   "metadata": {},
   "outputs": [
    {
     "name": "stdout",
     "output_type": "stream",
     "text": [
      "cse\n"
     ]
    }
   ],
   "source": [
    "print(s1.sbranch)"
   ]
  },
  {
   "cell_type": "markdown",
   "id": "a639f116",
   "metadata": {},
   "source": [
    "#### constructor---> special method (function)\n",
    "#### init()\n",
    "    1. parameterized-->a conductor with parameters\n",
    "    2. non parameterized--> conductors without parameters"
   ]
  },
  {
   "cell_type": "code",
   "execution_count": 18,
   "id": "4adf4b07",
   "metadata": {},
   "outputs": [],
   "source": [
    "# bASIC\n",
    "class student: #class\n",
    "    def __init__ (self,name,roll,branch):\n",
    "        self.name=name\n",
    "        self.roll=roll\n",
    "        self.branch=branch\n",
    "    def display(self): #method\n",
    "        print(\"roll no\",self.roll)\n",
    "        print(\"name\",self.name)\n",
    "        print(\"branch\",self.branch)"
   ]
  },
  {
   "cell_type": "code",
   "execution_count": 19,
   "id": "85461d77",
   "metadata": {},
   "outputs": [],
   "source": [
    "st=student(\"Harsha\",542,\"Cse\")"
   ]
  },
  {
   "cell_type": "code",
   "execution_count": 20,
   "id": "452c7ea4",
   "metadata": {},
   "outputs": [
    {
     "name": "stdout",
     "output_type": "stream",
     "text": [
      "roll no 542\n",
      "name Harsha\n",
      "branch Cse\n"
     ]
    }
   ],
   "source": [
    "st.display()"
   ]
  },
  {
   "cell_type": "code",
   "execution_count": 21,
   "id": "8a573e06",
   "metadata": {},
   "outputs": [],
   "source": [
    "# parameterized\n",
    "class A:\n",
    "    def __init__(self,a,b):\n",
    "        print(\"wel to parameterized constructor\")\n",
    "        self.a=a\n",
    "        self.b=b\n",
    "    def add(self):\n",
    "        print(\"result is:\",self.a+self.b)\n",
    "        "
   ]
  },
  {
   "cell_type": "code",
   "execution_count": 22,
   "id": "5f013c46",
   "metadata": {},
   "outputs": [
    {
     "name": "stdout",
     "output_type": "stream",
     "text": [
      "wel to parameterized constructor\n"
     ]
    }
   ],
   "source": [
    "a1=A(5,7)"
   ]
  },
  {
   "cell_type": "code",
   "execution_count": 23,
   "id": "67faea5e",
   "metadata": {},
   "outputs": [
    {
     "name": "stdout",
     "output_type": "stream",
     "text": [
      "result is: 12\n"
     ]
    }
   ],
   "source": [
    "a1.add()"
   ]
  },
  {
   "cell_type": "code",
   "execution_count": 24,
   "id": "361a95a3",
   "metadata": {},
   "outputs": [
    {
     "name": "stdout",
     "output_type": "stream",
     "text": [
      "wel to parameterized constructor\n"
     ]
    }
   ],
   "source": [
    "a2 = A(\"ap\",\"python\")"
   ]
  },
  {
   "cell_type": "code",
   "execution_count": 25,
   "id": "a1019eb4",
   "metadata": {},
   "outputs": [
    {
     "name": "stdout",
     "output_type": "stream",
     "text": [
      "result is: appython\n"
     ]
    }
   ],
   "source": [
    "a2.add()"
   ]
  },
  {
   "cell_type": "code",
   "execution_count": 26,
   "id": "8d0e2959",
   "metadata": {},
   "outputs": [],
   "source": [
    "# non parameterized\n",
    "class B:\n",
    "    def __init__(self):\n",
    "        print(\"welcome to non parameterized\")\n",
    "    def mul(self,n,n1):\n",
    "        print(\"mul is:\",n*n1)"
   ]
  },
  {
   "cell_type": "code",
   "execution_count": 27,
   "id": "f8cfc91c",
   "metadata": {
    "scrolled": true
   },
   "outputs": [
    {
     "name": "stdout",
     "output_type": "stream",
     "text": [
      "welcome to non parameterized\n"
     ]
    }
   ],
   "source": [
    "b=B()"
   ]
  },
  {
   "cell_type": "code",
   "execution_count": 28,
   "id": "8a1aef54",
   "metadata": {
    "scrolled": true
   },
   "outputs": [
    {
     "name": "stdout",
     "output_type": "stream",
     "text": [
      "mul is: 30\n"
     ]
    }
   ],
   "source": [
    "b.mul(5,6)"
   ]
  },
  {
   "cell_type": "code",
   "execution_count": 29,
   "id": "b9281aa5",
   "metadata": {},
   "outputs": [
    {
     "name": "stdout",
     "output_type": "stream",
     "text": [
      "mul is: 135\n"
     ]
    }
   ],
   "source": [
    "b.mul(3,45)"
   ]
  },
  {
   "cell_type": "code",
   "execution_count": 30,
   "id": "50efff82",
   "metadata": {},
   "outputs": [],
   "source": [
    "# multiple constructors\n",
    "class multiple:\n",
    "    def __init__ (self):\n",
    "        print(\"first cons\")\n",
    "    def __init__ (self):\n",
    "        print(\"second cons\")"
   ]
  },
  {
   "cell_type": "code",
   "execution_count": 31,
   "id": "da65c20a",
   "metadata": {},
   "outputs": [
    {
     "name": "stdout",
     "output_type": "stream",
     "text": [
      "second cons\n"
     ]
    }
   ],
   "source": [
    "m=multiple()"
   ]
  },
  {
   "cell_type": "markdown",
   "id": "7c74a5ba",
   "metadata": {},
   "source": [
    "#### python built_in class functions\n",
    "- 1.getattr()-->for getting attribute value from class\n",
    "    - we have to give 2 parameters\n",
    "        - 1.objectname\n",
    "        - 2.attributename  \n",
    "- 2.setattr()-->for assigning new value to attribute\n",
    "    - we have 3 parameters\n",
    "        - 1.objectname\n",
    "        - 2.attribute\n",
    "        - 3.new value\n",
    "- 3.delattr()-->we can delete attribute from the class\n",
    "    - we have 2 arguments\n",
    "        - objectname\n",
    "        - attributename\n",
    "- 4.hasattr()-->it returns TRUE if attribute is existed\n",
    "    - 2 arguments\n",
    "        - objectname\n",
    "        - attributename"
   ]
  },
  {
   "cell_type": "code",
   "execution_count": 60,
   "id": "69848507",
   "metadata": {},
   "outputs": [],
   "source": [
    "class college:\n",
    "    def __init__ (self,c_name,c_code,c_loc):\n",
    "        self.c_name=c_name\n",
    "        self.c_code=c_code\n",
    "        self.c_loc=c_loc"
   ]
  },
  {
   "cell_type": "code",
   "execution_count": 61,
   "id": "51e0aa61",
   "metadata": {},
   "outputs": [],
   "source": [
    "c=college(\"kits\",1,\"guntur\")"
   ]
  },
  {
   "cell_type": "code",
   "execution_count": 62,
   "id": "ff953aa1",
   "metadata": {},
   "outputs": [
    {
     "name": "stdout",
     "output_type": "stream",
     "text": [
      "kits\n",
      "guntur\n"
     ]
    }
   ],
   "source": [
    "print(getattr(c,\"c_name\"))\n",
    "print(getattr(c,\"c_loc\"))"
   ]
  },
  {
   "cell_type": "code",
   "execution_count": 63,
   "id": "354dde99",
   "metadata": {},
   "outputs": [],
   "source": [
    "setattr(c,\"c_name\",\"kkr & ksr\")"
   ]
  },
  {
   "cell_type": "code",
   "execution_count": 64,
   "id": "c21a57d7",
   "metadata": {},
   "outputs": [
    {
     "name": "stdout",
     "output_type": "stream",
     "text": [
      "kkr & ksr\n",
      "guntur\n"
     ]
    }
   ],
   "source": [
    "print(getattr(c,\"c_name\"))\n",
    "print(getattr(c,\"c_loc\"))"
   ]
  },
  {
   "cell_type": "code",
   "execution_count": 65,
   "id": "77dd6e76",
   "metadata": {},
   "outputs": [
    {
     "name": "stdout",
     "output_type": "stream",
     "text": [
      "1\n"
     ]
    }
   ],
   "source": [
    "print(getattr(c,\"c_code\"))"
   ]
  },
  {
   "cell_type": "code",
   "execution_count": 66,
   "id": "7340573d",
   "metadata": {},
   "outputs": [],
   "source": [
    "delattr(c,\"c_code\")\n",
    "# c_code is deleted so can be displayed if we use gerattr"
   ]
  },
  {
   "cell_type": "code",
   "execution_count": 71,
   "id": "670ad85b",
   "metadata": {},
   "outputs": [
    {
     "name": "stdout",
     "output_type": "stream",
     "text": [
      "True\n"
     ]
    }
   ],
   "source": [
    "print(hasattr(c,\"c_loc\"))# it is there so true"
   ]
  },
  {
   "cell_type": "code",
   "execution_count": 72,
   "id": "dfb4a1b3",
   "metadata": {},
   "outputs": [
    {
     "name": "stdout",
     "output_type": "stream",
     "text": [
      "False\n"
     ]
    }
   ],
   "source": [
    "print(hasattr(c,\"c_code\"))# it is deleted so false"
   ]
  },
  {
   "cell_type": "markdown",
   "id": "4228fb66",
   "metadata": {},
   "source": [
    "* we are creating object for class\n",
    "*  **object**\n",
    "- real world entity\n",
    "    - state\n",
    "    - behaviour"
   ]
  },
  {
   "cell_type": "markdown",
   "id": "070c5bb1",
   "metadata": {},
   "source": [
    "#### 5.INHERITANTS\n",
    "- IT IS ALSO A CLASS\n",
    "- PARENT CLASS & CHILD CLASS\n",
    "- IT IS REUSEABLE\n",
    "- WE CAN MODIFY WITHOUT CLASS\n",
    "- SUPER CLASSES & SUB CLASSES\n",
    " **ADVANTAGES**\n",
    "- TIME IS LESS \n",
    "- LESS MEMORY\n",
    "- EXECUTION TIME IS LESS"
   ]
  },
  {
   "cell_type": "code",
   "execution_count": 2,
   "id": "0ef6e44a",
   "metadata": {},
   "outputs": [],
   "source": [
    "class superclass:\n",
    "    def a():\n",
    "        print (\"i'm superclass\")\n",
    "class derivedclass(superclass):\n",
    "    def b():\n",
    "        print(\"i'm derivedclass\")"
   ]
  },
  {
   "cell_type": "code",
   "execution_count": 3,
   "id": "35bf880c",
   "metadata": {},
   "outputs": [],
   "source": [
    "obj_super=superclass"
   ]
  },
  {
   "cell_type": "code",
   "execution_count": 4,
   "id": "c53e6a65",
   "metadata": {},
   "outputs": [
    {
     "name": "stdout",
     "output_type": "stream",
     "text": [
      "i'm superclass\n"
     ]
    }
   ],
   "source": [
    "obj_super.a()"
   ]
  },
  {
   "cell_type": "code",
   "execution_count": 5,
   "id": "daff1181",
   "metadata": {},
   "outputs": [],
   "source": [
    "#obj_super.b()\n",
    "# gives error"
   ]
  },
  {
   "cell_type": "code",
   "execution_count": 7,
   "id": "cf7d3c17",
   "metadata": {},
   "outputs": [
    {
     "name": "stdout",
     "output_type": "stream",
     "text": [
      "i'm derivedclass\n"
     ]
    }
   ],
   "source": [
    "obj_derived=derivedclass\n",
    "obj_derived.b()"
   ]
  },
  {
   "cell_type": "code",
   "execution_count": 8,
   "id": "cf247353",
   "metadata": {},
   "outputs": [
    {
     "name": "stdout",
     "output_type": "stream",
     "text": [
      "i'm superclass\n"
     ]
    }
   ],
   "source": [
    "obj_derived.a()"
   ]
  },
  {
   "cell_type": "code",
   "execution_count": 9,
   "id": "dfb07d40",
   "metadata": {},
   "outputs": [],
   "source": [
    "class parentclass:\n",
    "    var=\"initial\"\n",
    "    def base():\n",
    "        print(\"i'm base class\")\n",
    "class childclass(parentclass):\n",
    "    v=1000\n",
    "    def child():\n",
    "        print (\"im child of parent\")"
   ]
  },
  {
   "cell_type": "code",
   "execution_count": 14,
   "id": "935b0b48",
   "metadata": {},
   "outputs": [
    {
     "data": {
      "text/plain": [
       "'initial'"
      ]
     },
     "execution_count": 14,
     "metadata": {},
     "output_type": "execute_result"
    }
   ],
   "source": [
    "obj_parent=parentclass\n",
    "obj_parent.var"
   ]
  },
  {
   "cell_type": "code",
   "execution_count": 19,
   "id": "047fed0e",
   "metadata": {},
   "outputs": [
    {
     "name": "stdout",
     "output_type": "stream",
     "text": [
      "i'm base class\n"
     ]
    }
   ],
   "source": [
    "obj_parent.base()"
   ]
  },
  {
   "cell_type": "code",
   "execution_count": 21,
   "id": "a05a5a16",
   "metadata": {},
   "outputs": [],
   "source": [
    "#obj_parent.v\n",
    "# gives error"
   ]
  },
  {
   "cell_type": "code",
   "execution_count": 12,
   "id": "486be5d4",
   "metadata": {},
   "outputs": [
    {
     "data": {
      "text/plain": [
       "1000"
      ]
     },
     "execution_count": 12,
     "metadata": {},
     "output_type": "execute_result"
    }
   ],
   "source": [
    "obj_child=childclass\n",
    "obj_child.v"
   ]
  },
  {
   "cell_type": "code",
   "execution_count": 17,
   "id": "184481c6",
   "metadata": {},
   "outputs": [
    {
     "name": "stdout",
     "output_type": "stream",
     "text": [
      "im child of parent\n"
     ]
    }
   ],
   "source": [
    "obj_child.child()"
   ]
  },
  {
   "cell_type": "code",
   "execution_count": 22,
   "id": "ce8ffcbf",
   "metadata": {},
   "outputs": [
    {
     "data": {
      "text/plain": [
       "'initial'"
      ]
     },
     "execution_count": 22,
     "metadata": {},
     "output_type": "execute_result"
    }
   ],
   "source": [
    "obj_child.var"
   ]
  },
  {
   "cell_type": "code",
   "execution_count": 24,
   "id": "8fec3ebd",
   "metadata": {},
   "outputs": [
    {
     "name": "stdout",
     "output_type": "stream",
     "text": [
      "i'm base class\n"
     ]
    }
   ],
   "source": [
    "obj_child.base()"
   ]
  },
  {
   "cell_type": "markdown",
   "id": "036c27dc",
   "metadata": {},
   "source": [
    "### TYPES OF INHERITANCE\n",
    "**1.SINGLE LEVEL INHERITENCE**\n",
    "**2.MULTIPLE INHERITENCE**\n",
    "**3.MULTI LEVEL INHERITENCE**"
   ]
  },
  {
   "cell_type": "markdown",
   "id": "95f424f7",
   "metadata": {},
   "source": [
    "**SINGLE LEVEL**\n",
    "- ONLY ONE CHILD WHICH IS INHERIT ONLY FROM ONE PARENT"
   ]
  },
  {
   "cell_type": "code",
   "execution_count": 25,
   "id": "980f3b5e",
   "metadata": {},
   "outputs": [
    {
     "name": "stdout",
     "output_type": "stream",
     "text": [
      "im init constructor\n"
     ]
    }
   ],
   "source": [
    "class super:\n",
    "    def __init__(self):\n",
    "        self.n1=100\n",
    "        self.n2=200\n",
    "        print (\"im init constructor\")\n",
    "    def show(self):\n",
    "        print(f\"n1 and n2 are {self.n1,self.n2}\")\n",
    "class derived(super):\n",
    "    def add(self):\n",
    "        return \"addition of 2 no's\",self.n1+self.n2\n",
    "obj_s=super()"
   ]
  },
  {
   "cell_type": "code",
   "execution_count": 26,
   "id": "5c5209a0",
   "metadata": {},
   "outputs": [
    {
     "name": "stdout",
     "output_type": "stream",
     "text": [
      "n1 and n2 are (100, 200)\n"
     ]
    }
   ],
   "source": [
    "obj_s.show()"
   ]
  },
  {
   "cell_type": "code",
   "execution_count": 28,
   "id": "a88b78f4",
   "metadata": {},
   "outputs": [
    {
     "name": "stdout",
     "output_type": "stream",
     "text": [
      "im init constructor\n"
     ]
    }
   ],
   "source": [
    "obj_c=derived()"
   ]
  },
  {
   "cell_type": "code",
   "execution_count": 29,
   "id": "222b294c",
   "metadata": {},
   "outputs": [
    {
     "name": "stdout",
     "output_type": "stream",
     "text": [
      "n1 and n2 are (100, 200)\n"
     ]
    }
   ],
   "source": [
    "obj_c.show()"
   ]
  },
  {
   "cell_type": "code",
   "execution_count": 30,
   "id": "75b15473",
   "metadata": {},
   "outputs": [
    {
     "data": {
      "text/plain": [
       "(\"addition of 2 no's\", 300)"
      ]
     },
     "execution_count": 30,
     "metadata": {},
     "output_type": "execute_result"
    }
   ],
   "source": [
    "obj_c.add()"
   ]
  },
  {
   "cell_type": "markdown",
   "id": "949e5aae",
   "metadata": {},
   "source": [
    "**MULTIPLE INHERI**\n",
    "- MORE THAN 1 PARENT BUT ONLY 1 CHILD"
   ]
  },
  {
   "cell_type": "code",
   "execution_count": 31,
   "id": "05b9a717",
   "metadata": {},
   "outputs": [],
   "source": [
    "class parent1:\n",
    "    def property1():\n",
    "        print (\"im property of parent1\")\n",
    "class parent2:\n",
    "    def property2():\n",
    "        print(\"im property of parent2\")\n",
    "class child(parent1,parent2):\n",
    "    def property3():\n",
    "        print (\"im property of child class\")"
   ]
  },
  {
   "cell_type": "code",
   "execution_count": 34,
   "id": "44a96f8b",
   "metadata": {},
   "outputs": [],
   "source": [
    "obj_p1=parent1"
   ]
  },
  {
   "cell_type": "code",
   "execution_count": 36,
   "id": "08b4be0a",
   "metadata": {},
   "outputs": [
    {
     "name": "stdout",
     "output_type": "stream",
     "text": [
      "im property of parent1\n"
     ]
    }
   ],
   "source": [
    "obj_p1.property1()#can\n",
    "#obj_p1.property2()#cant\n",
    "#obj_p1.property3()#cant"
   ]
  },
  {
   "cell_type": "code",
   "execution_count": 33,
   "id": "caf75028",
   "metadata": {},
   "outputs": [],
   "source": [
    "obj_p2=parent2"
   ]
  },
  {
   "cell_type": "code",
   "execution_count": 40,
   "id": "9715358e",
   "metadata": {},
   "outputs": [
    {
     "name": "stdout",
     "output_type": "stream",
     "text": [
      "im property of parent2\n"
     ]
    }
   ],
   "source": [
    "obj_p2.property2()#can\n",
    "#obj_p2.property1()#cant\n",
    "#obj_p2.property3()#cant"
   ]
  },
  {
   "cell_type": "code",
   "execution_count": 41,
   "id": "40b32d61",
   "metadata": {},
   "outputs": [],
   "source": [
    "obj_c=child"
   ]
  },
  {
   "cell_type": "code",
   "execution_count": 43,
   "id": "7ed0b53a",
   "metadata": {},
   "outputs": [
    {
     "name": "stdout",
     "output_type": "stream",
     "text": [
      "im property of parent1\n",
      "im property of parent2\n",
      "im property of child class\n"
     ]
    }
   ],
   "source": [
    "obj_c.property1()\n",
    "obj_c.property2()\n",
    "obj_c.property3()"
   ]
  },
  {
   "cell_type": "code",
   "execution_count": 46,
   "id": "3c3e905f",
   "metadata": {},
   "outputs": [],
   "source": [
    "class father:\n",
    "    def __init__(self):\n",
    "        self.amount=500\n",
    "class mother:\n",
    "    def __init__(self):\n",
    "        self.money=1000\n",
    "class you(father,mother):\n",
    "    def __init__(self):\n",
    "        father.__init__(self)\n",
    "        mother.__init__(self)\n",
    "        print(\"my monthly pocket money is\",self.amount+self.money)"
   ]
  },
  {
   "cell_type": "code",
   "execution_count": 48,
   "id": "58b3b0a5",
   "metadata": {},
   "outputs": [
    {
     "name": "stdout",
     "output_type": "stream",
     "text": [
      "my monthly pocket money is 1500\n"
     ]
    }
   ],
   "source": [
    "obj_you=you()"
   ]
  },
  {
   "cell_type": "markdown",
   "id": "9f2e076c",
   "metadata": {},
   "source": [
    "### ASSIGNMENT\n",
    "- USE MULTIPLE INHERITENCE\n",
    "- GET 3 DIGIT OTP FROM MAIL CLASS\n",
    "- GET 3 DIGIT OTP FROM PHONE CLASS\n",
    "- BY USING VERIFIED CLASS(CHILD)\n",
    "- ACCESS BOTH 3 DIGIT OTP'S AND RETURN 6 DIGIT "
   ]
  },
  {
   "cell_type": "code",
   "execution_count": 52,
   "id": "a32be677",
   "metadata": {},
   "outputs": [],
   "source": [
    "import random\n",
    "class mail:\n",
    "    def __init__(self):\n",
    "        self.otp1=random.randint(100,999) #int(input())\n",
    "class phone:\n",
    "    def __init__(self):\n",
    "        self.otp2=random.randint(100,999)\n",
    "class verified(mail,phone):\n",
    "    def __init__(self):\n",
    "        mail.__init__(self)\n",
    "        phone.__init__(self)\n",
    "        print(\"6 digit otp\",str(self.otp1)+str(self.otp2))        "
   ]
  },
  {
   "cell_type": "code",
   "execution_count": 53,
   "id": "68b163ce",
   "metadata": {
    "scrolled": true
   },
   "outputs": [
    {
     "name": "stdout",
     "output_type": "stream",
     "text": [
      "6 digit otp 375467\n"
     ]
    }
   ],
   "source": [
    "v=verified()"
   ]
  },
  {
   "cell_type": "markdown",
   "id": "0d83d059",
   "metadata": {},
   "source": [
    "**MULTI LEVEL INHERITENCE**\n",
    "- ONE GRAND PARENT,PARENT CLASS AND ONLY ONE CHILD....."
   ]
  },
  {
   "cell_type": "code",
   "execution_count": 58,
   "id": "54aec8bf",
   "metadata": {},
   "outputs": [
    {
     "name": "stdout",
     "output_type": "stream",
     "text": [
      "grandfather property 1 acer land\n",
      "father property flat and 1 acer land\n",
      "my property 1 acer land flat study\n"
     ]
    }
   ],
   "source": [
    "class grandfather:\n",
    "    def __init__(self):\n",
    "        self.property1=\"1 acer land\"\n",
    "        print(\"grandfather property\",self.property1)\n",
    "class father(grandfather):\n",
    "    def __init__(self):\n",
    "        grandfather.__init__(self)\n",
    "        self.property2=\"flat\"\n",
    "        print(\"father property\",self.property2,\"and\",self.property1)\n",
    "class child(father):\n",
    "    def __init__(self):\n",
    "        father.__init__(self)\n",
    "        self.property3=\"study\"\n",
    "        print(\"my property\",self.property1,self.property2,self.property3)\n",
    "obj=child()"
   ]
  },
  {
   "cell_type": "code",
   "execution_count": 61,
   "id": "8692c3f9",
   "metadata": {},
   "outputs": [
    {
     "name": "stdout",
     "output_type": "stream",
     "text": [
      "grandfather property 1 acer land\n",
      "father property flat and 1 acer land\n"
     ]
    }
   ],
   "source": [
    "obj_father=father()"
   ]
  },
  {
   "cell_type": "code",
   "execution_count": 63,
   "id": "681fa975",
   "metadata": {},
   "outputs": [
    {
     "name": "stdout",
     "output_type": "stream",
     "text": [
      "grandfather property 1 acer land\n"
     ]
    }
   ],
   "source": [
    "obj_grand=grandfather()"
   ]
  },
  {
   "cell_type": "markdown",
   "id": "8456d035",
   "metadata": {},
   "source": [
    "**------O------**\n",
    "###### continuous of previous topic"
   ]
  },
  {
   "cell_type": "markdown",
   "id": "c00b4611",
   "metadata": {},
   "source": [
    "# modules & packages"
   ]
  },
  {
   "cell_type": "code",
   "execution_count": 65,
   "id": "10441fae",
   "metadata": {},
   "outputs": [
    {
     "name": "stdout",
     "output_type": "stream",
     "text": [
      "['__breakpointhook__', '__displayhook__', '__doc__', '__excepthook__', '__interactivehook__', '__loader__', '__name__', '__package__', '__spec__', '__stderr__', '__stdin__', '__stdout__', '__unraisablehook__', '_base_executable', '_clear_type_cache', '_current_frames', '_debugmallocstats', '_framework', '_getframe', '_git', '_home', '_xoptions', 'abiflags', 'addaudithook', 'api_version', 'argv', 'audit', 'base_exec_prefix', 'base_prefix', 'breakpointhook', 'builtin_module_names', 'byteorder', 'call_tracing', 'callstats', 'copyright', 'displayhook', 'dont_write_bytecode', 'exc_info', 'excepthook', 'exec_prefix', 'executable', 'exit', 'flags', 'float_info', 'float_repr_style', 'get_asyncgen_hooks', 'get_coroutine_origin_tracking_depth', 'getallocatedblocks', 'getandroidapilevel', 'getcheckinterval', 'getdefaultencoding', 'getdlopenflags', 'getfilesystemencodeerrors', 'getfilesystemencoding', 'getprofile', 'getrecursionlimit', 'getrefcount', 'getsizeof', 'getswitchinterval', 'gettrace', 'hash_info', 'hexversion', 'implementation', 'int_info', 'intern', 'is_finalizing', 'last_traceback', 'last_type', 'last_value', 'maxsize', 'maxunicode', 'meta_path', 'modules', 'path', 'path_hooks', 'path_importer_cache', 'platform', 'prefix', 'ps1', 'ps2', 'ps3', 'pycache_prefix', 'set_asyncgen_hooks', 'set_coroutine_origin_tracking_depth', 'setcheckinterval', 'setdlopenflags', 'setprofile', 'setrecursionlimit', 'setswitchinterval', 'settrace', 'stderr', 'stdin', 'stdout', 'thread_info', 'unraisablehook', 'version', 'version_info', 'warnoptions']\n"
     ]
    }
   ],
   "source": [
    "import sys\n",
    "print(dir(sys))#system modules"
   ]
  },
  {
   "cell_type": "code",
   "execution_count": 67,
   "id": "15f900c8",
   "metadata": {
    "scrolled": false
   },
   "outputs": [
    {
     "name": "stdout",
     "output_type": "stream",
     "text": [
      "3.8.3 (default, May 27 2020, 02:08:17) \n",
      "[GCC 9.3.0]\n"
     ]
    }
   ],
   "source": [
    "print (sys.version)"
   ]
  },
  {
   "cell_type": "code",
   "execution_count": 69,
   "id": "fa8ca9d5",
   "metadata": {},
   "outputs": [
    {
     "name": "stdout",
     "output_type": "stream",
     "text": [
      "sys.version_info(major=3, minor=8, micro=3, releaselevel='final', serial=0)\n"
     ]
    }
   ],
   "source": [
    "print (sys.version_info)"
   ]
  },
  {
   "cell_type": "code",
   "execution_count": 71,
   "id": "f53a2b32",
   "metadata": {},
   "outputs": [
    {
     "name": "stdout",
     "output_type": "stream",
     "text": [
      "<ipykernel.iostream.OutStream object at 0x7451022100>\n"
     ]
    }
   ],
   "source": [
    "print (sys.stderr)"
   ]
  },
  {
   "cell_type": "code",
   "execution_count": 73,
   "id": "df9d5e61",
   "metadata": {},
   "outputs": [
    {
     "name": "stdout",
     "output_type": "stream",
     "text": [
      "['__abstractmethods__', '__class__', '__del__', '__delattr__', '__dict__', '__dir__', '__doc__', '__enter__', '__eq__', '__exit__', '__format__', '__ge__', '__getattribute__', '__gt__', '__hash__', '__init__', '__init_subclass__', '__iter__', '__le__', '__lt__', '__module__', '__ne__', '__new__', '__next__', '__reduce__', '__reduce_ex__', '__repr__', '__setattr__', '__sizeof__', '__str__', '__subclasshook__', '_abc_impl', '_buffer', '_checkClosed', '_checkReadable', '_checkSeekable', '_checkWritable', '_flush', '_flush_buffer', '_flush_pending', '_io_loop', '_is_master_process', '_master_pid', '_new_buffer', '_schedule_flush', '_subprocess_flush_pending', 'close', 'closed', 'detach', 'echo', 'encoding', 'errors', 'fileno', 'flush', 'flush_interval', 'flush_timeout', 'isatty', 'name', 'newlines', 'parent_header', 'pub_thread', 'read', 'readable', 'readline', 'readlines', 'seek', 'seekable', 'session', 'set_parent', 'tell', 'topic', 'truncate', 'writable', 'write', 'writelines']\n"
     ]
    }
   ],
   "source": [
    "print(dir(sys.stderr))"
   ]
  },
  {
   "cell_type": "code",
   "execution_count": 75,
   "id": "70df3997",
   "metadata": {},
   "outputs": [
    {
     "name": "stdout",
     "output_type": "stream",
     "text": [
      "['__abstractmethods__', '__class__', '__del__', '__delattr__', '__dict__', '__dir__', '__doc__', '__enter__', '__eq__', '__exit__', '__format__', '__ge__', '__getattribute__', '__gt__', '__hash__', '__init__', '__init_subclass__', '__iter__', '__le__', '__lt__', '__module__', '__ne__', '__new__', '__next__', '__reduce__', '__reduce_ex__', '__repr__', '__setattr__', '__sizeof__', '__str__', '__subclasshook__', '_abc_impl', '_buffer', '_checkClosed', '_checkReadable', '_checkSeekable', '_checkWritable', '_flush', '_flush_buffer', '_flush_pending', '_io_loop', '_is_master_process', '_master_pid', '_new_buffer', '_schedule_flush', '_subprocess_flush_pending', 'close', 'closed', 'detach', 'echo', 'encoding', 'errors', 'fileno', 'flush', 'flush_interval', 'flush_timeout', 'isatty', 'name', 'newlines', 'parent_header', 'pub_thread', 'read', 'readable', 'readline', 'readlines', 'seek', 'seekable', 'session', 'set_parent', 'softspace', 'tell', 'topic', 'truncate', 'writable', 'write', 'writelines']\n"
     ]
    }
   ],
   "source": [
    "print(dir(sys.stdout))"
   ]
  },
  {
   "cell_type": "code",
   "execution_count": 77,
   "id": "e4fa5ccd",
   "metadata": {},
   "outputs": [
    {
     "name": "stdout",
     "output_type": "stream",
     "text": [
      "['_CHUNK_SIZE', '__class__', '__del__', '__delattr__', '__dict__', '__dir__', '__doc__', '__enter__', '__eq__', '__exit__', '__format__', '__ge__', '__getattribute__', '__gt__', '__hash__', '__init__', '__init_subclass__', '__iter__', '__le__', '__lt__', '__ne__', '__new__', '__next__', '__reduce__', '__reduce_ex__', '__repr__', '__setattr__', '__sizeof__', '__str__', '__subclasshook__', '_checkClosed', '_checkReadable', '_checkSeekable', '_checkWritable', '_finalizing', 'buffer', 'close', 'closed', 'detach', 'encoding', 'errors', 'fileno', 'flush', 'isatty', 'line_buffering', 'mode', 'name', 'newlines', 'read', 'readable', 'readline', 'readlines', 'reconfigure', 'seek', 'seekable', 'tell', 'truncate', 'writable', 'write', 'write_through', 'writelines']\n"
     ]
    }
   ],
   "source": [
    "print(dir(sys.stdin))"
   ]
  },
  {
   "cell_type": "code",
   "execution_count": 79,
   "id": "4b4cf49f",
   "metadata": {},
   "outputs": [
    {
     "name": "stdout",
     "output_type": "stream",
     "text": [
      "['__doc__', '__file__', '__loader__', '__name__', '__package__', '__spec__', 'acos', 'acosh', 'asin', 'asinh', 'atan', 'atan2', 'atanh', 'ceil', 'comb', 'copysign', 'cos', 'cosh', 'degrees', 'dist', 'e', 'erf', 'erfc', 'exp', 'expm1', 'fabs', 'factorial', 'floor', 'fmod', 'frexp', 'fsum', 'gamma', 'gcd', 'hypot', 'inf', 'isclose', 'isfinite', 'isinf', 'isnan', 'isqrt', 'ldexp', 'lgamma', 'log', 'log10', 'log1p', 'log2', 'modf', 'nan', 'perm', 'pi', 'pow', 'prod', 'radians', 'remainder', 'sin', 'sinh', 'sqrt', 'tan', 'tanh', 'tau', 'trunc']\n"
     ]
    }
   ],
   "source": [
    "import math as mt\n",
    "print(dir(mt))"
   ]
  },
  {
   "cell_type": "code",
   "execution_count": 81,
   "id": "a0eaa4db",
   "metadata": {},
   "outputs": [
    {
     "name": "stdout",
     "output_type": "stream",
     "text": [
      "1.6197751905438615\n"
     ]
    }
   ],
   "source": [
    "print(mt.tan(45))"
   ]
  },
  {
   "cell_type": "code",
   "execution_count": 84,
   "id": "e9adae96",
   "metadata": {},
   "outputs": [
    {
     "name": "stdout",
     "output_type": "stream",
     "text": [
      "720\n"
     ]
    }
   ],
   "source": [
    "print(mt.factorial(6))"
   ]
  },
  {
   "cell_type": "code",
   "execution_count": 86,
   "id": "60bc724c",
   "metadata": {},
   "outputs": [
    {
     "name": "stdout",
     "output_type": "stream",
     "text": [
      "0.8509035245341184\n"
     ]
    }
   ],
   "source": [
    "print(mt.sin(45))"
   ]
  },
  {
   "cell_type": "code",
   "execution_count": 88,
   "id": "3ff0781b",
   "metadata": {},
   "outputs": [
    {
     "name": "stdout",
     "output_type": "stream",
     "text": [
      "9 9 10 10\n"
     ]
    }
   ],
   "source": [
    "a=mt.floor(9.25)\n",
    "b=mt.floor(9.5)\n",
    "c=mt.ceil(9.25)\n",
    "d=mt.ceil(9.25)\n",
    "print(a,b,c,d)"
   ]
  },
  {
   "cell_type": "code",
   "execution_count": 89,
   "id": "2d086c68",
   "metadata": {},
   "outputs": [
    {
     "name": "stdout",
     "output_type": "stream",
     "text": [
      "60\n"
     ]
    }
   ],
   "source": [
    "print(mt.gcd(120,180))"
   ]
  },
  {
   "cell_type": "code",
   "execution_count": 91,
   "id": "e9a66996",
   "metadata": {},
   "outputs": [
    {
     "name": "stdout",
     "output_type": "stream",
     "text": [
      "6.0\n"
     ]
    }
   ],
   "source": [
    "print(mt.sqrt(36))"
   ]
  },
  {
   "cell_type": "code",
   "execution_count": 93,
   "id": "540f1e45",
   "metadata": {},
   "outputs": [
    {
     "name": "stdout",
     "output_type": "stream",
     "text": [
      "8.0\n"
     ]
    }
   ],
   "source": [
    "print(mt.pow(2,3))"
   ]
  },
  {
   "cell_type": "code",
   "execution_count": 96,
   "id": "a3acdcf9",
   "metadata": {},
   "outputs": [
    {
     "name": "stdout",
     "output_type": "stream",
     "text": [
      "3.141592653589793\n"
     ]
    }
   ],
   "source": [
    "print(mt.pi)"
   ]
  },
  {
   "cell_type": "code",
   "execution_count": 97,
   "id": "4e736b7d",
   "metadata": {},
   "outputs": [
    {
     "name": "stdout",
     "output_type": "stream",
     "text": [
      "['BPF', 'LOG4', 'NV_MAGICCONST', 'RECIP_BPF', 'Random', 'SG_MAGICCONST', 'SystemRandom', 'TWOPI', '_Sequence', '_Set', '__all__', '__builtins__', '__cached__', '__doc__', '__file__', '__loader__', '__name__', '__package__', '__spec__', '_accumulate', '_acos', '_bisect', '_ceil', '_cos', '_e', '_exp', '_inst', '_log', '_os', '_pi', '_random', '_repeat', '_sha512', '_sin', '_sqrt', '_test', '_test_generator', '_urandom', '_warn', 'betavariate', 'choice', 'choices', 'expovariate', 'gammavariate', 'gauss', 'getrandbits', 'getstate', 'lognormvariate', 'normalvariate', 'paretovariate', 'randint', 'random', 'randrange', 'sample', 'seed', 'setstate', 'shuffle', 'triangular', 'uniform', 'vonmisesvariate', 'weibullvariate']\n"
     ]
    }
   ],
   "source": [
    "# random module\n",
    "import random as rd\n",
    "print(dir(rd))"
   ]
  },
  {
   "cell_type": "code",
   "execution_count": 99,
   "id": "4e29f0ee",
   "metadata": {},
   "outputs": [
    {
     "name": "stdout",
     "output_type": "stream",
     "text": [
      "69\n"
     ]
    }
   ],
   "source": [
    "k=random.randint(1,100)\n",
    "print(k)"
   ]
  },
  {
   "cell_type": "code",
   "execution_count": 101,
   "id": "68ab4499",
   "metadata": {},
   "outputs": [
    {
     "name": "stdout",
     "output_type": "stream",
     "text": [
      "0.9250486685865315\n"
     ]
    }
   ],
   "source": [
    "nt=random.random()\n",
    "print(nt)"
   ]
  },
  {
   "cell_type": "code",
   "execution_count": 123,
   "id": "6410c792",
   "metadata": {},
   "outputs": [
    {
     "name": "stdout",
     "output_type": "stream",
     "text": [
      "6\n",
      "3\n"
     ]
    }
   ],
   "source": [
    "ch=random.choice([1,2,3,4,5,6])\n",
    "print(ch)\n",
    "if ch==6:\n",
    "    ch=random.choice([1,2,3,4,5,6])\n",
    "    print(ch)"
   ]
  },
  {
   "cell_type": "code",
   "execution_count": 147,
   "id": "0b1c4dea",
   "metadata": {},
   "outputs": [
    {
     "name": "stdout",
     "output_type": "stream",
     "text": [
      "60\n"
     ]
    }
   ],
   "source": [
    "rd=random.randrange(0,100,3)#used=3\n",
    "#gives multiples of 3\n",
    "print(rd)"
   ]
  },
  {
   "cell_type": "markdown",
   "id": "94e646e9",
   "metadata": {},
   "source": [
    "- python file is created as class1.py"
   ]
  },
  {
   "cell_type": "markdown",
   "id": "bdff7df8",
   "metadata": {},
   "source": [
    "\n",
    "- class kkrksr:\n",
    "  - def even(eve):\n",
    "       - if eve%2==0:\n",
    "           - return True\n",
    "       - else:\n",
    "           - return False\n",
    "  - def odd(eve):\n",
    "        - if eve%2==1:#!=0\n",
    "            - return True\n",
    "       - else:\n",
    "           - return False"
   ]
  },
  {
   "cell_type": "code",
   "execution_count": 165,
   "id": "b6c8dd3d",
   "metadata": {},
   "outputs": [
    {
     "name": "stdout",
     "output_type": "stream",
     "text": [
      "\u001b[1;34m__pycache__\u001b[m/   \u001b[0;0mclass-4.ipynb\u001b[m  \u001b[0;0mclass-8.ipynb\u001b[m  \u001b[0;0mfile3.txt\u001b[m      \u001b[0;0mmodule.py\u001b[m\r\n",
      "\u001b[0;0mclass-1.ipynb\u001b[m  \u001b[0;0mclass-5.ipynb\u001b[m  \u001b[0;0mclass1.py\u001b[m      \u001b[0;0mfile4.txt\u001b[m\r\n",
      "\u001b[0;0mclass-2.ipynb\u001b[m  \u001b[0;0mclass-6.ipynb\u001b[m  \u001b[0;0mfile1.txt\u001b[m      \u001b[0;0mfile5.txt\u001b[m\r\n",
      "\u001b[0;0mclass-3.ipynb\u001b[m  \u001b[0;0mclass-7.ipynb\u001b[m  \u001b[0;0mfile2.txt\u001b[m      \u001b[0;0mfile6.txt\u001b[m\r\n"
     ]
    }
   ],
   "source": [
    "ls# shows our file name i.e class1.py"
   ]
  },
  {
   "cell_type": "code",
   "execution_count": 166,
   "id": "329d4936",
   "metadata": {},
   "outputs": [
    {
     "name": "stdout",
     "output_type": "stream",
     "text": [
      "False\n",
      "True\n",
      "True\n",
      "False\n"
     ]
    }
   ],
   "source": [
    "from class1 import kkrksr\n",
    "students=kkrksr\n",
    "print(students.even(5))\n",
    "print(students.even(4))\n",
    "print(students.odd(3))\n",
    "print(students.odd(2))"
   ]
  },
  {
   "cell_type": "markdown",
   "id": "c21e6d43",
   "metadata": {},
   "source": [
    "# FILTER\n",
    "## syntax\n",
    "- (filter,range(10))"
   ]
  },
  {
   "cell_type": "code",
   "execution_count": 1,
   "id": "0021838a",
   "metadata": {},
   "outputs": [
    {
     "name": "stdout",
     "output_type": "stream",
     "text": [
      "[6, 7, 8, 9, 10, 11, 12, 13, 14, 15, 16, 17, 18, 19]\n"
     ]
    }
   ],
   "source": [
    "# filter(filter,range(20))\n",
    "def fliter(n):\n",
    "    if n>5:\n",
    "        return n\n",
    "#data=filter(fliter,range(20))\n",
    "data=filter(fliter,range(20))\n",
    "print(list(data))"
   ]
  }
 ],
 "metadata": {
  "kernelspec": {
   "display_name": "Python 3",
   "language": "python",
   "name": "python3"
  },
  "language_info": {
   "codemirror_mode": {
    "name": "ipython",
    "version": 3
   },
   "file_extension": ".py",
   "mimetype": "text/x-python",
   "name": "python",
   "nbconvert_exporter": "python",
   "pygments_lexer": "ipython3",
   "version": "3.8.3"
  }
 },
 "nbformat": 4,
 "nbformat_minor": 5
}
