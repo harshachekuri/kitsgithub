{
 "cells": [
  {
   "cell_type": "markdown",
   "id": "b8ff0f33",
   "metadata": {},
   "source": [
    "## modules & packages"
   ]
  },
  {
   "cell_type": "code",
   "execution_count": 4,
   "id": "89262497",
   "metadata": {},
   "outputs": [
    {
     "name": "stdout",
     "output_type": "stream",
     "text": [
      "['__breakpointhook__', '__displayhook__', '__doc__', '__excepthook__', '__interactivehook__', '__loader__', '__name__', '__package__', '__spec__', '__stderr__', '__stdin__', '__stdout__', '__unraisablehook__', '_base_executable', '_clear_type_cache', '_current_frames', '_debugmallocstats', '_framework', '_getframe', '_git', '_home', '_xoptions', 'abiflags', 'addaudithook', 'api_version', 'argv', 'audit', 'base_exec_prefix', 'base_prefix', 'breakpointhook', 'builtin_module_names', 'byteorder', 'call_tracing', 'callstats', 'copyright', 'displayhook', 'dont_write_bytecode', 'exc_info', 'excepthook', 'exec_prefix', 'executable', 'exit', 'flags', 'float_info', 'float_repr_style', 'get_asyncgen_hooks', 'get_coroutine_origin_tracking_depth', 'getallocatedblocks', 'getandroidapilevel', 'getcheckinterval', 'getdefaultencoding', 'getdlopenflags', 'getfilesystemencodeerrors', 'getfilesystemencoding', 'getprofile', 'getrecursionlimit', 'getrefcount', 'getsizeof', 'getswitchinterval', 'gettrace', 'hash_info', 'hexversion', 'implementation', 'int_info', 'intern', 'is_finalizing', 'last_traceback', 'last_type', 'last_value', 'maxsize', 'maxunicode', 'meta_path', 'modules', 'path', 'path_hooks', 'path_importer_cache', 'platform', 'prefix', 'ps1', 'ps2', 'ps3', 'pycache_prefix', 'set_asyncgen_hooks', 'set_coroutine_origin_tracking_depth', 'setcheckinterval', 'setdlopenflags', 'setprofile', 'setrecursionlimit', 'setswitchinterval', 'settrace', 'stderr', 'stdin', 'stdout', 'thread_info', 'unraisablehook', 'version', 'version_info', 'warnoptions']\n"
     ]
    }
   ],
   "source": [
    "import sys\n",
    "print(dir(sys))"
   ]
  },
  {
   "cell_type": "code",
   "execution_count": 8,
   "id": "97dad9ba",
   "metadata": {},
   "outputs": [
    {
     "name": "stdout",
     "output_type": "stream",
     "text": [
      "3.8.3 (default, May 27 2020, 02:08:17) \n",
      "[GCC 9.3.0]\n"
     ]
    }
   ],
   "source": [
    "print(sys.version)#version of python"
   ]
  },
  {
   "cell_type": "code",
   "execution_count": 9,
   "id": "f4f6adb8",
   "metadata": {},
   "outputs": [
    {
     "name": "stdout",
     "output_type": "stream",
     "text": [
      "sys.version_info(major=3, minor=8, micro=3, releaselevel='final', serial=0)\n"
     ]
    }
   ],
   "source": [
    "print(sys.version_info)"
   ]
  },
  {
   "cell_type": "code",
   "execution_count": 15,
   "id": "fd20a9bd",
   "metadata": {},
   "outputs": [
    {
     "name": "stdout",
     "output_type": "stream",
     "text": [
      "<ipykernel.iostream.OutStream object at 0x71b984c100>\n",
      "['__abstractmethods__', '__class__', '__del__', '__delattr__', '__dict__', '__dir__', '__doc__', '__enter__', '__eq__', '__exit__', '__format__', '__ge__', '__getattribute__', '__gt__', '__hash__', '__init__', '__init_subclass__', '__iter__', '__le__', '__lt__', '__module__', '__ne__', '__new__', '__next__', '__reduce__', '__reduce_ex__', '__repr__', '__setattr__', '__sizeof__', '__str__', '__subclasshook__', '_abc_impl', '_buffer', '_checkClosed', '_checkReadable', '_checkSeekable', '_checkWritable', '_flush', '_flush_buffer', '_flush_pending', '_io_loop', '_is_master_process', '_master_pid', '_new_buffer', '_schedule_flush', '_subprocess_flush_pending', 'close', 'closed', 'detach', 'echo', 'encoding', 'errors', 'fileno', 'flush', 'flush_interval', 'flush_timeout', 'isatty', 'name', 'newlines', 'parent_header', 'pub_thread', 'read', 'readable', 'readline', 'readlines', 'seek', 'seekable', 'session', 'set_parent', 'tell', 'topic', 'truncate', 'writable', 'write', 'writelines']\n"
     ]
    }
   ],
   "source": [
    "print (sys.stderr)\n",
    "print (dir(sys.stderr))"
   ]
  },
  {
   "cell_type": "code",
   "execution_count": 16,
   "id": "99a1112c",
   "metadata": {},
   "outputs": [
    {
     "name": "stdout",
     "output_type": "stream",
     "text": [
      "<ipykernel.iostream.OutStream object at 0x71b984c070>\n",
      "['__abstractmethods__', '__class__', '__del__', '__delattr__', '__dict__', '__dir__', '__doc__', '__enter__', '__eq__', '__exit__', '__format__', '__ge__', '__getattribute__', '__gt__', '__hash__', '__init__', '__init_subclass__', '__iter__', '__le__', '__lt__', '__module__', '__ne__', '__new__', '__next__', '__reduce__', '__reduce_ex__', '__repr__', '__setattr__', '__sizeof__', '__str__', '__subclasshook__', '_abc_impl', '_buffer', '_checkClosed', '_checkReadable', '_checkSeekable', '_checkWritable', '_flush', '_flush_buffer', '_flush_pending', '_io_loop', '_is_master_process', '_master_pid', '_new_buffer', '_schedule_flush', '_subprocess_flush_pending', 'close', 'closed', 'detach', 'echo', 'encoding', 'errors', 'fileno', 'flush', 'flush_interval', 'flush_timeout', 'isatty', 'name', 'newlines', 'parent_header', 'pub_thread', 'read', 'readable', 'readline', 'readlines', 'seek', 'seekable', 'session', 'set_parent', 'softspace', 'tell', 'topic', 'truncate', 'writable', 'write', 'writelines']\n"
     ]
    }
   ],
   "source": [
    "print(sys.stdout)\n",
    "print(dir(sys.stdout))"
   ]
  },
  {
   "cell_type": "code",
   "execution_count": 17,
   "id": "0bfe0ce5",
   "metadata": {},
   "outputs": [
    {
     "name": "stdout",
     "output_type": "stream",
     "text": [
      "<_io.TextIOWrapper name='<stdin>' mode='r' encoding='utf-8'>\n",
      "['_CHUNK_SIZE', '__class__', '__del__', '__delattr__', '__dict__', '__dir__', '__doc__', '__enter__', '__eq__', '__exit__', '__format__', '__ge__', '__getattribute__', '__gt__', '__hash__', '__init__', '__init_subclass__', '__iter__', '__le__', '__lt__', '__ne__', '__new__', '__next__', '__reduce__', '__reduce_ex__', '__repr__', '__setattr__', '__sizeof__', '__str__', '__subclasshook__', '_checkClosed', '_checkReadable', '_checkSeekable', '_checkWritable', '_finalizing', 'buffer', 'close', 'closed', 'detach', 'encoding', 'errors', 'fileno', 'flush', 'isatty', 'line_buffering', 'mode', 'name', 'newlines', 'read', 'readable', 'readline', 'readlines', 'reconfigure', 'seek', 'seekable', 'tell', 'truncate', 'writable', 'write', 'write_through', 'writelines']\n"
     ]
    }
   ],
   "source": [
    "print(sys.stdin)\n",
    "print (dir (sys.stdin))"
   ]
  },
  {
   "cell_type": "markdown",
   "id": "9496343b",
   "metadata": {},
   "source": [
    "* python file is created \n",
    "    * go to jupyter home page\n",
    "    * click on new \n",
    "    * select on text file\n",
    "    * rename text file as module.py \n",
    "    * (.py) is extension of python \n",
    "    * module is the name of python file\n",
    "    * PYTHON FILE is created....."
   ]
  },
  {
   "cell_type": "code",
   "execution_count": 32,
   "id": "82472220",
   "metadata": {},
   "outputs": [
    {
     "name": "stdout",
     "output_type": "stream",
     "text": [
      "\u001b[1;34mAlarms\u001b[m/         \u001b[1;34mFonts\u001b[m/          \u001b[1;34mPictures\u001b[m/       \u001b[1;34miLovePDF\u001b[m/\r\n",
      "\u001b[1;34mAndroid\u001b[m/        \u001b[1;34mJioSwitch\u001b[m/      \u001b[1;34mPodcasts\u001b[m/       \u001b[1;34minShare\u001b[m/\r\n",
      "\u001b[1;34mAudiobooks\u001b[m/     \u001b[1;34mMovies\u001b[m/         \u001b[1;34mSubtitles\u001b[m/      \u001b[0;0mmodule.py\u001b[m\r\n",
      "\u001b[1;34mColorOS\u001b[m/        \u001b[1;34mMusic\u001b[m/          \u001b[0;0mUntitled.ipynb\u001b[m  \u001b[1;34moplus_log\u001b[m/\r\n",
      "\u001b[1;34mDCIM\u001b[m/           \u001b[1;34mNotifications\u001b[m/  \u001b[1;34mVidMate\u001b[m/        \u001b[1;34mpython\u001b[m/\r\n",
      "\u001b[1;34mDocuments\u001b[m/      \u001b[1;34mPDF'S\u001b[m/          \u001b[1;34m__pycache__\u001b[m/\r\n",
      "\u001b[1;34mDownload\u001b[m/       \u001b[1;34mPicsArt\u001b[m/        \u001b[1;34mapssdc\u001b[m/\r\n"
     ]
    }
   ],
   "source": [
    "ls"
   ]
  },
  {
   "cell_type": "code",
   "execution_count": 33,
   "id": "7452ae23",
   "metadata": {},
   "outputs": [
    {
     "name": "stdout",
     "output_type": "stream",
     "text": [
      "['__builtins__', '__cached__', '__doc__', '__file__', '__loader__', '__name__', '__package__', '__spec__', 'add', 'mul', 'sub']\n"
     ]
    }
   ],
   "source": [
    "import module\n",
    "print(dir(module))"
   ]
  },
  {
   "cell_type": "code",
   "execution_count": 34,
   "id": "08e2b938",
   "metadata": {},
   "outputs": [
    {
     "name": "stdout",
     "output_type": "stream",
     "text": [
      "90\n"
     ]
    }
   ],
   "source": [
    "print (module.sub(100,10))"
   ]
  },
  {
   "cell_type": "code",
   "execution_count": 35,
   "id": "9ef5b60f",
   "metadata": {},
   "outputs": [
    {
     "name": "stdout",
     "output_type": "stream",
     "text": [
      "120\n"
     ]
    }
   ],
   "source": [
    "print (module.add(100,20))"
   ]
  },
  {
   "cell_type": "code",
   "execution_count": 36,
   "id": "ce8aacfe",
   "metadata": {},
   "outputs": [
    {
     "name": "stdout",
     "output_type": "stream",
     "text": [
      "50\n"
     ]
    }
   ],
   "source": [
    "print (module.mul(10,5))"
   ]
  },
  {
   "cell_type": "markdown",
   "id": "5a06114c",
   "metadata": {},
   "source": [
    "###### --------O----------\n",
    "###### continution of another topic"
   ]
  },
  {
   "cell_type": "markdown",
   "id": "777307b1",
   "metadata": {},
   "source": [
    "# PYTHON OOP'S \n",
    "### new concept \n",
    "* object oriented programming language\n",
    "- our login will implement based on classes and objects \n",
    "- it is used to develop an application base\n",
    "- concepts here are....\n",
    "1. class\n",
    "     - collection of objects \n",
    "     - logic will have some objects & methods\n",
    "     - ex:-student--->sname,semail, srollno\n",
    "2. object\n",
    "    - object is real world entity that has state and behaviour\n",
    "3. method \n",
    "    - method is a function \n",
    "4. constructor\n",
    "    - it is special function to interact with object \n",
    "    - we can create a constructor by using--->_init_()\n",
    "    - 3 types but mainly 2 are helpfull\n",
    "5. inherritance\n",
    "    - it will aquires all the parent class attributes in child class"
   ]
  },
  {
   "cell_type": "markdown",
   "id": "8c30ec68",
   "metadata": {},
   "source": [
    "#### 1. CLASS\n",
    "# syntax of class\n",
    "\n",
    "- class classname:\n",
    "   - statement1\n",
    "   - ..........\n",
    "   - statementn"
   ]
  },
  {
   "cell_type": "markdown",
   "id": "d4efb26d",
   "metadata": {},
   "source": [
    "#### 2.OBJECT (object  creation)\n",
    "- objectname=classname"
   ]
  },
  {
   "cell_type": "markdown",
   "id": "6b151afb",
   "metadata": {},
   "source": [
    "- def functionname():\n",
    "    - statements"
   ]
  },
  {
   "cell_type": "markdown",
   "id": "a8f04bf3",
   "metadata": {},
   "source": [
    "#### 3.METHOD\n",
    "- class classname:\n",
    "    \n",
    "    - def methodname():# defining a method"
   ]
  },
  {
   "cell_type": "markdown",
   "id": "513bbea6",
   "metadata": {},
   "source": [
    "#### 4.CONSTRUCTOR \n",
    "- class classname:\n",
    "    - def _init_():"
   ]
  },
  {
   "cell_type": "markdown",
   "id": "b227d613",
   "metadata": {},
   "source": [
    "#### 5.INHERITANCE\n",
    "- class classname:\n",
    "    - statements\n",
    "- class classname1(classname):\n",
    "    - statements\n",
    "    "
   ]
  },
  {
   "cell_type": "code",
   "execution_count": 12,
   "id": "2e581269",
   "metadata": {},
   "outputs": [],
   "source": [
    "# class\n",
    "class student: #class\n",
    "    srollno=542\n",
    "    sname=\"harsha\"\n",
    "    sbranch=\"cse\"\n",
    "    \n",
    "    def show(self): #method\n",
    "        print(\"roll no\",self.srollno)\n",
    "        print(\"name\",self.sname)\n",
    "        print(\"branch\",self.sbranch)"
   ]
  },
  {
   "cell_type": "code",
   "execution_count": 13,
   "id": "d4ad84e6",
   "metadata": {},
   "outputs": [],
   "source": [
    "s1=student()"
   ]
  },
  {
   "cell_type": "code",
   "execution_count": 14,
   "id": "7c1c8ae2",
   "metadata": {},
   "outputs": [
    {
     "name": "stdout",
     "output_type": "stream",
     "text": [
      "roll no 542\n",
      "name harsha\n",
      "branch cse\n"
     ]
    }
   ],
   "source": [
    "s1.show()"
   ]
  },
  {
   "cell_type": "code",
   "execution_count": 15,
   "id": "0273a433",
   "metadata": {},
   "outputs": [
    {
     "name": "stdout",
     "output_type": "stream",
     "text": [
      "harsha\n"
     ]
    }
   ],
   "source": [
    "print(s1.sname)"
   ]
  },
  {
   "cell_type": "code",
   "execution_count": 16,
   "id": "2d81b4cf",
   "metadata": {},
   "outputs": [
    {
     "name": "stdout",
     "output_type": "stream",
     "text": [
      "542\n"
     ]
    }
   ],
   "source": [
    "print(s1.srollno)"
   ]
  },
  {
   "cell_type": "code",
   "execution_count": 17,
   "id": "9e826dfa",
   "metadata": {},
   "outputs": [
    {
     "name": "stdout",
     "output_type": "stream",
     "text": [
      "cse\n"
     ]
    }
   ],
   "source": [
    "print(s1.sbranch)"
   ]
  },
  {
   "cell_type": "markdown",
   "id": "a639f116",
   "metadata": {},
   "source": [
    "#### constructor---> special method (function)\n",
    "#### init()\n",
    "    1. parameterized-->a conductor with parameters\n",
    "    2. non parameterized--> conductors without parameters"
   ]
  },
  {
   "cell_type": "code",
   "execution_count": 18,
   "id": "4adf4b07",
   "metadata": {},
   "outputs": [],
   "source": [
    "# bASIC\n",
    "class student: #class\n",
    "    def __init__ (self,name,roll,branch):\n",
    "        self.name=name\n",
    "        self.roll=roll\n",
    "        self.branch=branch\n",
    "    def display(self): #method\n",
    "        print(\"roll no\",self.roll)\n",
    "        print(\"name\",self.name)\n",
    "        print(\"branch\",self.branch)"
   ]
  },
  {
   "cell_type": "code",
   "execution_count": 19,
   "id": "85461d77",
   "metadata": {},
   "outputs": [],
   "source": [
    "st=student(\"Harsha\",542,\"Cse\")"
   ]
  },
  {
   "cell_type": "code",
   "execution_count": 20,
   "id": "452c7ea4",
   "metadata": {},
   "outputs": [
    {
     "name": "stdout",
     "output_type": "stream",
     "text": [
      "roll no 542\n",
      "name Harsha\n",
      "branch Cse\n"
     ]
    }
   ],
   "source": [
    "st.display()"
   ]
  },
  {
   "cell_type": "code",
   "execution_count": 21,
   "id": "8a573e06",
   "metadata": {},
   "outputs": [],
   "source": [
    "# parameterized\n",
    "class A:\n",
    "    def __init__(self,a,b):\n",
    "        print(\"wel to parameterized constructor\")\n",
    "        self.a=a\n",
    "        self.b=b\n",
    "    def add(self):\n",
    "        print(\"result is:\",self.a+self.b)\n",
    "        "
   ]
  },
  {
   "cell_type": "code",
   "execution_count": 22,
   "id": "5f013c46",
   "metadata": {},
   "outputs": [
    {
     "name": "stdout",
     "output_type": "stream",
     "text": [
      "wel to parameterized constructor\n"
     ]
    }
   ],
   "source": [
    "a1=A(5,7)"
   ]
  },
  {
   "cell_type": "code",
   "execution_count": 23,
   "id": "67faea5e",
   "metadata": {},
   "outputs": [
    {
     "name": "stdout",
     "output_type": "stream",
     "text": [
      "result is: 12\n"
     ]
    }
   ],
   "source": [
    "a1.add()"
   ]
  },
  {
   "cell_type": "code",
   "execution_count": 24,
   "id": "361a95a3",
   "metadata": {},
   "outputs": [
    {
     "name": "stdout",
     "output_type": "stream",
     "text": [
      "wel to parameterized constructor\n"
     ]
    }
   ],
   "source": [
    "a2 = A(\"ap\",\"python\")"
   ]
  },
  {
   "cell_type": "code",
   "execution_count": 25,
   "id": "a1019eb4",
   "metadata": {},
   "outputs": [
    {
     "name": "stdout",
     "output_type": "stream",
     "text": [
      "result is: appython\n"
     ]
    }
   ],
   "source": [
    "a2.add()"
   ]
  },
  {
   "cell_type": "code",
   "execution_count": 26,
   "id": "8d0e2959",
   "metadata": {},
   "outputs": [],
   "source": [
    "# non parameterized\n",
    "class B:\n",
    "    def __init__(self):\n",
    "        print(\"welcome to non parameterized\")\n",
    "    def mul(self,n,n1):\n",
    "        print(\"mul is:\",n*n1)"
   ]
  },
  {
   "cell_type": "code",
   "execution_count": 27,
   "id": "f8cfc91c",
   "metadata": {
    "scrolled": true
   },
   "outputs": [
    {
     "name": "stdout",
     "output_type": "stream",
     "text": [
      "welcome to non parameterized\n"
     ]
    }
   ],
   "source": [
    "b=B()"
   ]
  },
  {
   "cell_type": "code",
   "execution_count": 28,
   "id": "8a1aef54",
   "metadata": {
    "scrolled": true
   },
   "outputs": [
    {
     "name": "stdout",
     "output_type": "stream",
     "text": [
      "mul is: 30\n"
     ]
    }
   ],
   "source": [
    "b.mul(5,6)"
   ]
  },
  {
   "cell_type": "code",
   "execution_count": 29,
   "id": "b9281aa5",
   "metadata": {},
   "outputs": [
    {
     "name": "stdout",
     "output_type": "stream",
     "text": [
      "mul is: 135\n"
     ]
    }
   ],
   "source": [
    "b.mul(3,45)"
   ]
  },
  {
   "cell_type": "code",
   "execution_count": 30,
   "id": "50efff82",
   "metadata": {},
   "outputs": [],
   "source": [
    "# multiple constructors\n",
    "class multiple:\n",
    "    def __init__ (self):\n",
    "        print(\"first cons\")\n",
    "    def __init__ (self):\n",
    "        print(\"second cons\")"
   ]
  },
  {
   "cell_type": "code",
   "execution_count": 31,
   "id": "da65c20a",
   "metadata": {},
   "outputs": [
    {
     "name": "stdout",
     "output_type": "stream",
     "text": [
      "second cons\n"
     ]
    }
   ],
   "source": [
    "m=multiple()"
   ]
  },
  {
   "cell_type": "markdown",
   "id": "7c74a5ba",
   "metadata": {},
   "source": [
    "#### python built_in class functions\n",
    "- 1.getattr()-->for getting attribute value from class\n",
    "    - we have to give 2 parameters\n",
    "        - 1.objectname\n",
    "        - 2.attributename  \n",
    "- 2.setattr()-->for assigning new value to attribute\n",
    "    - we have 3 parameters\n",
    "        - 1.objectname\n",
    "        - 2.attribute\n",
    "        - 3.new value\n",
    "- 3.delattr()-->we can delete attribute from the class\n",
    "    - we have 2 arguments\n",
    "        - objectname\n",
    "        - attributename\n",
    "- 4.hasattr()-->it returns TRUE if attribute is existed\n",
    "    - 2 arguments\n",
    "        - objectname\n",
    "        - attributename"
   ]
  },
  {
   "cell_type": "code",
   "execution_count": 60,
   "id": "69848507",
   "metadata": {},
   "outputs": [],
   "source": [
    "class college:\n",
    "    def __init__ (self,c_name,c_code,c_loc):\n",
    "        self.c_name=c_name\n",
    "        self.c_code=c_code\n",
    "        self.c_loc=c_loc"
   ]
  },
  {
   "cell_type": "code",
   "execution_count": 61,
   "id": "51e0aa61",
   "metadata": {},
   "outputs": [],
   "source": [
    "c=college(\"kits\",1,\"guntur\")"
   ]
  },
  {
   "cell_type": "code",
   "execution_count": 62,
   "id": "ff953aa1",
   "metadata": {},
   "outputs": [
    {
     "name": "stdout",
     "output_type": "stream",
     "text": [
      "kits\n",
      "guntur\n"
     ]
    }
   ],
   "source": [
    "print(getattr(c,\"c_name\"))\n",
    "print(getattr(c,\"c_loc\"))"
   ]
  },
  {
   "cell_type": "code",
   "execution_count": 63,
   "id": "354dde99",
   "metadata": {},
   "outputs": [],
   "source": [
    "setattr(c,\"c_name\",\"kkr & ksr\")"
   ]
  },
  {
   "cell_type": "code",
   "execution_count": 64,
   "id": "c21a57d7",
   "metadata": {},
   "outputs": [
    {
     "name": "stdout",
     "output_type": "stream",
     "text": [
      "kkr & ksr\n",
      "guntur\n"
     ]
    }
   ],
   "source": [
    "print(getattr(c,\"c_name\"))\n",
    "print(getattr(c,\"c_loc\"))"
   ]
  },
  {
   "cell_type": "code",
   "execution_count": 65,
   "id": "77dd6e76",
   "metadata": {},
   "outputs": [
    {
     "name": "stdout",
     "output_type": "stream",
     "text": [
      "1\n"
     ]
    }
   ],
   "source": [
    "print(getattr(c,\"c_code\"))"
   ]
  },
  {
   "cell_type": "code",
   "execution_count": 66,
   "id": "7340573d",
   "metadata": {},
   "outputs": [],
   "source": [
    "delattr(c,\"c_code\")\n",
    "# c_code is deleted so can be displayed if we use gerattr"
   ]
  },
  {
   "cell_type": "code",
   "execution_count": 71,
   "id": "670ad85b",
   "metadata": {},
   "outputs": [
    {
     "name": "stdout",
     "output_type": "stream",
     "text": [
      "True\n"
     ]
    }
   ],
   "source": [
    "print(hasattr(c,\"c_loc\"))# it is there so true"
   ]
  },
  {
   "cell_type": "code",
   "execution_count": 72,
   "id": "dfb4a1b3",
   "metadata": {},
   "outputs": [
    {
     "name": "stdout",
     "output_type": "stream",
     "text": [
      "False\n"
     ]
    }
   ],
   "source": [
    "print(hasattr(c,\"c_code\"))# it is deleted so false"
   ]
  },
  {
   "cell_type": "code",
   "execution_count": null,
   "id": "a7b1b1a2",
   "metadata": {},
   "outputs": [],
   "source": []
  }
 ],
 "metadata": {
  "kernelspec": {
   "display_name": "Python 3",
   "language": "python",
   "name": "python3"
  },
  "language_info": {
   "codemirror_mode": {
    "name": "ipython",
    "version": 3
   },
   "file_extension": ".py",
   "mimetype": "text/x-python",
   "name": "python",
   "nbconvert_exporter": "python",
   "pygments_lexer": "ipython3",
   "version": "3.8.3"
  }
 },
 "nbformat": 4,
 "nbformat_minor": 5
}
