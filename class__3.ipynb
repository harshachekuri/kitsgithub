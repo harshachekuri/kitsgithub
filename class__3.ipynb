{
 "cells": [
  {
   "cell_type": "code",
   "execution_count": 129,
   "id": "0aa4042e",
   "metadata": {},
   "outputs": [
    {
     "name": "stdout",
     "output_type": "stream",
     "text": [
      "login successs\n"
     ]
    }
   ],
   "source": [
    "user=\"harshachekuri2021@gmail.com\"\n",
    "pwd=8008378783\n",
    "username=\"harshachekuri2021@gmail.com\"\n",
    "password=8008378783\n",
    "#take by input\n",
    "if user==username:\n",
    "    if pwd==password:\n",
    "        print (\"login successs\")\n",
    "else:\n",
    "    print (\"failed to login\")"
   ]
  },
  {
   "cell_type": "markdown",
   "id": "8ea59f66",
   "metadata": {},
   "source": [
    "# list"
   ]
  },
  {
   "cell_type": "code",
   "execution_count": 7,
   "id": "b8c401ca",
   "metadata": {},
   "outputs": [
    {
     "name": "stdout",
     "output_type": "stream",
     "text": [
      "['__add__', '__class__', '__contains__', '__delattr__', '__delitem__', '__dir__', '__doc__', '__eq__', '__format__', '__ge__', '__getattribute__', '__getitem__', '__gt__', '__hash__', '__iadd__', '__imul__', '__init__', '__init_subclass__', '__iter__', '__le__', '__len__', '__lt__', '__mul__', '__ne__', '__new__', '__reduce__', '__reduce_ex__', '__repr__', '__reversed__', '__rmul__', '__setattr__', '__setitem__', '__sizeof__', '__str__', '__subclasshook__', 'append', 'clear', 'copy', 'count', 'extend', 'index', 'insert', 'pop', 'remove', 'reverse', 'sort']\n"
     ]
    }
   ],
   "source": [
    "#list\n",
    "print(dir(list))"
   ]
  },
  {
   "cell_type": "code",
   "execution_count": 8,
   "id": "8e2e8b57",
   "metadata": {},
   "outputs": [
    {
     "name": "stdout",
     "output_type": "stream",
     "text": [
      "<class 'list'>\n"
     ]
    }
   ],
   "source": [
    "#append (adding  an element to list)\n",
    "l=[1,2,3,4,5]\n",
    "print (type(l))"
   ]
  },
  {
   "cell_type": "code",
   "execution_count": 15,
   "id": "d0f88fe3",
   "metadata": {},
   "outputs": [
    {
     "name": "stdout",
     "output_type": "stream",
     "text": [
      "[1, 2, 3, 4, 5, 6]\n"
     ]
    }
   ],
   "source": [
    "l=[1,2,3,4,5]\n",
    "l.append(6)\n",
    "print(l)\n"
   ]
  },
  {
   "cell_type": "code",
   "execution_count": 17,
   "id": "368be802",
   "metadata": {},
   "outputs": [
    {
     "name": "stdout",
     "output_type": "stream",
     "text": [
      "[1, 2, 3, 4, 5, [6, 7]]\n"
     ]
    }
   ],
   "source": [
    "l=[1,2,3,4,5]\n",
    "l.append([6,7])\n",
    "print(l)"
   ]
  },
  {
   "cell_type": "code",
   "execution_count": 26,
   "id": "a1174bdf",
   "metadata": {},
   "outputs": [
    {
     "name": "stdout",
     "output_type": "stream",
     "text": [
      "[1, 2, 3, 4, 5, 7, 9]\n",
      "9\n",
      "9\n"
     ]
    }
   ],
   "source": [
    "l=[1,2,3,4,5]\n",
    "l.extend([7,9])\n",
    "print (l)\n",
    "print (l[-1])#or if append l[5]\n",
    "print (l[6])"
   ]
  },
  {
   "cell_type": "code",
   "execution_count": 27,
   "id": "ce5f8e8c",
   "metadata": {
    "scrolled": true
   },
   "outputs": [
    {
     "name": "stdout",
     "output_type": "stream",
     "text": [
      "[8, 9]\n",
      "[8, 9]\n",
      "8\n",
      "9\n"
     ]
    }
   ],
   "source": [
    "l=[1,2,3,4,5,6,7,]\n",
    "l.append([8,9])\n",
    "print (l[-1])\n",
    "print (l[7])\n",
    "# if l[8] gives error\n",
    "print (l[-1][0])\n",
    "print (l[7][1])"
   ]
  },
  {
   "cell_type": "code",
   "execution_count": 32,
   "id": "6465db57",
   "metadata": {},
   "outputs": [
    {
     "name": "stdout",
     "output_type": "stream",
     "text": [
      "[0, 1, 2, 3, 4, 5, 6, 7, [8, 9]]\n",
      "[0, 1, 2, 3, 4, 5, 6, 7, [8, 9]]\n",
      "[0, 1, 2, 3, 4]\n",
      "[5, 6, 7, [8, 9]]\n"
     ]
    }
   ],
   "source": [
    "l=[0,1,2,3,4,5,6,7]\n",
    "l.append([8,9])\n",
    "print (l)\n",
    "print (l[:])\n",
    "print (l[:5])\n",
    "print (l[5:])\n"
   ]
  },
  {
   "cell_type": "code",
   "execution_count": 35,
   "id": "3cab66e5",
   "metadata": {},
   "outputs": [
    {
     "name": "stdout",
     "output_type": "stream",
     "text": [
      "2\n"
     ]
    }
   ],
   "source": [
    "l=[2,4,6,8,10]\n",
    "#to know index possition\n",
    "x=l.index(6)\n",
    "print (x)\n"
   ]
  },
  {
   "cell_type": "code",
   "execution_count": 39,
   "id": "5ce7511e",
   "metadata": {},
   "outputs": [
    {
     "name": "stdout",
     "output_type": "stream",
     "text": [
      "[2, 4, 5, 6, 8, 10]\n"
     ]
    }
   ],
   "source": [
    "l=[2,4,6,8,10]\n",
    "#(index position , element)\n",
    "l.insert(2,5)\n",
    "print (l)"
   ]
  },
  {
   "cell_type": "code",
   "execution_count": 45,
   "id": "0c2b5e27",
   "metadata": {},
   "outputs": [
    {
     "name": "stdout",
     "output_type": "stream",
     "text": [
      "[1, 2, 3, 4]\n"
     ]
    }
   ],
   "source": [
    "#pop=to delete element\n",
    "l=[1,2,3,4,5]\n",
    "l.pop()#by default deletes last element\n",
    "print (l)"
   ]
  },
  {
   "cell_type": "code",
   "execution_count": 49,
   "id": "85551e2a",
   "metadata": {},
   "outputs": [
    {
     "name": "stdout",
     "output_type": "stream",
     "text": [
      "[1, 3, 4, 6]\n"
     ]
    }
   ],
   "source": [
    "#pop=delete by index\n",
    "l=[1,3,4,5,6]\n",
    "l.pop(3)\n",
    "print (l)"
   ]
  },
  {
   "cell_type": "code",
   "execution_count": 50,
   "id": "aac01c5d",
   "metadata": {},
   "outputs": [
    {
     "name": "stdout",
     "output_type": "stream",
     "text": [
      "[1, 3, 4, 5]\n"
     ]
    }
   ],
   "source": [
    "#remove=delete by element\n",
    "l=[1,2,3,4,5]\n",
    "l.remove(2)#not indexxxxx\n",
    "print (l)"
   ]
  },
  {
   "cell_type": "code",
   "execution_count": 56,
   "id": "ca32bad5",
   "metadata": {
    "scrolled": true
   },
   "outputs": [
    {
     "name": "stdout",
     "output_type": "stream",
     "text": [
      "5\n",
      "[1, 2, 3, 4]\n",
      "1\n",
      "[2, 3, 4]\n",
      "None\n",
      "[2, 4]\n"
     ]
    }
   ],
   "source": [
    "l=[1,2,3,4,5]\n",
    "print (l.pop())\n",
    "print (l)\n",
    "print (l.pop(0))\n",
    "print (l)\n",
    "print (l.remove(3))\n",
    "print (l)"
   ]
  },
  {
   "cell_type": "code",
   "execution_count": 59,
   "id": "a197d96b",
   "metadata": {},
   "outputs": [
    {
     "name": "stdout",
     "output_type": "stream",
     "text": [
      "[5, 6, 4, 7, 3, 8, 2, 9, 1]\n"
     ]
    }
   ],
   "source": [
    "l=[1,9,2,8,3,7,4,6,5]\n",
    "l.reverse()\n",
    "print (l)"
   ]
  },
  {
   "cell_type": "code",
   "execution_count": 66,
   "id": "37ccbad6",
   "metadata": {},
   "outputs": [
    {
     "name": "stdout",
     "output_type": "stream",
     "text": [
      "[1, 2, 3, 4, 5, 6, 7, 8, 9]\n"
     ]
    }
   ],
   "source": [
    "l=[1,9,2,8,3,7,4,6,5]\n",
    "(l.sort())\n",
    "print (l)"
   ]
  },
  {
   "cell_type": "code",
   "execution_count": 75,
   "id": "81f8e4f1",
   "metadata": {},
   "outputs": [],
   "source": [
    "#l=[1,3,4,56,7,87]\n",
    "#(l.sort(reverse= true))\n",
    "#print (l)"
   ]
  },
  {
   "cell_type": "code",
   "execution_count": 72,
   "id": "c762fcf4",
   "metadata": {
    "scrolled": true
   },
   "outputs": [
    {
     "name": "stdout",
     "output_type": "stream",
     "text": [
      "2\n"
     ]
    }
   ],
   "source": [
    "#count \n",
    "l=[1,23,3,3,25,5,5,4]\n",
    "print (l.count(3))"
   ]
  },
  {
   "cell_type": "code",
   "execution_count": 81,
   "id": "07bd76a7",
   "metadata": {},
   "outputs": [
    {
     "name": "stdout",
     "output_type": "stream",
     "text": [
      "[1, 3, 5, 7, 9]\n",
      "[1, 3, 5, 7, 9]\n"
     ]
    }
   ],
   "source": [
    "#copy \n",
    "L1=[1,3,5,7,9]\n",
    "L2=L1\n",
    "print (L2)\n",
    "L3=L2#L2 = L3 GIVES ERROR\n",
    "print (L3)"
   ]
  },
  {
   "cell_type": "code",
   "execution_count": 84,
   "id": "603401f5",
   "metadata": {},
   "outputs": [
    {
     "name": "stdout",
     "output_type": "stream",
     "text": [
      "[]\n"
     ]
    }
   ],
   "source": [
    "#clear \n",
    "L=[1,2,3,4,5,6,7]\n",
    "L.clear()\n",
    "print (L)"
   ]
  },
  {
   "cell_type": "code",
   "execution_count": 86,
   "id": "ad112506",
   "metadata": {},
   "outputs": [
    {
     "name": "stdout",
     "output_type": "stream",
     "text": [
      "[]\n"
     ]
    }
   ],
   "source": [
    "#clear\n",
    "l=[1,2,3,4,5,67]\n",
    "l.clear()# if given 4 or 5....ERROR\n",
    "print (l)"
   ]
  },
  {
   "cell_type": "code",
   "execution_count": 93,
   "id": "af3a8a04",
   "metadata": {},
   "outputs": [
    {
     "name": "stdout",
     "output_type": "stream",
     "text": [
      "0\n",
      "1\n",
      "2\n",
      "3\n",
      "4\n",
      "5\n",
      "6\n",
      "7\n",
      "8\n",
      "9\n",
      "10\n"
     ]
    }
   ],
   "source": [
    "#for \n",
    "for i in range (0,11):\n",
    "    print (i)\n"
   ]
  },
  {
   "cell_type": "code",
   "execution_count": 98,
   "id": "db3a7150",
   "metadata": {},
   "outputs": [
    {
     "name": "stdout",
     "output_type": "stream",
     "text": [
      "0 1 2 3 4 5 6 7 8 9 "
     ]
    }
   ],
   "source": [
    "for i in range (0,10):\n",
    "    print (i,end=\" \")"
   ]
  },
  {
   "cell_type": "code",
   "execution_count": 106,
   "id": "643d6d70",
   "metadata": {},
   "outputs": [
    {
     "name": "stdout",
     "output_type": "stream",
     "text": [
      "[0, 1, 2, 3, 4, 5, 6, 7, 8, 9, 10]\n"
     ]
    }
   ],
   "source": [
    "#o/p=[1,2,3,4,5,6,7,8,9,10]\n",
    "l=[]\n",
    "for i in range (0,11):\n",
    "    l.append(i)\n",
    "print (l)"
   ]
  },
  {
   "cell_type": "code",
   "execution_count": 110,
   "id": "96c19cc3",
   "metadata": {},
   "outputs": [
    {
     "name": "stdout",
     "output_type": "stream",
     "text": [
      "[2, 4, 6, 8, 10, 12, 14, 16, 18, 20, 22, 24, 26, 28, 30, 32, 34, 36, 38, 40, 42, 44, 46, 48, 50]\n"
     ]
    }
   ],
   "source": [
    "#[2,4,6,.....,50]question is to print o/p\n",
    "#for i in range (2,51,2):\n",
    "#   print (i,end=\" \")\n",
    "l=[]\n",
    "for i in  range (2,51,2):\n",
    "    l.append(i)\n",
    "print (l)"
   ]
  },
  {
   "cell_type": "code",
   "execution_count": 113,
   "id": "fa338a8b",
   "metadata": {},
   "outputs": [
    {
     "name": "stdout",
     "output_type": "stream",
     "text": [
      "[2, 4, 6, 8, 10, 12, 14, 16, 18, 20, 22, 24, 26, 28, 30, 32, 34, 36, 38, 40, 42, 44, 46, 48, 50]\n"
     ]
    }
   ],
   "source": [
    "l=[]\n",
    "for i in range (1,51):\n",
    "    if i%2==0:\n",
    "        l.append(i)\n",
    "print (l)"
   ]
  },
  {
   "cell_type": "code",
   "execution_count": 119,
   "id": "bbeb120d",
   "metadata": {},
   "outputs": [
    {
     "name": "stdout",
     "output_type": "stream",
     "text": [
      "65\n",
      "90\n",
      "A\n",
      "Z\n"
     ]
    }
   ],
   "source": [
    "#ASCII\n",
    "print (ord(\"A\"))\n",
    "print (ord(\"Z\"))\n",
    "print (chr(65))\n",
    "print (chr(90))\n"
   ]
  },
  {
   "cell_type": "code",
   "execution_count": 124,
   "id": "b7cb26da",
   "metadata": {},
   "outputs": [
    {
     "name": "stdout",
     "output_type": "stream",
     "text": [
      "[65, 66, 67, 68, 69, 70, 71, 72, 73, 74, 75, 76, 77, 78, 79, 80, 81, 82, 83, 84, 85, 86, 87, 88, 89, 90]\n"
     ]
    }
   ],
   "source": [
    "# print using ascii\n",
    "l=[]\n",
    "for i in range(ord(\"A\"),ord(\"Z\")+1):\n",
    "    l.append(i)\n",
    "print (l)"
   ]
  },
  {
   "cell_type": "code",
   "execution_count": 128,
   "id": "564e2055",
   "metadata": {},
   "outputs": [
    {
     "name": "stdout",
     "output_type": "stream",
     "text": [
      "66 ---> B\n",
      "68 ---> D\n",
      "70 ---> F\n",
      "72 ---> H\n",
      "74 ---> J\n",
      "76 ---> L\n",
      "78 ---> N\n",
      "80 ---> P\n",
      "82 ---> R\n",
      "84 ---> T\n",
      "86 ---> V\n",
      "88 ---> X\n"
     ]
    }
   ],
   "source": [
    "#print following \n",
    "for i in range (ord(\"A\"),ord('Z')):\n",
    "    if i%2==0:\n",
    "        print(i,\"--->\",chr(i))"
   ]
  },
  {
   "cell_type": "markdown",
   "id": "c2baa79d",
   "metadata": {},
   "source": [
    "# tupple"
   ]
  },
  {
   "cell_type": "code",
   "execution_count": 131,
   "id": "ab37d76e",
   "metadata": {},
   "outputs": [
    {
     "name": "stdout",
     "output_type": "stream",
     "text": [
      "<class 'tuple'>\n"
     ]
    }
   ],
   "source": [
    "#tupple \n",
    "a=()\n",
    "print (type(a))"
   ]
  },
  {
   "cell_type": "code",
   "execution_count": 133,
   "id": "8e2f6d5c",
   "metadata": {},
   "outputs": [
    {
     "name": "stdout",
     "output_type": "stream",
     "text": [
      "(1, 2, 3, 4, 5, 6, 7, 8)\n"
     ]
    }
   ],
   "source": [
    "a1=(1,2,3,4)\n",
    "a2=(5,6,7,8)\n",
    "print (a1+a2)"
   ]
  },
  {
   "cell_type": "code",
   "execution_count": 136,
   "id": "798ebbde",
   "metadata": {},
   "outputs": [],
   "source": [
    "#a=()\n",
    "#print(dir(tupple))"
   ]
  },
  {
   "cell_type": "code",
   "execution_count": 140,
   "id": "7a88755a",
   "metadata": {},
   "outputs": [
    {
     "name": "stdout",
     "output_type": "stream",
     "text": [
      "(1, 2)\n",
      "<class 'tuple'>\n"
     ]
    }
   ],
   "source": [
    "t=(1,2)\n",
    "print (t)\n",
    "t1=list(t)\n",
    "print (type (t))"
   ]
  },
  {
   "cell_type": "code",
   "execution_count": 144,
   "id": "0e856581",
   "metadata": {},
   "outputs": [
    {
     "name": "stdout",
     "output_type": "stream",
     "text": [
      "1 2 3 4 5 \n",
      "['1', '2', '3', '4', '5']\n"
     ]
    }
   ],
   "source": [
    "a=input ().split()#GIVES STRING FORMAT\n",
    "print(a)"
   ]
  },
  {
   "cell_type": "code",
   "execution_count": 148,
   "id": "64443789",
   "metadata": {},
   "outputs": [
    {
     "name": "stdout",
     "output_type": "stream",
     "text": [
      "5\n",
      "1\n"
     ]
    }
   ],
   "source": [
    "t=(1,2,3,4,5)\n",
    "print (max(t))\n",
    "print (min(t))"
   ]
  },
  {
   "cell_type": "code",
   "execution_count": 168,
   "id": "fac743d8",
   "metadata": {},
   "outputs": [
    {
     "name": "stdout",
     "output_type": "stream",
     "text": [
      "(2, 9, 8, 5, 6, 7, 8, 9, 10, 2)\n",
      "8\n",
      "2\n"
     ]
    }
   ],
   "source": [
    "#asssignment\n",
    "#(2,9,8,5,6,7,8,9,10,2)\n",
    "#create 1 tupple with 10 numbers\n",
    "#print list of squares of elements in the tupple\n",
    "#convert list to tupple \n",
    "#find the maximam element index pissition\n",
    "#find the count of min value\n",
    "t=(2,9,8,5,6,7,8,9,10,2)\n",
    "m=[]\n",
    "for i in t :\n",
    "    m.append(i*i)\n",
    "m=tuple(t)\n",
    "print (m)\n",
    "print (m.index(max(m)))\n",
    "print (m.count(min(m)))"
   ]
  },
  {
   "cell_type": "code",
   "execution_count": null,
   "id": "fb494a46",
   "metadata": {},
   "outputs": [],
   "source": []
  }
 ],
 "metadata": {
  "kernelspec": {
   "display_name": "Python 3",
   "language": "python",
   "name": "python3"
  },
  "language_info": {
   "codemirror_mode": {
    "name": "ipython",
    "version": 3
   },
   "file_extension": ".py",
   "mimetype": "text/x-python",
   "name": "python",
   "nbconvert_exporter": "python",
   "pygments_lexer": "ipython3",
   "version": "3.8.3"
  }
 },
 "nbformat": 4,
 "nbformat_minor": 5
}
